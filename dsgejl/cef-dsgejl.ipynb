{
 "cells": [
  {
   "cell_type": "markdown",
   "metadata": {
    "nbpresent": {
     "id": "9f5565ef-7cd0-4521-a7a4-d2c9eda58112"
    },
    "slideshow": {
     "slide_type": "slide"
    }
   },
   "source": [
    "# Introduction to DSGE.jl\n",
    "\n",
    "Pearl Li <br> CEF 2017 <br> June 27, 2017"
   ]
  },
  {
   "cell_type": "markdown",
   "metadata": {
    "nbpresent": {
     "id": "3d5cc66a-9cbe-4c34-a654-32981d650ea3"
    },
    "slideshow": {
     "slide_type": "slide"
    }
   },
   "source": [
    "## Outline\n",
    "\n",
    "1. Notation\n",
    "2. Solving, estimating, and forecasting an existing model\n",
    "3. Model implementation"
   ]
  },
  {
   "cell_type": "markdown",
   "metadata": {
    "nbpresent": {
     "id": "70968b4e-4c80-4304-9efa-be289b744dee"
    },
    "slideshow": {
     "slide_type": "slide"
    }
   },
   "source": [
    "## Notation"
   ]
  },
  {
   "cell_type": "markdown",
   "metadata": {
    "nbpresent": {
     "id": "ef3f58a3-4127-4d7c-8c95-99dbfb058737"
    },
    "slideshow": {
     "slide_type": "slide"
    }
   },
   "source": [
    "- $y_t$ is a vector of observables at time $t$\n",
    "- $s_t$ is a vector of states, including expectations of future states and lags\n",
    "- $\\epsilon_t$ is a vector of exogenous shocks\n",
    "- $\\eta_t$ is a vector of rational expectations errors\n",
    "- $\\theta$ is a vector of parameters"
   ]
  },
  {
   "cell_type": "markdown",
   "metadata": {
    "nbpresent": {
     "id": "a507d41c-0c6a-4a50-886a-3a9ecf2cdc1d"
    },
    "slideshow": {
     "slide_type": "slide"
    }
   },
   "source": [
    "Equilibrium conditions\n",
    "\n",
    "$$\\Gamma_0(\\theta) s_t = \\Gamma_1(\\theta) s_{t-1} + \\Psi(\\theta) \\epsilon_t + \\Pi(\\theta) \\eta_t + C(\\theta)$$\n",
    "\n",
    "which are solved to give the state-space representation\n",
    "\n",
    "$$\n",
    "\\begin{align*}\n",
    "s_t &= T(\\theta) s_{t-1} + R(\\theta) \\epsilon_t + C(\\theta) \\\\\n",
    "y_t &= Z(\\theta) s_t + D(\\theta)\n",
    "\\end{align*}\n",
    "$$"
   ]
  },
  {
   "cell_type": "markdown",
   "metadata": {
    "collapsed": true,
    "nbpresent": {
     "id": "9a8dcd28-44cd-4be0-a42b-2e27cc688fd1"
    },
    "slideshow": {
     "slide_type": "slide"
    }
   },
   "source": [
    "## Using Existing Models"
   ]
  },
  {
   "cell_type": "markdown",
   "metadata": {
    "nbpresent": {
     "id": "447fd38e-3cc5-4d9a-8b30-f0fd51ca47e5"
    },
    "slideshow": {
     "slide_type": "slide"
    }
   },
   "source": [
    "Let's construct an instance of the following (log-linearized) three-equation New Keynesian model:\n",
    "\n",
    "$$\n",
    "\\begin{align*}\n",
    "y_t - g_t &= -\\frac{1}{\\tau} R_t + \\frac{1}{1 + \\tau} \\mathbb{E} \\pi_{t+1} + \\mathbb{E}(y_{t+1} - g_{t+1}) + \\frac{1}{\\tau} \\mathbb{E} z_{t+1} \\\\\n",
    "\\pi_t &= \\beta \\mathbb{E} \\pi_{t+1} + \\kappa (y_t - g_t) \\\\\n",
    "R_t &= \\rho_R R_{t-1} + (1 - \\rho_R) [\\psi_1 \\pi_t + \\psi_2 (y_t - g_t)] + \\epsilon_{R,t}\n",
    "\\end{align*}\n",
    "$$"
   ]
  },
  {
   "cell_type": "markdown",
   "metadata": {
    "nbpresent": {
     "id": "112b87a7-5855-4601-8b20-e7bac95a5e55"
    },
    "slideshow": {
     "slide_type": "slide"
    }
   },
   "source": [
    "where\n",
    "\n",
    "$$\n",
    "\\begin{align*}\n",
    "s_t &= [y_t, \\pi_t, R_t, y_{t-1}, g_t, z_t, \\mathbb{E} y_{t+1}, \\mathbb{E} \\pi_{t+1}] \\\\\n",
    "y_t &= [\\text{Real per-capita GDP growth}_t, \\text{CPI inflation}_t, \\text{Nominal FFR}_t]\n",
    "\\end{align*}\n",
    "$$\n",
    "\n",
    "are the state and observable vectors respectively."
   ]
  },
  {
   "cell_type": "code",
   "execution_count": 23,
   "metadata": {
    "collapsed": false,
    "nbpresent": {
     "id": "f7ff2ae0-8510-4ff8-bad2-e56759a681d9"
    },
    "slideshow": {
     "slide_type": "slide"
    }
   },
   "outputs": [],
   "source": [
    "using DSGE\n",
    "\n",
    "# Construct model object\n",
    "m = AnSchorfheide()\n",
    "\n",
    "# Set data vintage and initial forecast date\n",
    "m <= Setting(:data_vintage, \"170528\")\n",
    "m <= Setting(:date_forecast_start, DSGE.quartertodate(\"2017-Q2\"))\n",
    "\n",
    "# Set input and output directories\n",
    "m <= Setting(:dataroot, joinpath(pwd(), \"input_data\"))\n",
    "m <= Setting(:saveroot, pwd())"
   ]
  },
  {
   "cell_type": "code",
   "execution_count": 22,
   "metadata": {
    "collapsed": false,
    "nbpresent": {
     "id": "84a715c1-f5a8-43f7-9fb8-639074ca1e3e"
    },
    "slideshow": {
     "slide_type": "slide"
    }
   },
   "outputs": [
    {
     "data": {
      "text/plain": [
       "Dynamic Stochastic General Equilibrium Model\n",
       "no. states:             8\n",
       "no. anticipated shocks: 0\n",
       "data vintage:           170528\n",
       "description:\n",
       " Julia implementation of model defined in 'Bayesian Estimation of DSGE Models' by Sungbae An and Frank Schorfheide: AnSchorfheide, ss0\n"
      ]
     },
     "execution_count": 22,
     "metadata": {},
     "output_type": "execute_result"
    }
   ],
   "source": [
    "m"
   ]
  },
  {
   "cell_type": "markdown",
   "metadata": {
    "nbpresent": {
     "id": "64b700c2-2430-40fd-9d3d-79957f03ff00"
    },
    "slideshow": {
     "slide_type": "slide"
    }
   },
   "source": [
    "Estimate and forecast the model:"
   ]
  },
  {
   "cell_type": "code",
   "execution_count": null,
   "metadata": {
    "collapsed": true,
    "nbpresent": {
     "id": "88ca4b52-a672-460e-a46f-646fec0f2455"
    },
    "slideshow": {
     "slide_type": "-"
    }
   },
   "outputs": [],
   "source": [
    "# Find a posterior mode, sample from the posterior distribution\n",
    "estimate(m)\n",
    "\n",
    "# Add parallel workers\n",
    "my_procs = addprocs(50)\n",
    "\n",
    "# Forecast using the full distribution of parameters\n",
    "output_vars = [:forecaststates, :forecastobs]\n",
    "forecast_one(m, :full, :none, output_vars)\n",
    "means_bands_all(m, :full, :none, output_vars)\n",
    "\n",
    "# Remove parallel workers\n",
    "rmprocs(my_procs)"
   ]
  },
  {
   "cell_type": "markdown",
   "metadata": {
    "nbpresent": {
     "id": "ef0bee98-4417-4d65-b61d-2b9a9c4db3c6"
    },
    "slideshow": {
     "slide_type": "slide"
    }
   },
   "source": [
    "Since in practice estimating and forecasting the full distribution is time-consuming, we'll read in an existing posterior mode..."
   ]
  },
  {
   "cell_type": "code",
   "execution_count": 2,
   "metadata": {
    "collapsed": false,
    "nbpresent": {
     "id": "ede680d7-0978-4963-872c-0b28b9c8b28f"
    }
   },
   "outputs": [
    {
     "name": "stdout",
     "output_type": "stream",
     "text": [
      "Loaded previous mode from /Users/rcepxl10/Google Drive/frbny/cef-2017/CEF_2017_Workshop/dsgejl/output_data/an_schorfheide/ss0/estimate/raw/paramsmode_vint=170528.h5.\n"
     ]
    }
   ],
   "source": [
    "# Read in existing mode\n",
    "mode_file = rawpath(m, \"estimate\", \"paramsmode.h5\")\n",
    "specify_mode!(m, mode_file)"
   ]
  },
  {
   "cell_type": "markdown",
   "metadata": {
    "nbpresent": {
     "id": "a94029c3-bc2e-4ff0-85c1-2555c3206602"
    },
    "slideshow": {
     "slide_type": "slide"
    }
   },
   "source": [
    "... and forecast using modal parameters:"
   ]
  },
  {
   "cell_type": "code",
   "execution_count": 9,
   "metadata": {
    "collapsed": false,
    "nbpresent": {
     "id": "a245e3b8-5d31-4bcb-9a74-35cf7f133931"
    }
   },
   "outputs": [
    {
     "name": "stdout",
     "output_type": "stream",
     "text": [
      "Reading dataset /Users/rcepxl10/Google Drive/frbny/cef-2017/CEF_2017_Workshop/dsgejl/input_data/data/data_170528.csv from disk...dataset from disk valid\n"
     ]
    }
   ],
   "source": [
    "# Load data\n",
    "df = load_data(m)\n",
    "\n",
    "# Forecast using modal parameters\n",
    "output_vars = [:forecaststates, :forecastobs]\n",
    "forecast_one(m, :mode, :none, output_vars, df = df, verbose = :none)\n",
    "means_bands_all(m, :mode, :none, output_vars, verbose = :none)"
   ]
  },
  {
   "cell_type": "code",
   "execution_count": 6,
   "metadata": {
    "collapsed": false,
    "nbpresent": {
     "id": "af377c21-fd1a-4162-8adc-0fa0b9977488"
    },
    "slideshow": {
     "slide_type": "slide"
    }
   },
   "outputs": [
    {
     "data": {
      "text/plain": [
       "MeansBands\n",
       "  class: obs\n",
       "  product: forecast\n",
       "  cond: none\n",
       "  para: mode\n",
       "  dates: 2017-06-30 - 2032-03-31\n",
       "  # of variables: 3\n",
       "  bands: SubString{String}[\"50.0%\"]\n"
      ]
     },
     "execution_count": 6,
     "metadata": {},
     "output_type": "execute_result"
    }
   ],
   "source": [
    "# Read in forecasted observables\n",
    "files = get_meansbands_output_files(m, :mode, :none, output_vars)\n",
    "mb = read_mb(files[:forecastobs])"
   ]
  },
  {
   "cell_type": "code",
   "execution_count": 10,
   "metadata": {
    "collapsed": false,
    "nbpresent": {
     "id": "a288f08a-1409-45c4-897c-f9612e078445"
    }
   },
   "outputs": [
    {
     "data": {
      "text/html": [
       "<table class=\"data-frame\"><thead><tr><th></th><th>date</th><th>obs_gdp</th><th>obs_cpi</th><th>obs_nominalrate</th></tr></thead><tbody><tr><th>1</th><td>2017-06-30</td><td>1.0247711232397094</td><td>11.315390469881926</td><td>1.3139454137230606</td></tr><tr><th>2</th><td>2017-09-30</td><td>1.1903805429393177</td><td>10.103585881441024</td><td>1.6682488733822125</td></tr><tr><th>3</th><td>2017-12-31</td><td>1.301650578197866</td><td>9.28739983248088</td><td>1.905189202533021</td></tr><tr><th>4</th><td>2018-03-31</td><td>1.3762101906441782</td><td>8.734358767470773</td><td>2.063046243299559</td></tr></tbody></table>"
      ],
      "text/plain": [
       "4×4 DataFrames.DataFrame\n",
       "│ Row │ date       │ obs_gdp │ obs_cpi │ obs_nominalrate │\n",
       "├─────┼────────────┼─────────┼─────────┼─────────────────┤\n",
       "│ 1   │ 2017-06-30 │ 1.02477 │ 11.3154 │ 1.31395         │\n",
       "│ 2   │ 2017-09-30 │ 1.19038 │ 10.1036 │ 1.66825         │\n",
       "│ 3   │ 2017-12-31 │ 1.30165 │ 9.2874  │ 1.90519         │\n",
       "│ 4   │ 2018-03-31 │ 1.37621 │ 8.73436 │ 2.06305         │"
      ]
     },
     "execution_count": 10,
     "metadata": {},
     "output_type": "execute_result"
    }
   ],
   "source": [
    "# Show first four forecasted quarters\n",
    "mb.means[1:4, :]"
   ]
  },
  {
   "cell_type": "code",
   "execution_count": 21,
   "metadata": {
    "collapsed": false,
    "nbpresent": {
     "id": "3591edd3-2e94-475d-8b23-7d16d95f076f"
    },
    "slideshow": {
     "slide_type": "slide"
    }
   },
   "outputs": [
    {
     "data": {
      "text/html": [
       "<table class=\"data-frame\"><thead><tr><th></th><th>y_t</th><th>π_t</th><th>R_t</th></tr></thead><tbody><tr><th>1</th><td>0.8118952136030042</td><td>0.2350315239936612</td><td>-0.23568746149574904</td></tr><tr><th>2</th><td>0.7161825375224499</td><td>0.16661955296739286</td><td>-0.14711159658096104</td></tr><tr><th>3</th><td>0.6486366042583442</td><td>0.12011639949265084</td><td>-0.0878765142932589</td></tr><tr><th>4</th><td>0.60014568887123</td><td>0.08840842601171174</td><td>-0.048412254101624384</td></tr></tbody></table>"
      ],
      "text/plain": [
       "4×3 DataFrames.DataFrame\n",
       "│ Row │ y_t      │ π_t       │ R_t        │\n",
       "├─────┼──────────┼───────────┼────────────┤\n",
       "│ 1   │ 0.811895 │ 0.235032  │ -0.235687  │\n",
       "│ 2   │ 0.716183 │ 0.16662   │ -0.147112  │\n",
       "│ 3   │ 0.648637 │ 0.120116  │ -0.0878765 │\n",
       "│ 4   │ 0.600146 │ 0.0884084 │ -0.0484123 │"
      ]
     },
     "execution_count": 21,
     "metadata": {},
     "output_type": "execute_result"
    }
   ],
   "source": [
    "# Read in forecasted states\n",
    "mb = read_mb(files[:forecaststates])\n",
    "\n",
    "# Show first forecasted quarters of output, inflation, and interest rate\n",
    "mb.means[1:4, [:y_t, :π_t, :R_t]]"
   ]
  },
  {
   "cell_type": "markdown",
   "metadata": {
    "nbpresent": {
     "id": "c36485e1-793b-4791-9a05-2414d53bd1a1"
    },
    "slideshow": {
     "slide_type": "slide"
    }
   },
   "source": [
    "## The Model Object"
   ]
  },
  {
   "cell_type": "markdown",
   "metadata": {
    "nbpresent": {
     "id": "e3b562e9-322c-4b33-8bd8-bcba39fbaa86"
    },
    "slideshow": {
     "slide_type": "slide"
    }
   },
   "source": [
    "Subtypes of `AbstractModel` contain the following fields:"
   ]
  },
  {
   "cell_type": "code",
   "execution_count": 27,
   "metadata": {
    "collapsed": false,
    "nbpresent": {
     "id": "62fc466c-c050-4b3a-8c6f-457950add74d"
    },
    "slideshow": {
     "slide_type": "-"
    }
   },
   "outputs": [
    {
     "data": {
      "text/plain": [
       "16-element Array{Symbol,1}:\n",
       " :parameters                 \n",
       " :steady_state               \n",
       " :keys                       \n",
       " :endogenous_states          \n",
       " :exogenous_shocks           \n",
       " :expected_shocks            \n",
       " :equilibrium_conditions     \n",
       " :endogenous_states_augmented\n",
       " :observables                \n",
       " :spec                       \n",
       " :subspec                    \n",
       " :settings                   \n",
       " :test_settings              \n",
       " :rng                        \n",
       " :testing                    \n",
       " :observable_mappings        "
      ]
     },
     "execution_count": 27,
     "metadata": {},
     "output_type": "execute_result"
    }
   ],
   "source": [
    "fieldnames(m)"
   ]
  },
  {
   "cell_type": "markdown",
   "metadata": {
    "collapsed": true,
    "nbpresent": {
     "id": "7a293d5c-36a6-4bed-bd85-366cf611379b"
    },
    "slideshow": {
     "slide_type": "slide"
    }
   },
   "source": [
    "These fields include:\n",
    "\n",
    "- Vectors of time-invariant (`parameters`) and steady-state parameters (`steady_state`)\n",
    "- `Dict{Symbol, Int}`s mapping states, shocks, expectational errors, equations, or observables to indices. For example:"
   ]
  },
  {
   "cell_type": "code",
   "execution_count": 28,
   "metadata": {
    "collapsed": false,
    "nbpresent": {
     "id": "28089ee9-82a4-4fdf-bbc8-d7c566419be6"
    },
    "slideshow": {
     "slide_type": "slide"
    }
   },
   "outputs": [
    {
     "data": {
      "text/plain": [
       "Dict{Symbol,Int64} with 8 entries:\n",
       "  :y_t   => 1\n",
       "  :g_t   => 5\n",
       "  :π_t   => 2\n",
       "  :Ey_t1 => 7\n",
       "  :Eπ_t1 => 8\n",
       "  :y_t1  => 4\n",
       "  :R_t   => 3\n",
       "  :z_t   => 6"
      ]
     },
     "execution_count": 28,
     "metadata": {},
     "output_type": "execute_result"
    }
   ],
   "source": [
    "m.endogenous_states"
   ]
  },
  {
   "cell_type": "markdown",
   "metadata": {
    "nbpresent": {
     "id": "cda12a81-a64b-465c-b60d-5843b3186c73"
    },
    "slideshow": {
     "slide_type": "-"
    }
   },
   "source": [
    "`m.endogenous_states[:y_t] = 1` indicates that the first element of the state vector\n",
    "\n",
    "$$s_t = [y_t, \\pi_t, R_t, y_{t-1}, g_t, z_t, \\mathbb{E} y_{t+1}, \\mathbb{E} \\pi_{t+1}]$$\n",
    "\n",
    "is $y_t$."
   ]
  },
  {
   "cell_type": "code",
   "execution_count": 29,
   "metadata": {
    "collapsed": false,
    "nbpresent": {
     "id": "0c1b8853-8358-4e6d-a51f-a4e6b048f620"
    },
    "slideshow": {
     "slide_type": "slide"
    }
   },
   "outputs": [
    {
     "data": {
      "text/plain": [
       "Dict{Symbol,Int64} with 8 entries:\n",
       "  :eq_phillips => 2\n",
       "  :eq_mp       => 3\n",
       "  :eq_Ey       => 7\n",
       "  :eq_y_t1     => 4\n",
       "  :eq_euler    => 1\n",
       "  :eq_Eπ       => 8\n",
       "  :eq_z        => 6\n",
       "  :eq_g        => 5"
      ]
     },
     "execution_count": 29,
     "metadata": {},
     "output_type": "execute_result"
    }
   ],
   "source": [
    "m.equilibrium_conditions"
   ]
  },
  {
   "cell_type": "markdown",
   "metadata": {
    "nbpresent": {
     "id": "edce2bfa-3e5b-46f2-86de-4b6051229f9c"
    }
   },
   "source": [
    "`m.equilibrium_conditions[:eq_euler] = 1` means the first row of the equilibrium conditions\n",
    "\n",
    "$$\\Gamma_0 s_t = \\Gamma_1 s_{t-1} + \\Psi \\epsilon_t + \\Pi \\eta_t + C$$\n",
    "\n",
    "is the consumption Euler equation."
   ]
  },
  {
   "cell_type": "markdown",
   "metadata": {
    "nbpresent": {
     "id": "21da31ad-5847-42a8-8c59-28bc0b857e5c"
    },
    "slideshow": {
     "slide_type": "slide"
    }
   },
   "source": [
    "Additional fields in the model object:\n",
    "\n",
    "- Strings giving the model specification (`spec`) and subspecification (`subspec`)\n",
    "- `Dict{Symbol, Setting}`s of model settings, both for regular use (`settings`) and testing the package (`test_settings`)"
   ]
  },
  {
   "cell_type": "code",
   "execution_count": null,
   "metadata": {
    "collapsed": true,
    "nbpresent": {
     "id": "a6c0f0d4-902f-4fa3-aad1-985a28ba5a30"
    }
   },
   "outputs": [],
   "source": []
  }
 ],
 "metadata": {
  "anaconda-cloud": {},
  "celltoolbar": "Slideshow",
  "kernelspec": {
   "display_name": "Julia 0.5.0",
   "language": "julia",
   "name": "julia-0.5"
  },
  "language_info": {
   "file_extension": ".jl",
   "mimetype": "application/julia",
   "name": "julia",
   "version": "0.5.0"
  }
 },
 "nbformat": 4,
 "nbformat_minor": 2
}
