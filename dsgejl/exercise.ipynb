{
 "cells": [
  {
   "cell_type": "markdown",
   "metadata": {},
   "source": [
    "# Exercise: MA(1) Model"
   ]
  },
  {
   "cell_type": "code",
   "execution_count": 3,
   "metadata": {
    "collapsed": false
   },
   "outputs": [
    {
     "name": "stderr",
     "output_type": "stream",
     "text": [
      "\u001b[1m\u001b[34mINFO: Precompiling module FixedSizeArrays.\n",
      "\u001b[0m\u001b[1m\u001b[34mINFO: Precompiling module RecipesBase.\n",
      "\u001b[0m\u001b[1m\u001b[34mINFO: Precompiling module PlotUtils.\n",
      "\u001b[0m\u001b[1m\u001b[34mINFO: Precompiling module PlotThemes.\n",
      "\u001b[0m\u001b[1m\u001b[34mINFO: Precompiling module Showoff.\n",
      "\u001b[0m"
     ]
    }
   ],
   "source": [
    "using DSGE\n",
    "using DataFrames, DataStructures, Distributions, Plots\n",
    "include(\"util.jl\")\n",
    "\n",
    "# This file defines the MA1 type\n",
    "include(\"ma1.jl\")"
   ]
  },
  {
   "cell_type": "code",
   "execution_count": 4,
   "metadata": {
    "collapsed": false
   },
   "outputs": [
    {
     "name": "stdout",
     "output_type": "stream",
     "text": [
      "search: \u001b[1mm\u001b[22means_bands_\u001b[1ma\u001b[22mll \u001b[1mm\u001b[22meansbands_matrix_\u001b[1ma\u001b[22mll @test_\u001b[1mm\u001b[22matrix_\u001b[1ma\u001b[22mpprox_eq\n",
      "\n"
     ]
    },
    {
     "data": {
      "text/markdown": [
       "```\n",
       "MA1{T} <: AbstractModel{T}\n",
       "```\n",
       "\n",
       "Implements the following MA(1) model:\n",
       "\n",
       "```\n",
       "x_t = μ + u_t + α*u_{t-1}\n",
       "u_t ∼ N(0, σ^2)\n",
       "```\n"
      ],
      "text/plain": [
       "```\n",
       "MA1{T} <: AbstractModel{T}\n",
       "```\n",
       "\n",
       "Implements the following MA(1) model:\n",
       "\n",
       "```\n",
       "x_t = μ + u_t + α*u_{t-1}\n",
       "u_t ∼ N(0, σ^2)\n",
       "```\n"
      ]
     },
     "execution_count": 4,
     "metadata": {},
     "output_type": "execute_result"
    }
   ],
   "source": [
    "# See docstring for MA1\n",
    "?MA1"
   ]
  },
  {
   "cell_type": "code",
   "execution_count": 6,
   "metadata": {
    "collapsed": false
   },
   "outputs": [],
   "source": [
    "# Initialize MA(1) model\n",
    "m = MA1()\n",
    "\n",
    "m <= Setting(:saveroot, dirname(@__FILE__))\n",
    "m <= Setting(:date_presample_start, DSGE.quartertodate(\"2001-Q1\"))\n",
    "m <= Setting(:date_mainsample_start, DSGE.quartertodate(\"2001-Q1\"))\n",
    "m <= Setting(:date_forecast_start, DSGE.quartertodate(\"2026-Q1\"))\n",
    "m <= Setting(:n_mh_simulations, 500)\n",
    "m <= Setting(:n_mh_blocks, 10)\n",
    "m <= Setting(:n_mh_burn, 2)"
   ]
  },
  {
   "cell_type": "code",
   "execution_count": 7,
   "metadata": {
    "collapsed": false
   },
   "outputs": [
    {
     "data": {
      "text/plain": [
       "3-element Array{DSGE.AbstractParameter{Float64},1}:\n",
       " DSGE.UnscaledParameter{Float64,DSGE.Exponential}\n",
       "(:μ)\n",
       "μ: constant coefficient\n",
       "LaTeX label: \\mu\n",
       "-----------------------------\n",
       "unscaled, untransformed value:        +0.500000\n",
       "prior distribution:\n",
       "\tDistributions.Normal{Float64}(μ=0.0, σ=1.0)\n",
       "transformation for csminwel:\n",
       "\tx -> b + (1/c) * log(x-a)\n",
       "parameter is not fixed\n",
       "    \n",
       " DSGE.UnscaledParameter{Float64,DSGE.Exponential}\n",
       "(:β)\n",
       "β: coefficient on u_{t-1}\n",
       "LaTeX label: \\beta\n",
       "-----------------------------\n",
       "unscaled, untransformed value:        +0.500000\n",
       "prior distribution:\n",
       "\tDistributions.Normal{Float64}(μ=0.0, σ=1.0)\n",
       "transformation for csminwel:\n",
       "\tx -> b + (1/c) * log(x-a)\n",
       "parameter is not fixed\n",
       "\n",
       " DSGE.UnscaledParameter{Float64,DSGE.Exponential}\n",
       "(:σ)\n",
       "σ: standard deviation of u_t\n",
       "LaTeX label: \\sigma\n",
       "-----------------------------\n",
       "unscaled, untransformed value:        +0.100000\n",
       "prior distribution:\n",
       "\tDSGE.RootInverseGamma(ν=5.0, τ=0.5)\n",
       "transformation for csminwel:\n",
       "\tx -> b + (1/c) * log(x-a)\n",
       "parameter is not fixed\n",
       "    "
      ]
     },
     "execution_count": 7,
     "metadata": {},
     "output_type": "execute_result"
    }
   ],
   "source": [
    "m.parameters"
   ]
  },
  {
   "cell_type": "code",
   "execution_count": 8,
   "metadata": {
    "collapsed": false
   },
   "outputs": [
    {
     "data": {
      "text/plain": [
       "DataStructures.OrderedDict{Symbol,Int64} with 2 entries:\n",
       "  :u_t  => 1\n",
       "  :u_t1 => 2"
      ]
     },
     "execution_count": 8,
     "metadata": {},
     "output_type": "execute_result"
    }
   ],
   "source": [
    "m.endogenous_states"
   ]
  },
  {
   "cell_type": "code",
   "execution_count": 9,
   "metadata": {
    "collapsed": false
   },
   "outputs": [
    {
     "data": {
      "text/plain": [
       "DataStructures.OrderedDict{Symbol,Int64} with 1 entry:\n",
       "  :u_t => 1"
      ]
     },
     "execution_count": 9,
     "metadata": {},
     "output_type": "execute_result"
    }
   ],
   "source": [
    "m.exogenous_shocks"
   ]
  },
  {
   "cell_type": "code",
   "execution_count": 10,
   "metadata": {
    "collapsed": false
   },
   "outputs": [
    {
     "data": {
      "text/plain": [
       "DataStructures.OrderedDict{Symbol,Int64} with 1 entry:\n",
       "  :x_t => 1"
      ]
     },
     "execution_count": 10,
     "metadata": {},
     "output_type": "execute_result"
    }
   ],
   "source": [
    "m.observables"
   ]
  },
  {
   "cell_type": "markdown",
   "metadata": {},
   "source": [
    "## Exercise 1\n",
    "\n",
    "Given the following definition of `eqcond` (which returns the equilibrium condition matrices for an `MA1` model), fill in the `ZZ` and `QQ` matrices in `measurement`."
   ]
  },
  {
   "cell_type": "code",
   "execution_count": 11,
   "metadata": {
    "collapsed": true
   },
   "outputs": [],
   "source": [
    "function DSGE.eqcond(m::MA1)\n",
    "    endo = m.endogenous_states\n",
    "    exo  = m.exogenous_shocks\n",
    "    eq   = m.equilibrium_conditions\n",
    "\n",
    "    Γ0 = zeros(n_states(m), n_states(m))\n",
    "    Γ1 = zeros(n_states(m), n_states(m))\n",
    "    C  = zeros(n_states(m))\n",
    "    Ψ  = zeros(n_states(m), n_shocks_exogenous(m))\n",
    "    Π  = zeros(n_states(m), n_shocks_expectational(m))\n",
    "\n",
    "    # Γ0*s_t = Γ1*s_{t-1} + Ψ*ϵ_t + Π*η_t + C\n",
    "    # s_t = [u_t, u_{t-1}]'\n",
    "    # ϵ_t = [u_t]'\n",
    "\n",
    "    # Row 1: u_t = 0*u_{t-1} + 0*u_{t-2} + u_t\n",
    "    Γ0[eq[:eq_u_t], endo[:u_t]] = 1\n",
    "     Ψ[eq[:eq_u_t],  exo[:u_t]] = 1\n",
    "\n",
    "    # Row 2: u_{t-1} = u_{t-1} + 0 u_{t-2} + 0 u_t\n",
    "    Γ0[eq[:eq_u_t1], endo[:u_t1]] = 1\n",
    "    Γ1[eq[:eq_u_t1], endo[:u_t]]  = 1\n",
    "\n",
    "    return Γ0, Γ1, C, Ψ, Π\n",
    "end"
   ]
  },
  {
   "cell_type": "code",
   "execution_count": 12,
   "metadata": {
    "collapsed": true
   },
   "outputs": [],
   "source": [
    "function DSGE.measurement{T<:AbstractFloat}(m::MA1{T}, TTT::Matrix{T}, RRR::Matrix{T}, CCC::Vector{T};\n",
    "                                            shocks::Bool = false)\n",
    "    endo = m.endogenous_states # OrderedDict{Symbol, Int} mapping state names (e.g. `:u_t`) to indices\n",
    "    exo  = m.exogenous_shocks  # ... mapping shock names to indices\n",
    "    obs  = m.observables       # ... mapping observable names to indices\n",
    "\n",
    "    ZZ = zeros(n_observables(m), n_states(m))\n",
    "    DD = zeros(n_observables(m))\n",
    "    MM = zeros(n_observables(m), n_shocks_exogenous(m))\n",
    "    EE = zeros(n_observables(m), n_observables(m))\n",
    "    QQ = zeros(n_shocks_exogenous(m), n_shocks_exogenous(m))\n",
    "\n",
    "    # y_t = Z*s_t + D\n",
    "    # y_t = [x_t]'\n",
    "    # s_t = [u_t, u_{t-1}]'\n",
    "\n",
    "    # TODO: fill in entries of ZZ matrix\n",
    "    # x_t = μ + u_t + β*u_{t-1}\n",
    "    # DD[obs[:x_t]] = m[:μ]\n",
    "    # ZZ[obs[:x_t], ...] = ...\n",
    "\n",
    "    DD[obs[:x_t]] = m[:μ]\n",
    "    ZZ[obs[:x_t], endo[:u_t]]  = 1\n",
    "    ZZ[obs[:x_t], endo[:u_t1]] = m[:β]\n",
    "\n",
    "    # TODO: fill in entries of QQ matrix\n",
    "    # QQ[exo[:u_t], exo[:u_t]] = ...\n",
    "\n",
    "    QQ[exo[:u_t], exo[:u_t]] = m[:σ]^2\n",
    "\n",
    "    HH    = EE + MM*QQ*MM'\n",
    "    VV    = QQ*MM'\n",
    "    VVall = [[RRR*QQ*RRR' RRR*VV];\n",
    "             [VV'*RRR'    HH]]\n",
    "\n",
    "    return Measurement(ZZ, DD, QQ, EE, MM, VVall)\n",
    "end"
   ]
  },
  {
   "cell_type": "markdown",
   "metadata": {},
   "source": [
    "## Exercise 2\n",
    "\n",
    "Generate 4000 draws from the prior distribution of each parameter."
   ]
  },
  {
   "cell_type": "code",
   "execution_count": 19,
   "metadata": {
    "collapsed": false
   },
   "outputs": [
    {
     "data": {
      "text/html": [
       "true"
      ],
      "text/plain": [
       "true"
      ]
     },
     "execution_count": 19,
     "metadata": {},
     "output_type": "execute_result"
    }
   ],
   "source": [
    "# Hint: use the `rand` function, which can be called on any `Distribution`.\n",
    "dist_μ = get(m[:μ].prior)\n",
    "dist_β = get(m[:β].prior)\n",
    "dist_σ = get(m[:σ].prior)\n",
    "\n",
    "isa(dist_μ, Distribution)"
   ]
  },
  {
   "cell_type": "code",
   "execution_count": 21,
   "metadata": {
    "collapsed": true
   },
   "outputs": [],
   "source": [
    "prior_draws = zeros(4000, 3)\n",
    "for i = 1:4000\n",
    "    # TODO\n",
    "    prior_draws[i, 1] = rand(dist_μ)\n",
    "    prior_draws[i, 2] = rand(dist_β)\n",
    "    prior_draws[i, 3] = rand(dist_σ)\n",
    "end"
   ]
  },
  {
   "cell_type": "code",
   "execution_count": 32,
   "metadata": {
    "collapsed": false
   },
   "outputs": [
    {
     "name": "stderr",
     "output_type": "stream",
     "text": [
      "\u001b[1m\u001b[34mINFO: binning = auto\n",
      "\u001b[0m\u001b[1m\u001b[34mINFO: binning = auto\n",
      "\u001b[0m\u001b[1m\u001b[34mINFO: binning = auto\n",
      "\u001b[0m"
     ]
    },
    {
     "data": {
      "text/html": [
       "<script src=\"/Users/rcepxl10/.julia/v0.5/Plots/src/backends/../../deps/plotly-latest.min.js\"></script>    <div id=\"0e9b7f64-d7c3-47e3-b1c1-a6a006a1be1d\" style=\"width:600px;height:400px;\"></div>\n",
       "    <script>\n",
       "    PLOT = document.getElementById('0e9b7f64-d7c3-47e3-b1c1-a6a006a1be1d');\n",
       "    Plotly.plot(PLOT, [{\"yaxis\":\"y\",\"y\":[3.0,22.0,63.0,171.0,354.0,577.0,789.0,752.0,641.0,369.0,154.0,77.0,21.0,6.0,1.0],\"showlegend\":true,\"name\":\"\\\\mu\",\"type\":\"bar\",\"xaxis\":\"x\",\"orientation\":\"v\",\"colorbar\":{\"title\":\"\"},\"x\":[-3.25,-2.75,-2.25,-1.75,-1.25,-0.75,-0.25,0.25,0.75,1.25,1.75,2.25,2.75,3.25,3.75],\"marker\":{\"color\":\"rgba(255, 0, 0, 1.000)\"}},{\"yaxis\":\"y2\",\"y\":[1.0,4.0,23.0,81.0,171.0,335.0,593.0,753.0,761.0,635.0,391.0,162.0,64.0,20.0,5.0,1.0],\"showlegend\":true,\"name\":\"\\\\beta\",\"type\":\"bar\",\"xaxis\":\"x2\",\"orientation\":\"v\",\"colorbar\":{\"title\":\"\"},\"x\":[-3.75,-3.25,-2.75,-2.25,-1.75,-1.25,-0.75,-0.25,0.25,0.75,1.25,1.75,2.25,2.75,3.25,3.75],\"marker\":{\"color\":\"rgba(0, 0, 255, 1.000)\"}},{\"yaxis\":\"y3\",\"y\":[671.0,1813.0,933.0,335.0,130.0,50.0,27.0,14.0,10.0,6.0,2.0,3.0,3.0,0.0,1.0,1.0,0.0,0.0,0.0,0.0,0.0,0.0,0.0,0.0,0.0,0.0,1.0],\"showlegend\":true,\"name\":\"\\\\sigma\",\"type\":\"bar\",\"xaxis\":\"x3\",\"orientation\":\"v\",\"colorbar\":{\"title\":\"\"},\"x\":[0.15000000000000002,0.25,0.35,0.45,0.55,0.6499999999999999,0.75,0.8500000000000001,0.95,1.05,1.15,1.25,1.35,1.45,1.55,1.65,1.75,1.85,1.95,2.05,2.1500000000000004,2.25,2.3499999999999996,2.45,2.55,2.6500000000000004,2.75],\"marker\":{\"color\":\"rgba(0, 128, 0, 1.000)\"}}], {\"yaxis\":{\"type\":\"-\",\"titlefont\":{\"size\":15,\"color\":\"rgba(0, 0, 0, 1.000)\",\"family\":\"sans-serif\"},\"title\":\"\",\"tickfont\":{\"size\":11,\"color\":\"rgba(0, 0, 0, 1.000)\",\"family\":\"sans-serif\"},\"ticks\":\"inside\",\"tickmode\":\"array\",\"showgrid\":true,\"tickvals\":[0.0,200.0,400.0,600.0],\"domain\":[0.03762029746281716,0.9415463692038496],\"ticktext\":[\"0\",\"200\",\"400\",\"600\"],\"tickangle\":0,\"zeroline\":false,\"linecolor\":\"rgba(0, 0, 0, 1.000)\",\"tickcolor\":\"rgba(0, 0, 0, 1.000)\",\"anchor\":\"x\"},\"annotations\":[{\"text\":\"Prior\",\"y\":1.0,\"xref\":\"paper\",\"font\":{\"size\":20,\"color\":\"rgba(0, 0, 0, 1.000)\",\"family\":\"sans-serif\"},\"xanchor\":\"center\",\"x\":0.5148148148148148,\"yref\":\"paper\",\"showarrow\":false,\"yanchor\":\"top\",\"rotation\":-0.0}],\"width\":600,\"showlegend\":true,\"legend\":{\"bgcolor\":\"rgba(255, 255, 255, 1.000)\",\"y\":1.0,\"font\":{\"size\":11,\"color\":\"rgba(0, 0, 0, 1.000)\",\"family\":\"sans-serif\"},\"bordercolor\":\"rgba(0, 0, 0, 1.000)\",\"x\":1.0},\"xaxis\":{\"type\":\"-\",\"titlefont\":{\"size\":15,\"color\":\"rgba(0, 0, 0, 1.000)\",\"family\":\"sans-serif\"},\"title\":\"\",\"tickfont\":{\"size\":11,\"color\":\"rgba(0, 0, 0, 1.000)\",\"family\":\"sans-serif\"},\"ticks\":\"inside\",\"tickmode\":\"array\",\"showgrid\":true,\"tickvals\":[-2.0,0.0,2.0,4.0],\"domain\":[0.05100612423447069,0.3218333819383688],\"ticktext\":[\"-2\",\"0\",\"2\",\"4\"],\"tickangle\":0,\"zeroline\":false,\"linecolor\":\"rgba(0, 0, 0, 1.000)\",\"tickcolor\":\"rgba(0, 0, 0, 1.000)\",\"anchor\":\"y\"},\"yaxis2\":{\"type\":\"-\",\"titlefont\":{\"size\":15,\"color\":\"rgba(0, 0, 0, 1.000)\",\"family\":\"sans-serif\"},\"title\":\"\",\"tickfont\":{\"size\":11,\"color\":\"rgba(0, 0, 0, 1.000)\",\"family\":\"sans-serif\"},\"ticks\":\"inside\",\"tickmode\":\"array\",\"showgrid\":true,\"tickvals\":[0.0,200.0,400.0,600.0],\"domain\":[0.03762029746281716,0.9415463692038496],\"ticktext\":[\"0\",\"200\",\"400\",\"600\"],\"tickangle\":0,\"zeroline\":false,\"linecolor\":\"rgba(0, 0, 0, 1.000)\",\"tickcolor\":\"rgba(0, 0, 0, 1.000)\",\"anchor\":\"x2\"},\"xaxis2\":{\"type\":\"-\",\"titlefont\":{\"size\":15,\"color\":\"rgba(0, 0, 0, 1.000)\",\"family\":\"sans-serif\"},\"title\":\"\",\"tickfont\":{\"size\":11,\"color\":\"rgba(0, 0, 0, 1.000)\",\"family\":\"sans-serif\"},\"ticks\":\"inside\",\"tickmode\":\"array\",\"showgrid\":true,\"tickvals\":[-4.0,-2.0,0.0,2.0,4.0],\"domain\":[0.3794011859628657,0.6502284436667638],\"ticktext\":[\"-4\",\"-2\",\"0\",\"2\",\"4\"],\"tickangle\":0,\"zeroline\":false,\"linecolor\":\"rgba(0, 0, 0, 1.000)\",\"tickcolor\":\"rgba(0, 0, 0, 1.000)\",\"anchor\":\"y2\"},\"yaxis3\":{\"type\":\"-\",\"titlefont\":{\"size\":15,\"color\":\"rgba(0, 0, 0, 1.000)\",\"family\":\"sans-serif\"},\"title\":\"\",\"tickfont\":{\"size\":11,\"color\":\"rgba(0, 0, 0, 1.000)\",\"family\":\"sans-serif\"},\"ticks\":\"inside\",\"tickmode\":\"array\",\"showgrid\":true,\"tickvals\":[0.0,500.0,1000.0,1500.0],\"domain\":[0.03762029746281716,0.9415463692038496],\"ticktext\":[\"0\",\"500\",\"1000\",\"1500\"],\"tickangle\":0,\"zeroline\":false,\"linecolor\":\"rgba(0, 0, 0, 1.000)\",\"tickcolor\":\"rgba(0, 0, 0, 1.000)\",\"anchor\":\"x3\"},\"xaxis3\":{\"type\":\"-\",\"titlefont\":{\"size\":15,\"color\":\"rgba(0, 0, 0, 1.000)\",\"family\":\"sans-serif\"},\"title\":\"\",\"tickfont\":{\"size\":11,\"color\":\"rgba(0, 0, 0, 1.000)\",\"family\":\"sans-serif\"},\"ticks\":\"inside\",\"tickmode\":\"array\",\"showgrid\":true,\"tickvals\":[1.0,2.0],\"domain\":[0.7226110625060757,0.9934383202099737],\"ticktext\":[\"1\",\"2\"],\"tickangle\":0,\"zeroline\":false,\"linecolor\":\"rgba(0, 0, 0, 1.000)\",\"tickcolor\":\"rgba(0, 0, 0, 1.000)\",\"anchor\":\"y3\"},\"height\":400,\"margin\":{\"r\":0,\"l\":0,\"b\":20,\"t\":20},\"plot_bgcolor\":\"rgba(255, 255, 255, 1.000)\",\"paper_bgcolor\":\"rgba(255, 255, 255, 1.000)\"});\n",
       "    </script>\n"
      ]
     },
     "execution_count": 32,
     "metadata": {},
     "output_type": "execute_result"
    }
   ],
   "source": [
    "# Plot histograms of prior draws\n",
    "prior_plot = plot(prior_draws, \n",
    "                  layout = @layout([a b c]),\n",
    "                  label = [m[:μ].tex_label m[:β].tex_label m[:σ].tex_label],\n",
    "                  t     = [:histogram      :histogram      :histogram],\n",
    "                  color = [:red            :blue           :green],\n",
    "                  title = [\"\" \"Prior\" \"\"])"
   ]
  },
  {
   "cell_type": "markdown",
   "metadata": {},
   "source": [
    "## Exercise 3\n",
    "\n",
    "Given data generated below, sample from the posterior distribution of the parameters. (No new code needs to be written in this section.)"
   ]
  },
  {
   "cell_type": "code",
   "execution_count": 35,
   "metadata": {
    "collapsed": false
   },
   "outputs": [
    {
     "data": {
      "text/plain": [
       "1×100 Array{Float64,2}:\n",
       " 0.921924  0.899823  0.850224  0.725664  …  1.3052  1.24198  1.10452  1.02137"
      ]
     },
     "execution_count": 35,
     "metadata": {},
     "output_type": "execute_result"
    }
   ],
   "source": [
    "# True values of parameters\n",
    "μ = 0.75\n",
    "β = 0.9\n",
    "σ = 0.25\n",
    "\n",
    "dist_u = Normal(0, σ)\n",
    "\n",
    "# Initialize states\n",
    "u_t  = 0.0\n",
    "u_t1 = 0.0\n",
    "\n",
    "# Initialize DataFrame with 100 periods (2001-Q1 to 2025-Q4)\n",
    "df = DataFrame(date = DSGE.quarter_range(DSGE.quartertodate(\"2001-Q1\"), DSGE.quartertodate(\"2025-Q4\")))\n",
    "df[:x_t] = NaN\n",
    "\n",
    "for t = 1:100\n",
    "    # Set last period's u_t value to this period's u_{t-1}\n",
    "    u_t1 = u_t\n",
    "\n",
    "    # Draw new value of u_t\n",
    "    u_t = rand(dist_u)\n",
    "\n",
    "    # Apply measurement equation to get x_t\n",
    "    x_t = μ + u_t + β*u_t1\n",
    "\n",
    "    # Record in DataFrame\n",
    "    df[t, :x_t] = x_t\n",
    "end"
   ]
  },
  {
   "cell_type": "code",
   "execution_count": 36,
   "metadata": {
    "collapsed": false
   },
   "outputs": [
    {
     "name": "stdout",
     "output_type": "stream",
     "text": [
      "Reoptimizing...\n",
      "Iter     Function value   Gradient norm \n",
      "     0     3.428229e+02     8.779218e+02\n",
      "     1     1.041688e+02     3.309445e+02\n",
      "     2     2.070961e+01     8.532763e+01\n",
      "     3     1.110817e+01     3.589797e+01\n",
      "     4     1.043034e+01     3.846018e+01\n",
      "     5     8.395198e+00     1.600176e+01\n",
      "     6     7.189949e+00     1.644132e+01\n",
      "     7     7.109600e+00     1.582007e+01\n",
      "     8     6.898947e+00     1.442568e+01\n",
      "     9     4.157852e+00     1.454391e+01\n",
      "    10     3.621423e+00     8.582457e+00\n",
      "    11     3.439271e+00     3.847890e+00\n",
      "    12     3.395419e+00     8.416421e-01\n",
      "    13     3.392303e+00     4.397252e-02\n",
      "    14     3.392294e+00     3.587564e-03\n",
      "    15     3.392294e+00     3.367704e-04\n",
      "    16     3.392294e+00     7.744492e-08\n",
      "improvement < ftol -- terminating\n",
      "    17     3.392294e+00     5.345125e-07\n",
      "Total iterations completed: 17\n",
      "Optimization time elapsed:  9.76\n",
      "Recalculating Hessian...\n",
      "Hessian element: (1, 1)\n",
      "Hessian element: (2, 2)\n",
      "Hessian element: (3, 3)\n",
      "Hessian element: (1, 2)\n",
      "Hessian element: (1, 3)\n",
      "Hessian element: (2, 3)\n",
      "Blocks: 10\n",
      "Draws per block: 500\n",
      "Completed 1 of 10 blocks.\n",
      "Total time to compute 1 blocks: 0.06392994593333333 minutes\n",
      "Expected time remaining for Metropolis-Hastings: 0.5753695134 minutes\n",
      "Block 1 rejection rate: 0.0524 \n",
      "\n",
      "Completed 2 of 10 blocks.\n",
      "Total time to compute 2 blocks: 0.12255403626666667 minutes\n",
      "Expected time remaining for Metropolis-Hastings: 0.49021614506666666 minutes\n",
      "Block 2 rejection rate: 0.0468 \n",
      "\n",
      "Completed 3 of 10 blocks.\n",
      "Total time to compute 3 blocks: 0.18947215788333333 minutes\n",
      "Expected time remaining for Metropolis-Hastings: 0.4421017017277777 minutes\n",
      "Block 3 rejection rate: 0.0516 \n",
      "\n",
      "Completed 4 of 10 blocks.\n",
      "Total time to compute 4 blocks: 0.24836608938333332 minutes\n",
      "Expected time remaining for Metropolis-Hastings: 0.37254913407499995 minutes\n",
      "Block 4 rejection rate: 0.0576 \n",
      "\n",
      "Completed 5 of 10 blocks.\n",
      "Total time to compute 5 blocks: 0.3142412226 minutes\n",
      "Expected time remaining for Metropolis-Hastings: 0.3142412226 minutes\n",
      "Block 5 rejection rate: 0.0528 \n",
      "\n",
      "Completed 6 of 10 blocks.\n",
      "Total time to compute 6 blocks: 0.3733662661166666 minutes\n",
      "Expected time remaining for Metropolis-Hastings: 0.24891084407777778 minutes\n",
      "Block 6 rejection rate: 0.0376 \n",
      "\n",
      "Completed 7 of 10 blocks.\n",
      "Total time to compute 7 blocks: 0.42771808236666664 minutes\n",
      "Expected time remaining for Metropolis-Hastings: 0.18330774958571425 minutes\n",
      "Block 7 rejection rate: 0.0528 \n",
      "\n",
      "Completed 8 of 10 blocks.\n",
      "Total time to compute 8 blocks: 0.49606887539999994 minutes\n",
      "Expected time remaining for Metropolis-Hastings: 0.12401721884999999 minutes\n",
      "Block 8 rejection rate: 0.0472 \n",
      "\n",
      "Completed 9 of 10 blocks.\n",
      "Total time to compute 9 blocks: 0.5543827666333333 minutes\n",
      "Expected time remaining for Metropolis-Hastings: 0.06159808518148148 minutes\n",
      "Block 9 rejection rate: 0.0576 \n",
      "\n",
      "Completed 10 of 10 blocks.\n",
      "Total time to compute 10 blocks: 0.6262406594166666 minutes\n",
      "Expected time remaining for Metropolis-Hastings: 0.0 minutes\n",
      "Block 10 rejection rate: 0.0548 \n",
      "\n",
      "Overall rejection rate: 0.05112\n"
     ]
    }
   ],
   "source": [
    "# Find posterior mode and sample using Metropolis-Hastings\n",
    "# This function call will take a minute to run the first time\n",
    "estimate(m, df)"
   ]
  },
  {
   "cell_type": "code",
   "execution_count": 61,
   "metadata": {
    "collapsed": false
   },
   "outputs": [
    {
     "name": "stdout",
     "output_type": "stream",
     "text": [
      "Loading draws from output_data/ma1/ss0/estimate/raw/mhsave_vint=170626.h5\n"
     ]
    },
    {
     "name": "stderr",
     "output_type": "stream",
     "text": [
      "\u001b[1m\u001b[34mINFO: binning = auto\n",
      "\u001b[0m\u001b[1m\u001b[34mINFO: binning = auto\n",
      "\u001b[0m\u001b[1m\u001b[34mINFO: binning = auto\n",
      "\u001b[0mWARNING: Method definition plot_actual!(Plots.Subplot{Plots.GRBackend}, Float64) in module Main at /Users/rcepxl10/Google Drive/frbny/cef-2017/CEF_2017_Workshop/dsgejl/util.jl:3 overwritten at /Users/rcepxl10/Google Drive/frbny/cef-2017/CEF_2017_Workshop/dsgejl/util.jl:3.\n",
      "WARNING: Method definition plot_actual!(Plots.Subplot{Plots.PlotlyBackend}, Float64) in module Main at /Users/rcepxl10/Google Drive/frbny/cef-2017/CEF_2017_Workshop/dsgejl/util.jl:11 overwritten at /Users/rcepxl10/Google Drive/frbny/cef-2017/CEF_2017_Workshop/dsgejl/util.jl:11.\n"
     ]
    },
    {
     "data": {
      "text/html": [
       "<script src=\"/Users/rcepxl10/.julia/v0.5/Plots/src/backends/../../deps/plotly-latest.min.js\"></script>    <div id=\"f809e6e3-de42-4996-b033-a441cf6e71ce\" style=\"width:600px;height:400px;\"></div>\n",
       "    <script>\n",
       "    PLOT = document.getElementById('f809e6e3-de42-4996-b033-a441cf6e71ce');\n",
       "    Plotly.plot(PLOT, [{\"yaxis\":\"y\",\"y\":[3.0,19.0,59.0,75.0,65.0,93.0,88.0,158.0,216.0,293.0,341.0,387.0,402.0,414.0,374.0,295.0,220.0,167.0,110.0,96.0,53.0,24.0,10.0,14.0,3.0,7.0,7.0,6.0,1.0],\"showlegend\":true,\"name\":\"\\\\mu\",\"type\":\"bar\",\"xaxis\":\"x\",\"orientation\":\"v\",\"colorbar\":{\"title\":\"\"},\"x\":[0.585,0.595,0.605,0.615,0.625,0.635,0.645,0.655,0.665,0.675,0.685,0.695,0.705,0.715,0.725,0.735,0.745,0.755,0.765,0.775,0.785,0.795,0.805,0.815,0.825,0.835,0.845,0.855,0.865],\"marker\":{\"color\":\"rgba(255, 0, 0, 1.000)\"}},{\"yaxis\":\"y2\",\"y\":[4.0,12.0,9.0,15.0,19.0,29.0,33.0,59.0,119.0,233.0,294.0,351.0,425.0,443.0,432.0,457.0,363.0,232.0,113.0,41.0,63.0,65.0,51.0,51.0,48.0,20.0,10.0,6.0,3.0],\"showlegend\":true,\"name\":\"\\\\beta\",\"type\":\"bar\",\"xaxis\":\"x2\",\"orientation\":\"v\",\"colorbar\":{\"title\":\"\"},\"x\":[0.63,0.65,0.67,0.69,0.71,0.73,0.75,0.77,0.79,0.81,0.83,0.85,0.87,0.89,0.91,0.9299999999999999,0.95,0.97,0.99,1.01,1.03,1.05,1.07,1.09,1.11,1.13,1.15,1.17,1.19],\"marker\":{\"color\":\"rgba(0, 0, 255, 1.000)\"}},{\"yaxis\":\"y3\",\"y\":[4.0,17.0,39.0,76.0,109.0,162.0,239.0,308.0,378.0,416.0,386.0,368.0,365.0,315.0,214.0,222.0,150.0,103.0,72.0,31.0,19.0,5.0,1.0,1.0],\"showlegend\":true,\"name\":\"\\\\sigma\",\"type\":\"bar\",\"xaxis\":\"x3\",\"orientation\":\"v\",\"colorbar\":{\"title\":\"\"},\"x\":[0.2075,0.2125,0.2175,0.2225,0.2275,0.23249999999999998,0.2375,0.2425,0.2475,0.2525,0.2575,0.2625,0.2675,0.2725,0.2775,0.2825,0.2875,0.2925,0.2975,0.3025,0.3075,0.3125,0.3175,0.3225],\"marker\":{\"color\":\"rgba(0, 128, 0, 1.000)\"}},{\"yaxis\":\"y\",\"y\":[0.0,414.0],\"showlegend\":false,\"name\":\"\",\"type\":\"scatter\",\"xaxis\":\"x\",\"line\":{\"width\":3,\"dash\":\"solid\",\"color\":\"rgba(0, 0, 0, 1.000)\",\"shape\":\"linear\"},\"colorbar\":{\"title\":\"\"},\"x\":[0.75,0.75],\"mode\":\"lines\"},{\"yaxis\":\"y2\",\"y\":[0.0,457.0],\"showlegend\":false,\"name\":\"\",\"type\":\"scatter\",\"xaxis\":\"x2\",\"line\":{\"width\":3,\"dash\":\"solid\",\"color\":\"rgba(0, 0, 0, 1.000)\",\"shape\":\"linear\"},\"colorbar\":{\"title\":\"\"},\"x\":[0.9,0.9],\"mode\":\"lines\"},{\"yaxis\":\"y3\",\"y\":[0.0,416.0],\"showlegend\":false,\"name\":\"\",\"type\":\"scatter\",\"xaxis\":\"x3\",\"line\":{\"width\":3,\"dash\":\"solid\",\"color\":\"rgba(0, 0, 0, 1.000)\",\"shape\":\"linear\"},\"colorbar\":{\"title\":\"\"},\"x\":[0.25,0.25],\"mode\":\"lines\"}], {\"yaxis\":{\"type\":\"-\",\"titlefont\":{\"size\":15,\"color\":\"rgba(0, 0, 0, 1.000)\",\"family\":\"sans-serif\"},\"title\":\"\",\"tickfont\":{\"size\":11,\"color\":\"rgba(0, 0, 0, 1.000)\",\"family\":\"sans-serif\"},\"ticks\":\"inside\",\"tickmode\":\"array\",\"showgrid\":true,\"tickvals\":[0.0,100.0,200.0,300.0,400.0],\"domain\":[0.03762029746281716,0.9415463692038496],\"ticktext\":[\"0\",\"100\",\"200\",\"300\",\"400\"],\"tickangle\":0,\"zeroline\":false,\"linecolor\":\"rgba(0, 0, 0, 1.000)\",\"tickcolor\":\"rgba(0, 0, 0, 1.000)\",\"anchor\":\"x\"},\"annotations\":[{\"text\":\"Posterior\",\"y\":1.0,\"xref\":\"paper\",\"font\":{\"size\":20,\"color\":\"rgba(0, 0, 0, 1.000)\",\"family\":\"sans-serif\"},\"xanchor\":\"center\",\"x\":0.5222222222222223,\"yref\":\"paper\",\"showarrow\":false,\"yanchor\":\"top\",\"rotation\":-0.0}],\"width\":600,\"showlegend\":true,\"legend\":{\"bgcolor\":\"rgba(255, 255, 255, 1.000)\",\"y\":1.0,\"font\":{\"size\":11,\"color\":\"rgba(0, 0, 0, 1.000)\",\"family\":\"sans-serif\"},\"bordercolor\":\"rgba(0, 0, 0, 1.000)\",\"x\":1.0},\"xaxis\":{\"type\":\"-\",\"titlefont\":{\"size\":15,\"color\":\"rgba(0, 0, 0, 1.000)\",\"family\":\"sans-serif\"},\"title\":\"\",\"tickfont\":{\"size\":11,\"color\":\"rgba(0, 0, 0, 1.000)\",\"family\":\"sans-serif\"},\"ticks\":\"inside\",\"tickmode\":\"array\",\"showgrid\":true,\"tickvals\":[0.6000000000000001,0.7000000000000001,0.8],\"domain\":[0.05100612423447069,0.3267716535433071],\"ticktext\":[\"0.6\",\"0.7\",\"0.8\"],\"tickangle\":0,\"zeroline\":false,\"linecolor\":\"rgba(0, 0, 0, 1.000)\",\"tickcolor\":\"rgba(0, 0, 0, 1.000)\",\"anchor\":\"y\"},\"yaxis2\":{\"type\":\"-\",\"titlefont\":{\"size\":15,\"color\":\"rgba(0, 0, 0, 1.000)\",\"family\":\"sans-serif\"},\"title\":\"\",\"tickfont\":{\"size\":11,\"color\":\"rgba(0, 0, 0, 1.000)\",\"family\":\"sans-serif\"},\"ticks\":\"inside\",\"tickmode\":\"array\",\"showgrid\":true,\"tickvals\":[0.0,100.0,200.0,300.0,400.0],\"domain\":[0.03762029746281716,0.9415463692038496],\"ticktext\":[\"0\",\"100\",\"200\",\"300\",\"400\"],\"tickangle\":0,\"zeroline\":false,\"linecolor\":\"rgba(0, 0, 0, 1.000)\",\"tickcolor\":\"rgba(0, 0, 0, 1.000)\",\"anchor\":\"x2\"},\"xaxis2\":{\"type\":\"-\",\"titlefont\":{\"size\":15,\"color\":\"rgba(0, 0, 0, 1.000)\",\"family\":\"sans-serif\"},\"title\":\"\",\"tickfont\":{\"size\":11,\"color\":\"rgba(0, 0, 0, 1.000)\",\"family\":\"sans-serif\"},\"ticks\":\"inside\",\"tickmode\":\"array\",\"showgrid\":true,\"tickvals\":[0.7000000000000001,0.8,0.9,1.0,1.1],\"domain\":[0.384339457567804,0.6601049868766404],\"ticktext\":[\"0.7\",\"0.8\",\"0.9\",\"1.0\",\"1.1\"],\"tickangle\":0,\"zeroline\":false,\"linecolor\":\"rgba(0, 0, 0, 1.000)\",\"tickcolor\":\"rgba(0, 0, 0, 1.000)\",\"anchor\":\"y2\"},\"yaxis3\":{\"type\":\"-\",\"titlefont\":{\"size\":15,\"color\":\"rgba(0, 0, 0, 1.000)\",\"family\":\"sans-serif\"},\"title\":\"\",\"tickfont\":{\"size\":11,\"color\":\"rgba(0, 0, 0, 1.000)\",\"family\":\"sans-serif\"},\"ticks\":\"inside\",\"tickmode\":\"array\",\"showgrid\":true,\"tickvals\":[0.0,100.0,200.0,300.0,400.0],\"domain\":[0.03762029746281716,0.9415463692038496],\"ticktext\":[\"0\",\"100\",\"200\",\"300\",\"400\"],\"tickangle\":0,\"zeroline\":false,\"linecolor\":\"rgba(0, 0, 0, 1.000)\",\"tickcolor\":\"rgba(0, 0, 0, 1.000)\",\"anchor\":\"x3\"},\"xaxis3\":{\"type\":\"-\",\"titlefont\":{\"size\":15,\"color\":\"rgba(0, 0, 0, 1.000)\",\"family\":\"sans-serif\"},\"title\":\"\",\"tickfont\":{\"size\":11,\"color\":\"rgba(0, 0, 0, 1.000)\",\"family\":\"sans-serif\"},\"ticks\":\"inside\",\"tickmode\":\"array\",\"showgrid\":true,\"tickvals\":[0.30000000000000004],\"domain\":[0.7176727909011373,0.9934383202099737],\"ticktext\":[\"0.3\"],\"tickangle\":0,\"zeroline\":false,\"linecolor\":\"rgba(0, 0, 0, 1.000)\",\"tickcolor\":\"rgba(0, 0, 0, 1.000)\",\"anchor\":\"y3\"},\"height\":400,\"margin\":{\"r\":0,\"l\":0,\"b\":20,\"t\":20},\"plot_bgcolor\":\"rgba(255, 255, 255, 1.000)\",\"paper_bgcolor\":\"rgba(255, 255, 255, 1.000)\"});\n",
       "    </script>\n"
      ]
     },
     "execution_count": 61,
     "metadata": {},
     "output_type": "execute_result"
    }
   ],
   "source": [
    "# Load posterior draws\n",
    "post_draws = load_draws(m, :full)\n",
    "\n",
    "# Plot posterior draws\n",
    "post_plot = plot(post_draws,\n",
    "                 layout = @layout([a b c]),\n",
    "                 label = [m[:μ].tex_label m[:β].tex_label m[:σ].tex_label],\n",
    "                 t     = [:histogram      :histogram      :histogram],\n",
    "                 color = [:red            :blue           :green],\n",
    "                 title = [\"\" \"Posterior\" \"\"])\n",
    "\n",
    "# Plot actual values\n",
    "plot_actual!(post_plot.subplots[1], μ)\n",
    "plot_actual!(post_plot.subplots[2], β)\n",
    "plot_actual!(post_plot.subplots[3], σ)"
   ]
  },
  {
   "cell_type": "code",
   "execution_count": 63,
   "metadata": {
    "collapsed": false
   },
   "outputs": [
    {
     "data": {
      "text/html": [
       "<script src=\"/Users/rcepxl10/.julia/v0.5/Plots/src/backends/../../deps/plotly-latest.min.js\"></script>    <div id=\"34263c01-c56c-42ac-a508-08a7589ab3f7\" style=\"width:600px;height:400px;\"></div>\n",
       "    <script>\n",
       "    PLOT = document.getElementById('34263c01-c56c-42ac-a508-08a7589ab3f7');\n",
       "    Plotly.plot(PLOT, [{\"yaxis\":\"y\",\"y\":[3.0,22.0,63.0,171.0,354.0,577.0,789.0,752.0,641.0,369.0,154.0,77.0,21.0,6.0,1.0],\"showlegend\":true,\"name\":\"\\\\mu\",\"type\":\"bar\",\"xaxis\":\"x\",\"orientation\":\"v\",\"colorbar\":{\"title\":\"\"},\"x\":[-3.25,-2.75,-2.25,-1.75,-1.25,-0.75,-0.25,0.25,0.75,1.25,1.75,2.25,2.75,3.25,3.75],\"marker\":{\"color\":\"rgba(255, 0, 0, 1.000)\"}},{\"yaxis\":\"y\",\"y\":[0.0,789.0],\"showlegend\":false,\"name\":\"\",\"type\":\"scatter\",\"xaxis\":\"x\",\"line\":{\"width\":3,\"dash\":\"solid\",\"color\":\"rgba(0, 0, 0, 1.000)\",\"shape\":\"linear\"},\"colorbar\":{\"title\":\"\"},\"x\":[0.75,0.75],\"mode\":\"lines\"},{\"yaxis\":\"y2\",\"y\":[1.0,4.0,23.0,81.0,171.0,335.0,593.0,753.0,761.0,635.0,391.0,162.0,64.0,20.0,5.0,1.0],\"showlegend\":true,\"name\":\"\\\\beta\",\"type\":\"bar\",\"xaxis\":\"x2\",\"orientation\":\"v\",\"colorbar\":{\"title\":\"\"},\"x\":[-3.75,-3.25,-2.75,-2.25,-1.75,-1.25,-0.75,-0.25,0.25,0.75,1.25,1.75,2.25,2.75,3.25,3.75],\"marker\":{\"color\":\"rgba(0, 0, 255, 1.000)\"}},{\"yaxis\":\"y2\",\"y\":[0.0,761.0],\"showlegend\":false,\"name\":\"\",\"type\":\"scatter\",\"xaxis\":\"x2\",\"line\":{\"width\":3,\"dash\":\"solid\",\"color\":\"rgba(0, 0, 0, 1.000)\",\"shape\":\"linear\"},\"colorbar\":{\"title\":\"\"},\"x\":[0.9,0.9],\"mode\":\"lines\"},{\"yaxis\":\"y3\",\"y\":[671.0,1813.0,933.0,335.0,130.0,50.0,27.0,14.0,10.0,6.0,2.0,3.0,3.0,0.0,1.0,1.0,0.0,0.0,0.0,0.0,0.0,0.0,0.0,0.0,0.0,0.0,1.0],\"showlegend\":true,\"name\":\"\\\\sigma\",\"type\":\"bar\",\"xaxis\":\"x3\",\"orientation\":\"v\",\"colorbar\":{\"title\":\"\"},\"x\":[0.15000000000000002,0.25,0.35,0.45,0.55,0.6499999999999999,0.75,0.8500000000000001,0.95,1.05,1.15,1.25,1.35,1.45,1.55,1.65,1.75,1.85,1.95,2.05,2.1500000000000004,2.25,2.3499999999999996,2.45,2.55,2.6500000000000004,2.75],\"marker\":{\"color\":\"rgba(0, 128, 0, 1.000)\"}},{\"yaxis\":\"y3\",\"y\":[0.0,1813.0],\"showlegend\":false,\"name\":\"\",\"type\":\"scatter\",\"xaxis\":\"x3\",\"line\":{\"width\":3,\"dash\":\"solid\",\"color\":\"rgba(0, 0, 0, 1.000)\",\"shape\":\"linear\"},\"colorbar\":{\"title\":\"\"},\"x\":[0.25,0.25],\"mode\":\"lines\"},{\"yaxis\":\"y4\",\"y\":[3.0,19.0,59.0,75.0,65.0,93.0,88.0,158.0,216.0,293.0,341.0,387.0,402.0,414.0,374.0,295.0,220.0,167.0,110.0,96.0,53.0,24.0,10.0,14.0,3.0,7.0,7.0,6.0,1.0],\"showlegend\":true,\"name\":\"\\\\mu\",\"type\":\"bar\",\"xaxis\":\"x4\",\"orientation\":\"v\",\"colorbar\":{\"title\":\"\"},\"x\":[0.585,0.595,0.605,0.615,0.625,0.635,0.645,0.655,0.665,0.675,0.685,0.695,0.705,0.715,0.725,0.735,0.745,0.755,0.765,0.775,0.785,0.795,0.805,0.815,0.825,0.835,0.845,0.855,0.865],\"marker\":{\"color\":\"rgba(255, 0, 0, 1.000)\"}},{\"yaxis\":\"y4\",\"y\":[0.0,414.0],\"showlegend\":false,\"name\":\"\",\"type\":\"scatter\",\"xaxis\":\"x4\",\"line\":{\"width\":3,\"dash\":\"solid\",\"color\":\"rgba(0, 0, 0, 1.000)\",\"shape\":\"linear\"},\"colorbar\":{\"title\":\"\"},\"x\":[0.75,0.75],\"mode\":\"lines\"},{\"yaxis\":\"y5\",\"y\":[4.0,12.0,9.0,15.0,19.0,29.0,33.0,59.0,119.0,233.0,294.0,351.0,425.0,443.0,432.0,457.0,363.0,232.0,113.0,41.0,63.0,65.0,51.0,51.0,48.0,20.0,10.0,6.0,3.0],\"showlegend\":true,\"name\":\"\\\\beta\",\"type\":\"bar\",\"xaxis\":\"x5\",\"orientation\":\"v\",\"colorbar\":{\"title\":\"\"},\"x\":[0.63,0.65,0.67,0.69,0.71,0.73,0.75,0.77,0.79,0.81,0.83,0.85,0.87,0.89,0.91,0.9299999999999999,0.95,0.97,0.99,1.01,1.03,1.05,1.07,1.09,1.11,1.13,1.15,1.17,1.19],\"marker\":{\"color\":\"rgba(0, 0, 255, 1.000)\"}},{\"yaxis\":\"y5\",\"y\":[0.0,457.0],\"showlegend\":false,\"name\":\"\",\"type\":\"scatter\",\"xaxis\":\"x5\",\"line\":{\"width\":3,\"dash\":\"solid\",\"color\":\"rgba(0, 0, 0, 1.000)\",\"shape\":\"linear\"},\"colorbar\":{\"title\":\"\"},\"x\":[0.9,0.9],\"mode\":\"lines\"},{\"yaxis\":\"y6\",\"y\":[4.0,17.0,39.0,76.0,109.0,162.0,239.0,308.0,378.0,416.0,386.0,368.0,365.0,315.0,214.0,222.0,150.0,103.0,72.0,31.0,19.0,5.0,1.0,1.0],\"showlegend\":true,\"name\":\"\\\\sigma\",\"type\":\"bar\",\"xaxis\":\"x6\",\"orientation\":\"v\",\"colorbar\":{\"title\":\"\"},\"x\":[0.2075,0.2125,0.2175,0.2225,0.2275,0.23249999999999998,0.2375,0.2425,0.2475,0.2525,0.2575,0.2625,0.2675,0.2725,0.2775,0.2825,0.2875,0.2925,0.2975,0.3025,0.3075,0.3125,0.3175,0.3225],\"marker\":{\"color\":\"rgba(0, 128, 0, 1.000)\"}},{\"yaxis\":\"y6\",\"y\":[0.0,416.0],\"showlegend\":false,\"name\":\"\",\"type\":\"scatter\",\"xaxis\":\"x6\",\"line\":{\"width\":3,\"dash\":\"solid\",\"color\":\"rgba(0, 0, 0, 1.000)\",\"shape\":\"linear\"},\"colorbar\":{\"title\":\"\"},\"x\":[0.25,0.25],\"mode\":\"lines\"}], {\"yaxis\":{\"type\":\"-\",\"titlefont\":{\"size\":15,\"color\":\"rgba(0, 0, 0, 1.000)\",\"family\":\"sans-serif\"},\"title\":\"\",\"tickfont\":{\"size\":11,\"color\":\"rgba(0, 0, 0, 1.000)\",\"family\":\"sans-serif\"},\"ticks\":\"inside\",\"tickmode\":\"array\",\"showgrid\":true,\"tickvals\":[0.0,200.0,400.0,600.0],\"domain\":[0.537620297462817,0.9415463692038495],\"ticktext\":[\"0\",\"200\",\"400\",\"600\"],\"tickangle\":0,\"zeroline\":false,\"linecolor\":\"rgba(0, 0, 0, 1.000)\",\"tickcolor\":\"rgba(0, 0, 0, 1.000)\",\"anchor\":\"x\"},\"annotations\":[{\"text\":\"Prior\",\"y\":1.0,\"xref\":\"paper\",\"font\":{\"size\":20,\"color\":\"rgba(0, 0, 0, 1.000)\",\"family\":\"sans-serif\"},\"xanchor\":\"center\",\"x\":0.5148148148148148,\"yref\":\"paper\",\"showarrow\":false,\"yanchor\":\"top\",\"rotation\":-0.0},{\"text\":\"Posterior\",\"y\":0.49999999999999994,\"xref\":\"paper\",\"font\":{\"size\":20,\"color\":\"rgba(0, 0, 0, 1.000)\",\"family\":\"sans-serif\"},\"xanchor\":\"center\",\"x\":0.5222222222222223,\"yref\":\"paper\",\"showarrow\":false,\"yanchor\":\"top\",\"rotation\":-0.0}],\"width\":600,\"showlegend\":true,\"legend\":{\"bgcolor\":\"rgba(255, 255, 255, 1.000)\",\"y\":1.0,\"font\":{\"size\":11,\"color\":\"rgba(0, 0, 0, 1.000)\",\"family\":\"sans-serif\"},\"bordercolor\":\"rgba(0, 0, 0, 1.000)\",\"x\":1.0},\"xaxis\":{\"type\":\"-\",\"titlefont\":{\"size\":15,\"color\":\"rgba(0, 0, 0, 1.000)\",\"family\":\"sans-serif\"},\"title\":\"\",\"tickfont\":{\"size\":11,\"color\":\"rgba(0, 0, 0, 1.000)\",\"family\":\"sans-serif\"},\"ticks\":\"inside\",\"tickmode\":\"array\",\"showgrid\":true,\"tickvals\":[-2.0,0.0,2.0,4.0],\"domain\":[0.05100612423447069,0.3218333819383688],\"ticktext\":[\"-2\",\"0\",\"2\",\"4\"],\"tickangle\":0,\"zeroline\":false,\"linecolor\":\"rgba(0, 0, 0, 1.000)\",\"tickcolor\":\"rgba(0, 0, 0, 1.000)\",\"anchor\":\"y\"},\"yaxis2\":{\"type\":\"-\",\"titlefont\":{\"size\":15,\"color\":\"rgba(0, 0, 0, 1.000)\",\"family\":\"sans-serif\"},\"title\":\"\",\"tickfont\":{\"size\":11,\"color\":\"rgba(0, 0, 0, 1.000)\",\"family\":\"sans-serif\"},\"ticks\":\"inside\",\"tickmode\":\"array\",\"showgrid\":true,\"tickvals\":[0.0,200.0,400.0,600.0],\"domain\":[0.537620297462817,0.9415463692038495],\"ticktext\":[\"0\",\"200\",\"400\",\"600\"],\"tickangle\":0,\"zeroline\":false,\"linecolor\":\"rgba(0, 0, 0, 1.000)\",\"tickcolor\":\"rgba(0, 0, 0, 1.000)\",\"anchor\":\"x2\"},\"yaxis6\":{\"type\":\"-\",\"titlefont\":{\"size\":15,\"color\":\"rgba(0, 0, 0, 1.000)\",\"family\":\"sans-serif\"},\"title\":\"\",\"tickfont\":{\"size\":11,\"color\":\"rgba(0, 0, 0, 1.000)\",\"family\":\"sans-serif\"},\"ticks\":\"inside\",\"tickmode\":\"array\",\"showgrid\":true,\"tickvals\":[0.0,100.0,200.0,300.0,400.0],\"domain\":[0.03762029746281702,0.44154636920384943],\"ticktext\":[\"0\",\"100\",\"200\",\"300\",\"400\"],\"tickangle\":0,\"zeroline\":false,\"linecolor\":\"rgba(0, 0, 0, 1.000)\",\"tickcolor\":\"rgba(0, 0, 0, 1.000)\",\"anchor\":\"x6\"},\"xaxis2\":{\"type\":\"-\",\"titlefont\":{\"size\":15,\"color\":\"rgba(0, 0, 0, 1.000)\",\"family\":\"sans-serif\"},\"title\":\"\",\"tickfont\":{\"size\":11,\"color\":\"rgba(0, 0, 0, 1.000)\",\"family\":\"sans-serif\"},\"ticks\":\"inside\",\"tickmode\":\"array\",\"showgrid\":true,\"tickvals\":[-4.0,-2.0,0.0,2.0,4.0],\"domain\":[0.3794011859628657,0.6502284436667638],\"ticktext\":[\"-4\",\"-2\",\"0\",\"2\",\"4\"],\"tickangle\":0,\"zeroline\":false,\"linecolor\":\"rgba(0, 0, 0, 1.000)\",\"tickcolor\":\"rgba(0, 0, 0, 1.000)\",\"anchor\":\"y2\"},\"yaxis3\":{\"type\":\"-\",\"titlefont\":{\"size\":15,\"color\":\"rgba(0, 0, 0, 1.000)\",\"family\":\"sans-serif\"},\"title\":\"\",\"tickfont\":{\"size\":11,\"color\":\"rgba(0, 0, 0, 1.000)\",\"family\":\"sans-serif\"},\"ticks\":\"inside\",\"tickmode\":\"array\",\"showgrid\":true,\"tickvals\":[0.0,500.0,1000.0,1500.0],\"domain\":[0.537620297462817,0.9415463692038495],\"ticktext\":[\"0\",\"500\",\"1000\",\"1500\"],\"tickangle\":0,\"zeroline\":false,\"linecolor\":\"rgba(0, 0, 0, 1.000)\",\"tickcolor\":\"rgba(0, 0, 0, 1.000)\",\"anchor\":\"x3\"},\"xaxis3\":{\"type\":\"-\",\"titlefont\":{\"size\":15,\"color\":\"rgba(0, 0, 0, 1.000)\",\"family\":\"sans-serif\"},\"title\":\"\",\"tickfont\":{\"size\":11,\"color\":\"rgba(0, 0, 0, 1.000)\",\"family\":\"sans-serif\"},\"ticks\":\"inside\",\"tickmode\":\"array\",\"showgrid\":true,\"tickvals\":[1.0,2.0],\"domain\":[0.7226110625060757,0.9934383202099737],\"ticktext\":[\"1\",\"2\"],\"tickangle\":0,\"zeroline\":false,\"linecolor\":\"rgba(0, 0, 0, 1.000)\",\"tickcolor\":\"rgba(0, 0, 0, 1.000)\",\"anchor\":\"y3\"},\"xaxis5\":{\"type\":\"-\",\"titlefont\":{\"size\":15,\"color\":\"rgba(0, 0, 0, 1.000)\",\"family\":\"sans-serif\"},\"title\":\"\",\"tickfont\":{\"size\":11,\"color\":\"rgba(0, 0, 0, 1.000)\",\"family\":\"sans-serif\"},\"ticks\":\"inside\",\"tickmode\":\"array\",\"showgrid\":true,\"tickvals\":[0.7000000000000001,0.8,0.9,1.0,1.1],\"domain\":[0.384339457567804,0.6601049868766404],\"ticktext\":[\"0.7\",\"0.8\",\"0.9\",\"1.0\",\"1.1\"],\"tickangle\":0,\"zeroline\":false,\"linecolor\":\"rgba(0, 0, 0, 1.000)\",\"tickcolor\":\"rgba(0, 0, 0, 1.000)\",\"anchor\":\"y5\"},\"height\":400,\"margin\":{\"r\":0,\"l\":0,\"b\":20,\"t\":20},\"yaxis5\":{\"type\":\"-\",\"titlefont\":{\"size\":15,\"color\":\"rgba(0, 0, 0, 1.000)\",\"family\":\"sans-serif\"},\"title\":\"\",\"tickfont\":{\"size\":11,\"color\":\"rgba(0, 0, 0, 1.000)\",\"family\":\"sans-serif\"},\"ticks\":\"inside\",\"tickmode\":\"array\",\"showgrid\":true,\"tickvals\":[0.0,100.0,200.0,300.0,400.0],\"domain\":[0.03762029746281702,0.44154636920384943],\"ticktext\":[\"0\",\"100\",\"200\",\"300\",\"400\"],\"tickangle\":0,\"zeroline\":false,\"linecolor\":\"rgba(0, 0, 0, 1.000)\",\"tickcolor\":\"rgba(0, 0, 0, 1.000)\",\"anchor\":\"x5\"},\"plot_bgcolor\":\"rgba(255, 255, 255, 1.000)\",\"paper_bgcolor\":\"rgba(255, 255, 255, 1.000)\",\"xaxis6\":{\"type\":\"-\",\"titlefont\":{\"size\":15,\"color\":\"rgba(0, 0, 0, 1.000)\",\"family\":\"sans-serif\"},\"title\":\"\",\"tickfont\":{\"size\":11,\"color\":\"rgba(0, 0, 0, 1.000)\",\"family\":\"sans-serif\"},\"ticks\":\"inside\",\"tickmode\":\"array\",\"showgrid\":true,\"tickvals\":[0.30000000000000004],\"domain\":[0.7176727909011373,0.9934383202099737],\"ticktext\":[\"0.3\"],\"tickangle\":0,\"zeroline\":false,\"linecolor\":\"rgba(0, 0, 0, 1.000)\",\"tickcolor\":\"rgba(0, 0, 0, 1.000)\",\"anchor\":\"y6\"},\"yaxis4\":{\"type\":\"-\",\"titlefont\":{\"size\":15,\"color\":\"rgba(0, 0, 0, 1.000)\",\"family\":\"sans-serif\"},\"title\":\"\",\"tickfont\":{\"size\":11,\"color\":\"rgba(0, 0, 0, 1.000)\",\"family\":\"sans-serif\"},\"ticks\":\"inside\",\"tickmode\":\"array\",\"showgrid\":true,\"tickvals\":[0.0,100.0,200.0,300.0,400.0],\"domain\":[0.03762029746281702,0.44154636920384943],\"ticktext\":[\"0\",\"100\",\"200\",\"300\",\"400\"],\"tickangle\":0,\"zeroline\":false,\"linecolor\":\"rgba(0, 0, 0, 1.000)\",\"tickcolor\":\"rgba(0, 0, 0, 1.000)\",\"anchor\":\"x4\"},\"xaxis4\":{\"type\":\"-\",\"titlefont\":{\"size\":15,\"color\":\"rgba(0, 0, 0, 1.000)\",\"family\":\"sans-serif\"},\"title\":\"\",\"tickfont\":{\"size\":11,\"color\":\"rgba(0, 0, 0, 1.000)\",\"family\":\"sans-serif\"},\"ticks\":\"inside\",\"tickmode\":\"array\",\"showgrid\":true,\"tickvals\":[0.6000000000000001,0.7000000000000001,0.8],\"domain\":[0.05100612423447069,0.3267716535433071],\"ticktext\":[\"0.6\",\"0.7\",\"0.8\"],\"tickangle\":0,\"zeroline\":false,\"linecolor\":\"rgba(0, 0, 0, 1.000)\",\"tickcolor\":\"rgba(0, 0, 0, 1.000)\",\"anchor\":\"y4\"}});\n",
       "    </script>\n"
      ]
     },
     "execution_count": 63,
     "metadata": {},
     "output_type": "execute_result"
    }
   ],
   "source": [
    "# Plot actuals on top of prior\n",
    "plot_actual!(prior_plot.subplots[1], μ)\n",
    "plot_actual!(prior_plot.subplots[2], β)\n",
    "plot_actual!(prior_plot.subplots[3], σ)\n",
    "\n",
    "# Plot both prior and posterior together\n",
    "all_plots = plot(prior_plot, post_plot, layout = @layout([a; b]))"
   ]
  }
 ],
 "metadata": {
  "anaconda-cloud": {},
  "kernelspec": {
   "display_name": "Julia 0.5.0",
   "language": "julia",
   "name": "julia-0.5"
  },
  "language_info": {
   "file_extension": ".jl",
   "mimetype": "application/julia",
   "name": "julia",
   "version": "0.5.0"
  }
 },
 "nbformat": 4,
 "nbformat_minor": 1
}
