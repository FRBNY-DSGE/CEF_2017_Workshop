{
 "cells": [
  {
   "cell_type": "markdown",
   "metadata": {},
   "source": [
    "# Exercise: MA(1) Model"
   ]
  },
  {
   "cell_type": "markdown",
   "metadata": {},
   "source": [
    "This set of exercises will walk through implementing and using the following MA(1) model in DSGE.jl:\n",
    "\n",
    "$$\n",
    "\\begin{align*}\n",
    "x_t &= u_t + \\beta u_{t-1} + \\mu \\\\\n",
    "u_t &\\sim N(0, \\sigma^2)\n",
    "\\end{align*}\n",
    "$$\n",
    "\n",
    "which we can also express in state-space form:\n",
    "\n",
    "$$\n",
    "\\begin{align*}\n",
    "\\begin{bmatrix} u_t \\\\ u_{t-1} \\end{bmatrix} &= \\begin{bmatrix} 0 & 0 \\\\ 1 & 0 \\end{bmatrix} \\begin{bmatrix} u_{t-1} \\\\ u_{t-2} \\end{bmatrix} + \\begin{bmatrix} 1 \\\\ 0 \\end{bmatrix} \\begin{bmatrix} u_t \\end{bmatrix} & \\text{(transition equation)} \\\\\n",
    "\\begin{bmatrix} x_t \\end{bmatrix} &= \\begin{bmatrix} 1 & \\beta \\end{bmatrix} \\begin{bmatrix} u_t \\\\ u_{t-1} \\end{bmatrix} + \\begin{bmatrix} \\mu \\end{bmatrix} & \\text{(measurement equation)}\n",
    "\\end{align*}\n",
    "$$"
   ]
  },
  {
   "cell_type": "code",
   "execution_count": null,
   "metadata": {
    "collapsed": false
   },
   "outputs": [],
   "source": [
    "using DSGE\n",
    "using DataFrames, DataStructures, Distributions, Plots\n",
    "include(\"util.jl\")\n",
    "\n",
    "# This file defines the MA1 type\n",
    "include(\"ma1.jl\")"
   ]
  },
  {
   "cell_type": "code",
   "execution_count": null,
   "metadata": {
    "collapsed": false
   },
   "outputs": [],
   "source": [
    "# See docstring for MA1\n",
    "?MA1"
   ]
  },
  {
   "cell_type": "code",
   "execution_count": null,
   "metadata": {
    "collapsed": false
   },
   "outputs": [],
   "source": [
    "# Initialize MA(1) model\n",
    "m = MA1()\n",
    "\n",
    "m <= Setting(:saveroot, dirname(@__FILE__))\n",
    "m <= Setting(:date_presample_start, DSGE.quartertodate(\"2001-Q1\"))\n",
    "m <= Setting(:date_mainsample_start, DSGE.quartertodate(\"2001-Q1\"))\n",
    "m <= Setting(:date_forecast_start, DSGE.quartertodate(\"2026-Q1\"))\n",
    "m <= Setting(:n_mh_simulations, 500)\n",
    "m <= Setting(:n_mh_blocks, 10)\n",
    "m <= Setting(:n_mh_burn, 2)"
   ]
  },
  {
   "cell_type": "code",
   "execution_count": null,
   "metadata": {
    "collapsed": false
   },
   "outputs": [],
   "source": [
    "m.parameters"
   ]
  },
  {
   "cell_type": "code",
   "execution_count": null,
   "metadata": {
    "collapsed": false
   },
   "outputs": [],
   "source": [
    "m.endogenous_states"
   ]
  },
  {
   "cell_type": "code",
   "execution_count": null,
   "metadata": {
    "collapsed": false
   },
   "outputs": [],
   "source": [
    "m.exogenous_shocks"
   ]
  },
  {
   "cell_type": "code",
   "execution_count": null,
   "metadata": {
    "collapsed": false
   },
   "outputs": [],
   "source": [
    "m.observables"
   ]
  },
  {
   "cell_type": "markdown",
   "metadata": {},
   "source": [
    "## Exercise 1\n",
    "\n",
    "Given the following definition of `eqcond` (which returns the equilibrium condition matrices for an `MA1` model), fill in the `ZZ` and `QQ` matrices in `measurement`."
   ]
  },
  {
   "cell_type": "code",
   "execution_count": null,
   "metadata": {
    "collapsed": true
   },
   "outputs": [],
   "source": [
    "function DSGE.eqcond(m::MA1)\n",
    "    endo = m.endogenous_states\n",
    "    exo  = m.exogenous_shocks\n",
    "    eq   = m.equilibrium_conditions\n",
    "\n",
    "    Γ0 = zeros(n_states(m), n_states(m))\n",
    "    Γ1 = zeros(n_states(m), n_states(m))\n",
    "    C  = zeros(n_states(m))\n",
    "    Ψ  = zeros(n_states(m), n_shocks_exogenous(m))\n",
    "    Π  = zeros(n_states(m), n_shocks_expectational(m))\n",
    "\n",
    "    # Γ0*s_t = Γ1*s_{t-1} + Ψ*ϵ_t + Π*η_t + C\n",
    "    # s_t = [u_t, u_{t-1}]'\n",
    "    # ϵ_t = [u_t]'\n",
    "\n",
    "    # Row 1: u_t = 0*u_{t-1} + 0*u_{t-2} + u_t\n",
    "    Γ0[eq[:eq_u_t], endo[:u_t]] = 1\n",
    "     Ψ[eq[:eq_u_t],  exo[:u_t]] = 1\n",
    "\n",
    "    # Row 2: u_{t-1} = u_{t-1} + 0 u_{t-2} + 0 u_t\n",
    "    Γ0[eq[:eq_u_t1], endo[:u_t1]] = 1\n",
    "    Γ1[eq[:eq_u_t1], endo[:u_t]]  = 1\n",
    "\n",
    "    return Γ0, Γ1, C, Ψ, Π\n",
    "end"
   ]
  },
  {
   "cell_type": "code",
   "execution_count": null,
   "metadata": {
    "collapsed": true
   },
   "outputs": [],
   "source": [
    "function DSGE.measurement{T<:AbstractFloat}(m::MA1{T}, TTT::Matrix{T}, RRR::Matrix{T}, CCC::Vector{T};\n",
    "                                            shocks::Bool = false)\n",
    "    endo = m.endogenous_states # OrderedDict{Symbol, Int} mapping state names (e.g. `:u_t`) to indices\n",
    "    exo  = m.exogenous_shocks  # ... mapping shock names to indices\n",
    "    obs  = m.observables       # ... mapping observable names to indices\n",
    "\n",
    "    ZZ = zeros(n_observables(m), n_states(m))\n",
    "    DD = zeros(n_observables(m))\n",
    "    MM = zeros(n_observables(m), n_shocks_exogenous(m))\n",
    "    EE = zeros(n_observables(m), n_observables(m))\n",
    "    QQ = zeros(n_shocks_exogenous(m), n_shocks_exogenous(m))\n",
    "\n",
    "    # y_t = Z*s_t + D\n",
    "    # y_t = [x_t]'\n",
    "    # s_t = [u_t, u_{t-1}]'\n",
    "\n",
    "    # TODO: fill in entries of ZZ matrix\n",
    "    # x_t = μ + u_t + β*u_{t-1}\n",
    "    DD[obs[:x_t]] = m[:μ]\n",
    "    ZZ[obs[:x_t], ...] = ...\n",
    "\n",
    "    # TODO: fill in entries of QQ matrix\n",
    "    QQ[exo[:u_t], exo[:u_t]] = ...\n",
    "\n",
    "    QQ[exo[:u_t], exo[:u_t]] = m[:σ]^2\n",
    "\n",
    "    HH    = EE + MM*QQ*MM'\n",
    "    VV    = QQ*MM'\n",
    "    VVall = [[RRR*QQ*RRR' RRR*VV];\n",
    "             [VV'*RRR'    HH]]\n",
    "\n",
    "    return Measurement(ZZ, DD, QQ, EE, MM, VVall)\n",
    "end"
   ]
  },
  {
   "cell_type": "markdown",
   "metadata": {},
   "source": [
    "## Exercise 2\n",
    "\n",
    "Generate 4000 draws from the prior distribution of each parameter."
   ]
  },
  {
   "cell_type": "code",
   "execution_count": null,
   "metadata": {
    "collapsed": false
   },
   "outputs": [],
   "source": [
    "# Hint: use the `rand` function, which can be called on any `Distribution`.\n",
    "dist_μ = get(m[:μ].prior)\n",
    "dist_β = get(m[:β].prior)\n",
    "dist_σ = get(m[:σ].prior)\n",
    "\n",
    "isa(dist_μ, Distribution)"
   ]
  },
  {
   "cell_type": "code",
   "execution_count": null,
   "metadata": {
    "collapsed": true
   },
   "outputs": [],
   "source": [
    "prior_draws = zeros(4000, 3)\n",
    "for i = 1:4000\n",
    "    # TODO: fill in `prior_draws`\n",
    "end"
   ]
  },
  {
   "cell_type": "code",
   "execution_count": null,
   "metadata": {
    "collapsed": false
   },
   "outputs": [],
   "source": [
    "# Plot histograms of prior draws\n",
    "prior_plot = plot(prior_draws, \n",
    "                  layout = @layout([a b c]),\n",
    "                  label = [m[:μ].tex_label m[:β].tex_label m[:σ].tex_label],\n",
    "                  t     = [:histogram      :histogram      :histogram],\n",
    "                  color = [:red            :blue           :green],\n",
    "                  title = [\"\" \"Prior\" \"\"])"
   ]
  },
  {
   "cell_type": "markdown",
   "metadata": {},
   "source": [
    "## Exercise 3\n",
    "\n",
    "Given data generated below, sample from the posterior distribution of the parameters. (No new code needs to be written in this section.)"
   ]
  },
  {
   "cell_type": "code",
   "execution_count": null,
   "metadata": {
    "collapsed": false
   },
   "outputs": [],
   "source": [
    "# True values of parameters\n",
    "μ = 0.75\n",
    "β = 0.9\n",
    "σ = 0.25\n",
    "\n",
    "dist_u = Normal(0, σ)\n",
    "\n",
    "# Initialize states\n",
    "u_t  = 0.0\n",
    "u_t1 = 0.0\n",
    "\n",
    "# Initialize DataFrame with 100 periods (2001-Q1 to 2025-Q4)\n",
    "df = DataFrame(date = DSGE.quarter_range(DSGE.quartertodate(\"2001-Q1\"), DSGE.quartertodate(\"2025-Q4\")))\n",
    "df[:x_t] = NaN\n",
    "\n",
    "for t = 1:100\n",
    "    # Set last period's u_t value to this period's u_{t-1}\n",
    "    u_t1 = u_t\n",
    "\n",
    "    # Draw new value of u_t\n",
    "    u_t = rand(dist_u)\n",
    "\n",
    "    # Apply measurement equation to get x_t\n",
    "    x_t = μ + u_t + β*u_t1\n",
    "\n",
    "    # Record in DataFrame\n",
    "    df[t, :x_t] = x_t\n",
    "end"
   ]
  },
  {
   "cell_type": "code",
   "execution_count": null,
   "metadata": {
    "collapsed": false
   },
   "outputs": [],
   "source": [
    "# Find posterior mode and sample using Metropolis-Hastings\n",
    "# This function call will take a minute to run the first time\n",
    "estimate(m, df)"
   ]
  },
  {
   "cell_type": "code",
   "execution_count": null,
   "metadata": {
    "collapsed": false
   },
   "outputs": [],
   "source": [
    "# Load posterior draws\n",
    "post_draws = load_draws(m, :full)\n",
    "\n",
    "# Plot posterior draws\n",
    "post_plot = plot(post_draws,\n",
    "                 layout = @layout([a b c]),\n",
    "                 label = [m[:μ].tex_label m[:β].tex_label m[:σ].tex_label],\n",
    "                 t     = [:histogram      :histogram      :histogram],\n",
    "                 color = [:red            :blue           :green],\n",
    "                 title = [\"\" \"Posterior\" \"\"])\n",
    "\n",
    "# Plot actual values\n",
    "plot_actual!(post_plot.subplots[1], μ)\n",
    "plot_actual!(post_plot.subplots[2], β)\n",
    "plot_actual!(post_plot.subplots[3], σ)"
   ]
  },
  {
   "cell_type": "code",
   "execution_count": null,
   "metadata": {
    "collapsed": false
   },
   "outputs": [],
   "source": [
    "# Plot actuals on top of prior\n",
    "plot_actual!(prior_plot.subplots[1], μ)\n",
    "plot_actual!(prior_plot.subplots[2], β)\n",
    "plot_actual!(prior_plot.subplots[3], σ)\n",
    "\n",
    "# Plot both prior and posterior together\n",
    "all_plots = plot(prior_plot, post_plot, layout = @layout([a; b]))"
   ]
  }
 ],
 "metadata": {
  "anaconda-cloud": {},
  "kernelspec": {
   "display_name": "Julia 0.5.0",
   "language": "julia",
   "name": "julia-0.5"
  },
  "language_info": {
   "file_extension": ".jl",
   "mimetype": "application/julia",
   "name": "julia",
   "version": "0.5.0"
  }
 },
 "nbformat": 4,
 "nbformat_minor": 1
}
