{
 "cells": [
  {
   "cell_type": "markdown",
   "metadata": {
    "nbpresent": {
     "id": "9f5565ef-7cd0-4521-a7a4-d2c9eda58112"
    },
    "slideshow": {
     "slide_type": "slide"
    }
   },
   "source": [
    "# Introduction to DSGE.jl\n",
    "\n",
    "Pearl Li <br> CEF 2017\n",
    "\n",
    "June 27, 2017"
   ]
  },
  {
   "cell_type": "markdown",
   "metadata": {
    "nbpresent": {
     "id": "3d5cc66a-9cbe-4c34-a654-32981d650ea3"
    },
    "slideshow": {
     "slide_type": "slide"
    }
   },
   "source": [
    "## Outline\n",
    "\n",
    "1. Notation\n",
    "2. Solving, estimating, and forecasting an existing model\n",
    "3. Model implementation\n",
    "4. Exercise: MA(1) model\n",
    "5. State-space routines\n",
    "6. Conclusion"
   ]
  },
  {
   "cell_type": "markdown",
   "metadata": {
    "nbpresent": {
     "id": "70968b4e-4c80-4304-9efa-be289b744dee"
    },
    "slideshow": {
     "slide_type": "slide"
    }
   },
   "source": [
    "## Notation"
   ]
  },
  {
   "cell_type": "markdown",
   "metadata": {
    "nbpresent": {
     "id": "ef3f58a3-4127-4d7c-8c95-99dbfb058737"
    },
    "slideshow": {
     "slide_type": "slide"
    }
   },
   "source": [
    "- $y_t$ is a vector of observables at time $t$\n",
    "- $s_t$ is a vector of states, including expectations of future states and lags\n",
    "- $\\epsilon_t$ is a vector of exogenous shocks\n",
    "- $\\eta_t$ is a vector of rational expectations errors\n",
    "- $u_t$ is a vector of measurement error\n",
    "- $\\theta$ is a vector of parameters"
   ]
  },
  {
   "cell_type": "markdown",
   "metadata": {
    "nbpresent": {
     "id": "a507d41c-0c6a-4a50-886a-3a9ecf2cdc1d"
    },
    "slideshow": {
     "slide_type": "slide"
    }
   },
   "source": [
    "Equilibrium conditions\n",
    "\n",
    "$$\\Gamma_0(\\theta) s_t = \\Gamma_1(\\theta) s_{t-1} + \\Psi(\\theta) \\epsilon_t + \\Pi(\\theta) \\eta_t + C(\\theta)$$\n",
    "\n",
    "which are solved to give the state-space representation\n",
    "\n",
    "$$\n",
    "\\begin{align*}\n",
    "s_t &= T(\\theta) s_{t-1} + R(\\theta) \\epsilon_t + C(\\theta) & \\epsilon_t \\sim N(0, Q(\\theta)) \\\\\n",
    "y_t &= Z(\\theta) s_t + D(\\theta) + u_t & u_t \\sim N(0, E(\\theta))\n",
    "\\end{align*}\n",
    "$$"
   ]
  },
  {
   "cell_type": "markdown",
   "metadata": {
    "collapsed": true,
    "nbpresent": {
     "id": "9a8dcd28-44cd-4be0-a42b-2e27cc688fd1"
    },
    "slideshow": {
     "slide_type": "slide"
    }
   },
   "source": [
    "## Using Existing Models"
   ]
  },
  {
   "cell_type": "markdown",
   "metadata": {
    "nbpresent": {
     "id": "447fd38e-3cc5-4d9a-8b30-f0fd51ca47e5"
    },
    "slideshow": {
     "slide_type": "slide"
    }
   },
   "source": [
    "Let's construct an instance of the following (log-linearized) three-equation New Keynesian model:\n",
    "\n",
    "$$\n",
    "\\begin{align*}\n",
    "y_t - g_t &= -\\frac{1}{\\tau} R_t + \\frac{1}{1 + \\tau} \\mathbb{E} \\pi_{t+1} + \\mathbb{E}(y_{t+1} - g_{t+1}) + \\frac{1}{\\tau} \\mathbb{E} z_{t+1} \\\\\n",
    "\\pi_t &= \\beta \\mathbb{E} \\pi_{t+1} + \\kappa (y_t - g_t) \\\\\n",
    "R_t &= \\rho_R R_{t-1} + (1 - \\rho_R) [\\psi_1 \\pi_t + \\psi_2 (y_t - g_t)] + \\epsilon_{R,t}\n",
    "\\end{align*}\n",
    "$$"
   ]
  },
  {
   "cell_type": "markdown",
   "metadata": {
    "nbpresent": {
     "id": "112b87a7-5855-4601-8b20-e7bac95a5e55"
    },
    "slideshow": {
     "slide_type": "slide"
    }
   },
   "source": [
    "where\n",
    "\n",
    "$$\n",
    "\\begin{align*}\n",
    "s_t &= [y_t, \\pi_t, R_t, y_{t-1}, g_t, z_t, \\mathbb{E} y_{t+1}, \\mathbb{E} \\pi_{t+1}]' \\\\\n",
    "y_t &= [\\text{Real per-capita GDP growth}_t, \\text{CPI inflation}_t, \\text{Nominal FFR}_t]'\n",
    "\\end{align*}\n",
    "$$\n",
    "\n",
    "are the state and observable vectors respectively."
   ]
  },
  {
   "cell_type": "code",
   "execution_count": null,
   "metadata": {
    "collapsed": false,
    "nbpresent": {
     "id": "f7ff2ae0-8510-4ff8-bad2-e56759a681d9"
    },
    "slideshow": {
     "slide_type": "slide"
    }
   },
   "outputs": [],
   "source": [
    "using DSGE\n",
    "\n",
    "# Construct model object\n",
    "m = AnSchorfheide()\n",
    "\n",
    "# Set data vintage and initial forecast date\n",
    "m <= Setting(:data_vintage, \"170528\")\n",
    "m <= Setting(:date_forecast_start, DSGE.quartertodate(\"2017-Q2\"))\n",
    "\n",
    "# Set input and output directories\n",
    "m <= Setting(:dataroot, joinpath(pwd(), \"input_data\"))\n",
    "m <= Setting(:saveroot, pwd())\n",
    "\n",
    "# Don't use population forecast\n",
    "m <= Setting(:use_population_forecast, false)"
   ]
  },
  {
   "cell_type": "code",
   "execution_count": null,
   "metadata": {
    "collapsed": false,
    "nbpresent": {
     "id": "84a715c1-f5a8-43f7-9fb8-639074ca1e3e"
    },
    "slideshow": {
     "slide_type": "slide"
    }
   },
   "outputs": [],
   "source": [
    "m"
   ]
  },
  {
   "cell_type": "code",
   "execution_count": null,
   "metadata": {
    "collapsed": false,
    "nbpresent": {
     "id": "ede680d7-0978-4963-872c-0b28b9c8b28f"
    },
    "slideshow": {
     "slide_type": "slide"
    }
   },
   "outputs": [],
   "source": [
    "# Read in a previously computed vector of modal parameters\n",
    "mode_file = rawpath(m, \"estimate\", \"paramsmode.h5\")\n",
    "specify_mode!(m, mode_file)"
   ]
  },
  {
   "cell_type": "code",
   "execution_count": null,
   "metadata": {
    "collapsed": false,
    "slideshow": {
     "slide_type": "slide"
    }
   },
   "outputs": [],
   "source": [
    "# Solve the rational expectations model to get transition equation \n",
    "# matrices\n",
    "TTT, RRR, CCC = solve(m)"
   ]
  },
  {
   "cell_type": "markdown",
   "metadata": {
    "nbpresent": {
     "id": "64b700c2-2430-40fd-9d3d-79957f03ff00"
    },
    "slideshow": {
     "slide_type": "slide"
    }
   },
   "source": [
    "Estimate and forecast the model:"
   ]
  },
  {
   "cell_type": "code",
   "execution_count": null,
   "metadata": {
    "collapsed": true,
    "nbpresent": {
     "id": "88ca4b52-a672-460e-a46f-646fec0f2455"
    },
    "slideshow": {
     "slide_type": "-"
    }
   },
   "outputs": [],
   "source": [
    "# Find a posterior mode, sample from the posterior distribution\n",
    "estimate(m)\n",
    "\n",
    "# Add parallel workers\n",
    "my_procs = addprocs(50)\n",
    "\n",
    "# Forecast using the full distribution of parameters\n",
    "output_vars = [:forecaststates, :forecastobs]\n",
    "forecast_one(m, :full, :none, output_vars)\n",
    "means_bands_all(m, :full, :none, output_vars)\n",
    "\n",
    "# Remove parallel workers\n",
    "rmprocs(my_procs)"
   ]
  },
  {
   "cell_type": "markdown",
   "metadata": {
    "nbpresent": {
     "id": "ef0bee98-4417-4d65-b61d-2b9a9c4db3c6"
    },
    "slideshow": {
     "slide_type": "slide"
    }
   },
   "source": [
    "Since in practice estimating and forecasting the full distribution is time-consuming, we'll forecast only at the mode using the mode we read in:"
   ]
  },
  {
   "cell_type": "code",
   "execution_count": null,
   "metadata": {
    "collapsed": false,
    "nbpresent": {
     "id": "a245e3b8-5d31-4bcb-9a74-35cf7f133931"
    }
   },
   "outputs": [],
   "source": [
    "# Load data\n",
    "df = load_data(m)\n",
    "\n",
    "# Forecast using modal parameters\n",
    "output_vars = [:histobs, :forecaststates, :forecastobs]\n",
    "forecast_one(m, :mode, :none, output_vars, df = df, verbose = :none)\n",
    "means_bands_all(m, :mode, :none, output_vars, verbose = :none)"
   ]
  },
  {
   "cell_type": "code",
   "execution_count": null,
   "metadata": {
    "collapsed": false,
    "nbpresent": {
     "id": "af377c21-fd1a-4162-8adc-0fa0b9977488"
    },
    "slideshow": {
     "slide_type": "slide"
    }
   },
   "outputs": [],
   "source": [
    "# Read in forecasted observables\n",
    "files = get_meansbands_output_files(m, :mode, :none, output_vars)\n",
    "mb = read_mb(files[:forecastobs])"
   ]
  },
  {
   "cell_type": "code",
   "execution_count": null,
   "metadata": {
    "collapsed": false,
    "nbpresent": {
     "id": "a288f08a-1409-45c4-897c-f9612e078445"
    }
   },
   "outputs": [],
   "source": [
    "# Show first four forecasted quarters\n",
    "mb.means[1:4, :]"
   ]
  },
  {
   "cell_type": "code",
   "execution_count": null,
   "metadata": {
    "collapsed": false,
    "nbpresent": {
     "id": "3591edd3-2e94-475d-8b23-7d16d95f076f"
    },
    "slideshow": {
     "slide_type": "slide"
    }
   },
   "outputs": [],
   "source": [
    "# Read in forecasted states\n",
    "mb = read_mb(files[:forecaststates])\n",
    "\n",
    "# Show first forecasted quarters of output, inflation, and interest rate\n",
    "mb.means[1:4, [:y_t, :π_t, :R_t]]"
   ]
  },
  {
   "cell_type": "code",
   "execution_count": null,
   "metadata": {
    "collapsed": false,
    "slideshow": {
     "slide_type": "slide"
    }
   },
   "outputs": [],
   "source": [
    "using Plots\n",
    "include(\"util.jl\")\n",
    "include(\"plot_history_and_forecast.jl\")\n",
    "\n",
    "# Plot nominal rate history and modal forecast\n",
    "hist_mb  = read_mb(files[:histobs])\n",
    "fcast_mb = read_mb(files[:forecastobs])\n",
    "plot_history_and_forecast(:obs_nominalrate, hist_mb, fcast_mb)"
   ]
  },
  {
   "cell_type": "markdown",
   "metadata": {
    "nbpresent": {
     "id": "c36485e1-793b-4791-9a05-2414d53bd1a1"
    },
    "slideshow": {
     "slide_type": "slide"
    }
   },
   "source": [
    "## The Model Object"
   ]
  },
  {
   "cell_type": "markdown",
   "metadata": {
    "nbpresent": {
     "id": "e3b562e9-322c-4b33-8bd8-bcba39fbaa86"
    },
    "slideshow": {
     "slide_type": "slide"
    }
   },
   "source": [
    "Subtypes of `AbstractModel` contain the following fields:"
   ]
  },
  {
   "cell_type": "code",
   "execution_count": null,
   "metadata": {
    "collapsed": false,
    "nbpresent": {
     "id": "62fc466c-c050-4b3a-8c6f-457950add74d"
    },
    "slideshow": {
     "slide_type": "-"
    }
   },
   "outputs": [],
   "source": [
    "fieldnames(m)"
   ]
  },
  {
   "cell_type": "markdown",
   "metadata": {
    "collapsed": true,
    "nbpresent": {
     "id": "7a293d5c-36a6-4bed-bd85-366cf611379b"
    },
    "slideshow": {
     "slide_type": "slide"
    }
   },
   "source": [
    "These fields include:\n",
    "\n",
    "- Vectors of time-invariant (`parameters`) and steady-state parameters (`steady_state`)\n",
    "- `Dict{Symbol, Int}`s mapping states, shocks, expectational errors, equations, or observables to indices. For example:"
   ]
  },
  {
   "cell_type": "code",
   "execution_count": null,
   "metadata": {
    "collapsed": false,
    "nbpresent": {
     "id": "28089ee9-82a4-4fdf-bbc8-d7c566419be6"
    },
    "slideshow": {
     "slide_type": "slide"
    }
   },
   "outputs": [],
   "source": [
    "m.endogenous_states"
   ]
  },
  {
   "cell_type": "markdown",
   "metadata": {
    "nbpresent": {
     "id": "cda12a81-a64b-465c-b60d-5843b3186c73"
    },
    "slideshow": {
     "slide_type": "-"
    }
   },
   "source": [
    "`m.endogenous_states[:y_t] = 1` indicates that the first element of the state vector\n",
    "\n",
    "$$s_t = [y_t, \\pi_t, R_t, y_{t-1}, g_t, z_t, \\mathbb{E} y_{t+1}, \\mathbb{E} \\pi_{t+1}]$$\n",
    "\n",
    "is $y_t$."
   ]
  },
  {
   "cell_type": "code",
   "execution_count": null,
   "metadata": {
    "collapsed": false,
    "nbpresent": {
     "id": "0c1b8853-8358-4e6d-a51f-a4e6b048f620"
    },
    "slideshow": {
     "slide_type": "slide"
    }
   },
   "outputs": [],
   "source": [
    "m.equilibrium_conditions"
   ]
  },
  {
   "cell_type": "markdown",
   "metadata": {
    "nbpresent": {
     "id": "edce2bfa-3e5b-46f2-86de-4b6051229f9c"
    }
   },
   "source": [
    "`m.equilibrium_conditions[:eq_euler] = 1` means the first row of the equilibrium conditions\n",
    "\n",
    "$$\\Gamma_0 s_t = \\Gamma_1 s_{t-1} + \\Psi \\epsilon_t + \\Pi \\eta_t + C$$\n",
    "\n",
    "is the consumption Euler equation."
   ]
  },
  {
   "cell_type": "markdown",
   "metadata": {
    "nbpresent": {
     "id": "21da31ad-5847-42a8-8c59-28bc0b857e5c"
    },
    "slideshow": {
     "slide_type": "slide"
    }
   },
   "source": [
    "Additional fields in the model object:\n",
    "\n",
    "- Strings giving the model specification (`spec`) and subspecification (`subspec`)\n",
    "- `Dict{Symbol, Setting}`s of model settings, both for regular use (`settings`) and testing the package (`test_settings`)"
   ]
  },
  {
   "cell_type": "markdown",
   "metadata": {
    "collapsed": true,
    "slideshow": {
     "slide_type": "slide"
    }
   },
   "source": [
    "## Exercise: MA(1) Model\n",
    "\n",
    "See `exercise.ipynb`"
   ]
  },
  {
   "cell_type": "markdown",
   "metadata": {
    "slideshow": {
     "slide_type": "slide"
    }
   },
   "source": [
    "## State-Space Routines"
   ]
  },
  {
   "cell_type": "markdown",
   "metadata": {
    "slideshow": {
     "slide_type": "slide"
    }
   },
   "source": [
    "[StateSpaceRoutines.jl](https://github.com/FRBNY-DSGE/StateSpaceRoutines.jl)\n",
    "\n",
    "- Package implementing **DSGE.jl-agnostic** state-space routines\n",
    "- DSGE.jl functions `filter` and `smooth` wrap calls to these functions"
   ]
  },
  {
   "cell_type": "markdown",
   "metadata": {
    "slideshow": {
     "slide_type": "slide"
    }
   },
   "source": [
    "Implemented routines:\n",
    "\n",
    "- Kalman filter (`kalman_filter`)\n",
    "- Kalman smoothers:\n",
    "  + `hamilton_smoother`: James Hamilton, [_Time Series Analysis_](https://www.amazon.com/Time-Analysis-James-Douglas-Hamilton/dp/0691042896) (1994)\n",
    "  + `koopman_smoother`: S.J. Koopman, [\"Disturbance Smoother for State Space Models\"](https://www.jstor.org/stable/2336762) (_Biometrika_, 1993)"
   ]
  },
  {
   "cell_type": "markdown",
   "metadata": {
    "slideshow": {
     "slide_type": "slide"
    }
   },
   "source": [
    "- Simulation smoothers:\n",
    "  + `carter_kohn_smoother`: C.K. Carter and R. Kohn, [\"On Gibbs Sampling for State Space Models\"](https://www.jstor.org/stable/2337125) (_Biometrika_, 1994)\n",
    "  + `durbin_koopman_smoother`: J. Durbin and S.J. Koopman, [\"A Simple and Efficient Simulation Smoother for State Space Time Series Analysis\"](https://www.jstor.org/stable/4140605) (_Biometrika_, 2002)"
   ]
  },
  {
   "cell_type": "code",
   "execution_count": null,
   "metadata": {
    "collapsed": false,
    "slideshow": {
     "slide_type": "slide"
    }
   },
   "outputs": [],
   "source": [
    "using StateSpaceRoutines"
   ]
  },
  {
   "cell_type": "code",
   "execution_count": null,
   "metadata": {
    "collapsed": false
   },
   "outputs": [],
   "source": [
    "?kalman_filter"
   ]
  },
  {
   "cell_type": "markdown",
   "metadata": {
    "slideshow": {
     "slide_type": "slide"
    }
   },
   "source": [
    "Example: Kalman filter"
   ]
  },
  {
   "cell_type": "code",
   "execution_count": null,
   "metadata": {
    "collapsed": false,
    "slideshow": {
     "slide_type": "-"
    }
   },
   "outputs": [],
   "source": [
    "# Compute state-space matrices\n",
    "sys = compute_system(m)\n",
    "\n",
    "# Convert DataFrame to matrix\n",
    "data = df_to_matrix(m, df)\n",
    "\n",
    "# Call Kalman filter\n",
    "loglike, s_T, P_T, _, _, _, _, _, _, _, _, s_0, P_0 =\n",
    "    kalman_filter(data, sys[:TTT], sys[:RRR], sys[:CCC], sys[:QQ],\n",
    "                  sys[:ZZ], sys[:DD], sys[:EE])\n",
    "loglike"
   ]
  },
  {
   "cell_type": "code",
   "execution_count": null,
   "metadata": {
    "collapsed": false
   },
   "outputs": [],
   "source": [
    "s_T"
   ]
  },
  {
   "cell_type": "markdown",
   "metadata": {
    "slideshow": {
     "slide_type": "slide"
    }
   },
   "source": [
    "Example: simulation smoother"
   ]
  },
  {
   "cell_type": "code",
   "execution_count": null,
   "metadata": {
    "collapsed": false,
    "slideshow": {
     "slide_type": "-"
    }
   },
   "outputs": [],
   "source": [
    "# Call simulation smoother\n",
    "smoothed_states, smoothed_shocks =\n",
    "    durbin_koopman_smoother(data, sys[:TTT], sys[:RRR], sys[:CCC], sys[:QQ],\n",
    "                            sys[:ZZ], sys[:DD], sys[:EE], s_0, P_0,\n",
    "                            draw_states = true)\n",
    "smoothed_states"
   ]
  },
  {
   "cell_type": "code",
   "execution_count": null,
   "metadata": {
    "collapsed": false
   },
   "outputs": [],
   "source": [
    "smoothed_shocks"
   ]
  },
  {
   "cell_type": "markdown",
   "metadata": {
    "slideshow": {
     "slide_type": "slide"
    }
   },
   "source": [
    "## Conclusion"
   ]
  },
  {
   "cell_type": "markdown",
   "metadata": {
    "slideshow": {
     "slide_type": "slide"
    }
   },
   "source": [
    "Things learned:\n",
    "\n",
    "- We love open source (and Julia)!\n",
    "  + Open-source languages and packages reduce costs of writing code and make it easier to share\n",
    "  + Julia is high-performance and high-productivity\n",
    "- Challenges to be aware of\n",
    "  + New language: frequent updates. This will slow down when v1.0 comes out (hopefully this year)\n",
    "  + Sparse StackOverflow activity"
   ]
  },
  {
   "cell_type": "markdown",
   "metadata": {
    "slideshow": {
     "slide_type": "slide"
    }
   },
   "source": [
    "Ongoing work:\n",
    "\n",
    "- Forecasting under alternative monetary policy rules\n",
    "- Forecast evaluation and decomposing changes in forecasts\n",
    "- Estimating nonlinear models using the tempered particle filter (Herbst & Schorfheide 2017)"
   ]
  },
  {
   "cell_type": "markdown",
   "metadata": {
    "slideshow": {
     "slide_type": "slide"
    }
   },
   "source": [
    "### Thank you!\n",
    "\n",
    "https://github.com/FRBNY-DSGE/DSGE.jl <br>\n",
    "https://github.com/FRBNY-DSGE/StateSpaceRoutines.jl"
   ]
  }
 ],
 "metadata": {
  "anaconda-cloud": {},
  "celltoolbar": "Slideshow",
  "kernelspec": {
   "display_name": "Julia 0.5.0",
   "language": "julia",
   "name": "julia-0.5"
  },
  "language_info": {
   "file_extension": ".jl",
   "mimetype": "application/julia",
   "name": "julia",
   "version": "0.5.0"
  }
 },
 "nbformat": 4,
 "nbformat_minor": 2
}
