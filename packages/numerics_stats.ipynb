{
 "cells": [
  {
   "cell_type": "markdown",
   "metadata": {
    "slideshow": {
     "slide_type": "slide"
    }
   },
   "source": [
    "# Numerical and statistical tools\n",
    "\n",
    "** @ CEF 2017** \n",
    "\n",
    "**Authors**: Chase Coleman and Spencer Lyon\n",
    "\n",
    "**Date**: 27 June 2017"
   ]
  },
  {
   "cell_type": "markdown",
   "metadata": {
    "slideshow": {
     "slide_type": "fragment"
    }
   },
   "source": [
    "- In this notebook we cover packages that didn't have a home in one of the other sections\n",
    "- These include packages for computing derivatives, basic statistics, handling data and more"
   ]
  },
  {
   "cell_type": "markdown",
   "metadata": {
    "slideshow": {
     "slide_type": "slide"
    }
   },
   "source": [
    "## Distributions.jl\n",
    "\n",
    "- In my opinion Distributions.jl is one of the best examples of flexible, performant, and idiomatic Julia code\n",
    "- Provides routines for working with probability distributions and...\n",
    "    - Computing moments/statistics: mean, median, mode, entropy, mgf, quantile\n",
    "    - Probability evaluation: pdf, cdf, ccdf, quantile, invlogcdf\n",
    "    - Sampling: rand and rand!"
   ]
  },
  {
   "cell_type": "code",
   "execution_count": null,
   "metadata": {
    "collapsed": true
   },
   "outputs": [],
   "source": [
    "# Pkg.add(\"Distributions\")"
   ]
  },
  {
   "cell_type": "markdown",
   "metadata": {
    "slideshow": {
     "slide_type": "subslide"
    }
   },
   "source": [
    "### Distributions.jl Basics"
   ]
  },
  {
   "cell_type": "code",
   "execution_count": null,
   "metadata": {
    "collapsed": true
   },
   "outputs": [],
   "source": [
    "using Distributions"
   ]
  },
  {
   "cell_type": "code",
   "execution_count": null,
   "metadata": {},
   "outputs": [],
   "source": [
    "# all subtypes of `Distributions.Distribution`\n",
    "length(subtypes(Distribution))"
   ]
  },
  {
   "cell_type": "code",
   "execution_count": null,
   "metadata": {
    "slideshow": {
     "slide_type": "fragment"
    }
   },
   "outputs": [],
   "source": [
    "?Normal  # good documentation"
   ]
  },
  {
   "cell_type": "code",
   "execution_count": null,
   "metadata": {
    "scrolled": false,
    "slideshow": {
     "slide_type": "fragment"
    }
   },
   "outputs": [],
   "source": [
    "dists = [\n",
    "    Normal(0, 1),\n",
    "    Beta(1.0, 2.0),\n",
    "    Chisq(5),\n",
    "    Frechet(5.0, 2.0),\n",
    "    Gamma(1.0, 2.0),\n",
    "    Pareto(3.0, 2.0),\n",
    "    Binomial(10, 0.6),\n",
    "    Poisson(0.7),\n",
    "    MvLogNormal(ones(2), 3*eye(2)),\n",
    "    Dirichlet([0.1, 0.2, 0.3, 0.4]),\n",
    "    InverseWishart(5, eye(2)),\n",
    "    MixtureModel(Normal[\n",
    "        Normal(-2.0, 1.2),\n",
    "        Normal(0.0, 1.0),\n",
    "        Normal(3.0, 2.5)], \n",
    "        [0.2, 0.5, 0.3]  # prior\n",
    "    )\n",
    "]\n",
    "\n",
    "for d in dists\n",
    "    println(\"Working with distribution: $(repr(d))\")\n",
    "    @show mean(d)\n",
    "    if isa(d, Distributions.UnivariateDistribution)\n",
    "        @show rand(d, 2, 2)\n",
    "    else\n",
    "        @show rand(d, 2)\n",
    "    end\n",
    "    \n",
    "    @show pdf(d, rand(d))\n",
    "    println(\"\\n\\n\\n\")\n",
    "end"
   ]
  },
  {
   "cell_type": "markdown",
   "metadata": {
    "slideshow": {
     "slide_type": "subslide"
    }
   },
   "source": [
    "### More than you need\n"
   ]
  },
  {
   "cell_type": "markdown",
   "metadata": {},
   "source": [
    "Let's list all the available distributions, by type of distribution"
   ]
  },
  {
   "cell_type": "code",
   "execution_count": null,
   "metadata": {},
   "outputs": [],
   "source": [
    "dist_types = [\n",
    "    Distributions.DiscreteMatrixDistribution,\n",
    "    Distributions.DiscreteMultivariateDistribution,\n",
    "    Distributions.DiscreteUnivariateDistribution,\n",
    "    Distributions.ContinuousMatrixDistribution,\n",
    "    Distributions.ContinuousMultivariateDistribution,\n",
    "    Distributions.ContinuousUnivariateDistribution,   \n",
    "]\n",
    "\n",
    "for T in dist_types\n",
    "    println(\"$T: \")\n",
    "    @show subtypes(T)\n",
    "    println(\"\\n\\n\")\n",
    "end "
   ]
  },
  {
   "cell_type": "code",
   "execution_count": null,
   "metadata": {
    "slideshow": {
     "slide_type": "fragment"
    }
   },
   "outputs": [],
   "source": [
    "# fitting a distribution, given some samples\n",
    "fit_mle(Normal, randn(100_000)) # should get close to N(0, 1)"
   ]
  },
  {
   "cell_type": "code",
   "execution_count": null,
   "metadata": {
    "slideshow": {
     "slide_type": "fragment"
    }
   },
   "outputs": [],
   "source": [
    "# do fitting with mle\n",
    "fit_mle(Uniform, rand(100_000) .* 2 .+ 1) # should get close to U(1, 3)"
   ]
  },
  {
   "cell_type": "markdown",
   "metadata": {
    "slideshow": {
     "slide_type": "slide"
    }
   },
   "source": [
    "## Calculus.jl\n",
    "\n",
    "- Computes analytical derivatives of Julia `Expr`essions and accurate numerical derivatives of functions"
   ]
  },
  {
   "cell_type": "code",
   "execution_count": null,
   "metadata": {
    "collapsed": true
   },
   "outputs": [],
   "source": [
    "# Pkg.add(\"Calculus\")"
   ]
  },
  {
   "cell_type": "markdown",
   "metadata": {
    "slideshow": {
     "slide_type": "subslide"
    }
   },
   "source": [
    "### Calculus.jl Basics"
   ]
  },
  {
   "cell_type": "code",
   "execution_count": null,
   "metadata": {},
   "outputs": [],
   "source": [
    "using Calculus"
   ]
  },
  {
   "cell_type": "markdown",
   "metadata": {
    "slideshow": {
     "slide_type": "fragment"
    }
   },
   "source": [
    "#### Symbolic derivatives"
   ]
  },
  {
   "cell_type": "code",
   "execution_count": null,
   "metadata": {},
   "outputs": [],
   "source": [
    "differentiate(:(sin(x)), :x)"
   ]
  },
  {
   "cell_type": "code",
   "execution_count": null,
   "metadata": {},
   "outputs": [],
   "source": [
    "differentiate(:(cos(sin(y))), :y)"
   ]
  },
  {
   "cell_type": "code",
   "execution_count": null,
   "metadata": {},
   "outputs": [],
   "source": [
    "differentiate(:(c^(1-γ)/(1-γ)), :c)"
   ]
  },
  {
   "cell_type": "markdown",
   "metadata": {
    "slideshow": {
     "slide_type": "fragment"
    }
   },
   "source": [
    "#### Finite difference"
   ]
  },
  {
   "cell_type": "code",
   "execution_count": null,
   "metadata": {},
   "outputs": [],
   "source": [
    "derivative(sin, 1.0) - cos(1.0)"
   ]
  },
  {
   "cell_type": "code",
   "execution_count": null,
   "metadata": {},
   "outputs": [],
   "source": [
    "second_derivative(sin, 1.0) + sin(1.0)"
   ]
  },
  {
   "cell_type": "code",
   "execution_count": null,
   "metadata": {},
   "outputs": [],
   "source": [
    "Calculus.gradient(x -> exp(x[1]) + sin(x[2]) / x[1], [1.0, π])"
   ]
  },
  {
   "cell_type": "code",
   "execution_count": null,
   "metadata": {},
   "outputs": [],
   "source": [
    "Calculus.hessian(x -> exp(x[1]) + sin(x[2]) / x[1], [1.0, π])"
   ]
  },
  {
   "cell_type": "code",
   "execution_count": null,
   "metadata": {},
   "outputs": [],
   "source": [
    "Calculus.jacobian(x -> [exp(x[1]),  sin(x[2]) / x[1]], [1.0, π], :central)"
   ]
  },
  {
   "cell_type": "markdown",
   "metadata": {
    "slideshow": {
     "slide_type": "slide"
    }
   },
   "source": [
    "## SymEngine.jl\n",
    "\n",
    "- Next generation C++ backend for sympy computer algebra system\n",
    "- A very fast alternative to Calculus.jl for symbolic differentiation"
   ]
  },
  {
   "cell_type": "code",
   "execution_count": null,
   "metadata": {
    "collapsed": true
   },
   "outputs": [],
   "source": [
    "# Pkg.add(\"SymEngine\")"
   ]
  },
  {
   "cell_type": "markdown",
   "metadata": {
    "slideshow": {
     "slide_type": "subslide"
    }
   },
   "source": [
    "### SymEngine.jl Basics"
   ]
  },
  {
   "cell_type": "code",
   "execution_count": null,
   "metadata": {},
   "outputs": [],
   "source": [
    "using SymEngine"
   ]
  },
  {
   "cell_type": "code",
   "execution_count": null,
   "metadata": {},
   "outputs": [],
   "source": [
    "# needs first argument to be of type SymEngine.Basic\n",
    "diff(Basic(:(sin(x))), :x)"
   ]
  },
  {
   "cell_type": "code",
   "execution_count": null,
   "metadata": {},
   "outputs": [],
   "source": [
    "diff(Basic(\"cos(sin(y))\"), :y)"
   ]
  },
  {
   "cell_type": "code",
   "execution_count": null,
   "metadata": {},
   "outputs": [],
   "source": [
    "diff(Basic(\"c^(1-γ)/(1-γ)\"), :c)"
   ]
  },
  {
   "cell_type": "markdown",
   "metadata": {
    "slideshow": {
     "slide_type": "subslide"
    }
   },
   "source": [
    "Let's see how fast SymEngine is compared to Calculus.jl\n",
    "\n",
    "To do this we will load the BenchmarkTools.jl package that goes to great lengths to produce statistically accurate and robust timing estimates at the sub-microsecond level"
   ]
  },
  {
   "cell_type": "code",
   "execution_count": null,
   "metadata": {},
   "outputs": [],
   "source": [
    "# Pkg.add(\"BenchmarkTools\")\n",
    "using BenchmarkTools"
   ]
  },
  {
   "cell_type": "code",
   "execution_count": null,
   "metadata": {},
   "outputs": [],
   "source": [
    "@benchmark Calculus.differentiate(:((y + r*a - ap)^(1-γ)/(1-γ)), :ap)"
   ]
  },
  {
   "cell_type": "code",
   "execution_count": null,
   "metadata": {},
   "outputs": [],
   "source": [
    "@benchmark diff(Basic(\"(y + r*a - ap)^(1-γ)/(1-γ)\"), :ap)"
   ]
  },
  {
   "cell_type": "markdown",
   "metadata": {
    "slideshow": {
     "slide_type": "slide"
    }
   },
   "source": [
    "## Data handling\n",
    "\n",
    "- Julia's data picture is young, but still maturing\n",
    "- Python is still my go-to choice for data cleaning/analysis\n",
    "- That being said, working with data in Julia is still doable and effective\n",
    "\n",
    "I won't demo them now, but some the key packages are:\n",
    "\n",
    "- [DataFrames.jl](https://github.com/JuliaStats/DataFrames.jl): Provides a DataFrame type for handling columnar data\n",
    "- [CSV.jl](https://github.com/JuliaData/CSV.jl): very high performance reading and writing of delimited data files\n",
    "- [DataStreams.jl](https://github.com/JuliaData/DataStreams.jl): provide an interface for streaming data from a source to a sink\n",
    "- [Query.jl](https://github.com/davidanthoff/Query.jl): filter, project, join, group any iterable data source"
   ]
  },
  {
   "cell_type": "code",
   "execution_count": null,
   "metadata": {
    "collapsed": true
   },
   "outputs": [],
   "source": []
  }
 ],
 "metadata": {
  "kernelspec": {
   "display_name": "Julia 0.5.2",
   "language": "julia",
   "name": "julia-0.5"
  },
  "language_info": {
   "file_extension": ".jl",
   "mimetype": "application/julia",
   "name": "julia",
   "version": "0.5.2"
  },
  "livereveal": {
   "scroll": true,
   "start_slideshow_at": "selected",
   "theme": "white",
   "transition": "fade"
  }
 },
 "nbformat": 4,
 "nbformat_minor": 2
}
