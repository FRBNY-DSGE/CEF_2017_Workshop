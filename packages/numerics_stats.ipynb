{
 "cells": [
  {
   "cell_type": "markdown",
   "metadata": {},
   "source": [
    "# Numerical and statistical tools\n",
    "\n",
    "- In this notebook we cover packages that didn't have a home in one of the other sections\n",
    "- These include packages for computing derivatives, basic statistics, handling data and more"
   ]
  },
  {
   "cell_type": "markdown",
   "metadata": {
    "heading_collapsed": true
   },
   "source": [
    "## Distributions.jl\n",
    "\n",
    "- In my opinion Distributions.jl is one of the best examples of flexible, performant, and idiomatic Julia code\n",
    "- Provides routines for working with probability distributions and...\n",
    "    - Computing moments/statistics: mean, median, mode, entropy, mgf, quantile\n",
    "    - Probability evaluation: pdf, cdf, ccdf, quantile, invlogcdf\n",
    "    - Sampling: rand and rand!"
   ]
  },
  {
   "cell_type": "code",
   "execution_count": 1,
   "metadata": {
    "collapsed": true,
    "hidden": true
   },
   "outputs": [],
   "source": [
    "# Pkg.add(\"Distributions\")"
   ]
  },
  {
   "cell_type": "markdown",
   "metadata": {
    "hidden": true
   },
   "source": [
    "### Distributions.jl Basics"
   ]
  },
  {
   "cell_type": "code",
   "execution_count": 4,
   "metadata": {
    "hidden": true
   },
   "outputs": [],
   "source": [
    "using Distributions"
   ]
  },
  {
   "cell_type": "code",
   "execution_count": 5,
   "metadata": {
    "hidden": true
   },
   "outputs": [
    {
     "data": {
      "text/plain": [
       "67"
      ]
     },
     "execution_count": 5,
     "metadata": {},
     "output_type": "execute_result"
    }
   ],
   "source": [
    "# all subtypes of `Distributions.Distribution`\n",
    "length(subtypes(Distribution))"
   ]
  },
  {
   "cell_type": "code",
   "execution_count": 6,
   "metadata": {
    "hidden": true
   },
   "outputs": [
    {
     "name": "stdout",
     "output_type": "stream",
     "text": [
      "search: \u001b[1mN\u001b[22m\u001b[1mo\u001b[22m\u001b[1mr\u001b[22m\u001b[1mm\u001b[22m\u001b[1ma\u001b[22m\u001b[1ml\u001b[22m \u001b[1mn\u001b[22m\u001b[1mo\u001b[22m\u001b[1mr\u001b[22m\u001b[1mm\u001b[22m\u001b[1ma\u001b[22m\u001b[1ml\u001b[22mize \u001b[1mn\u001b[22m\u001b[1mo\u001b[22m\u001b[1mr\u001b[22m\u001b[1mm\u001b[22m\u001b[1ma\u001b[22m\u001b[1ml\u001b[22mize! \u001b[1mN\u001b[22m\u001b[1mo\u001b[22m\u001b[1mr\u001b[22m\u001b[1mm\u001b[22m\u001b[1ma\u001b[22m\u001b[1ml\u001b[22mCanon \u001b[1mn\u001b[22m\u001b[1mo\u001b[22m\u001b[1mr\u001b[22m\u001b[1mm\u001b[22m\u001b[1ma\u001b[22m\u001b[1ml\u001b[22mize_string\n",
      "\n"
     ]
    },
    {
     "data": {
      "text/markdown": [
       "```\n",
       "Normal(μ,σ)\n",
       "```\n",
       "\n",
       "The *Normal distribution* with mean `μ` and standard deviation `σ` has probability density function\n",
       "\n",
       "$$\n",
       "f(x; \\mu, \\sigma) = \\frac{1}{\\sqrt{2 \\pi \\sigma^2}}\n",
       "\\exp \\left( - \\frac{(x - \\mu)^2}{2 \\sigma^2} \\right)\n",
       "$$\n",
       "\n",
       "```julia\n",
       "Normal()          # standard Normal distribution with zero mean and unit variance\n",
       "Normal(mu)        # Normal distribution with mean mu and unit variance\n",
       "Normal(mu, sig)   # Normal distribution with mean mu and variance sig^2\n",
       "\n",
       "params(d)         # Get the parameters, i.e. (mu, sig)\n",
       "mean(d)           # Get the mean, i.e. mu\n",
       "std(d)            # Get the standard deviation, i.e. sig\n",
       "```\n",
       "\n",
       "External links\n",
       "\n",
       "  * [Normal distribution on Wikipedia](http://en.wikipedia.org/wiki/Normal_distribution)\n"
      ],
      "text/plain": [
       "```\n",
       "Normal(μ,σ)\n",
       "```\n",
       "\n",
       "The *Normal distribution* with mean `μ` and standard deviation `σ` has probability density function\n",
       "\n",
       "$$\n",
       "f(x; \\mu, \\sigma) = \\frac{1}{\\sqrt{2 \\pi \\sigma^2}}\n",
       "\\exp \\left( - \\frac{(x - \\mu)^2}{2 \\sigma^2} \\right)\n",
       "$$\n",
       "\n",
       "```julia\n",
       "Normal()          # standard Normal distribution with zero mean and unit variance\n",
       "Normal(mu)        # Normal distribution with mean mu and unit variance\n",
       "Normal(mu, sig)   # Normal distribution with mean mu and variance sig^2\n",
       "\n",
       "params(d)         # Get the parameters, i.e. (mu, sig)\n",
       "mean(d)           # Get the mean, i.e. mu\n",
       "std(d)            # Get the standard deviation, i.e. sig\n",
       "```\n",
       "\n",
       "External links\n",
       "\n",
       "  * [Normal distribution on Wikipedia](http://en.wikipedia.org/wiki/Normal_distribution)\n"
      ]
     },
     "execution_count": 6,
     "metadata": {},
     "output_type": "execute_result"
    }
   ],
   "source": [
    "?Normal  # good documentation"
   ]
  },
  {
   "cell_type": "code",
   "execution_count": 7,
   "metadata": {
    "hidden": true,
    "scrolled": false
   },
   "outputs": [
    {
     "name": "stdout",
     "output_type": "stream",
     "text": [
      "Working with distribution: Distributions.Normal{Float64}(μ=0.0, σ=1.0)\n",
      "mean(d) = 0.0\n",
      "rand(d,2,2) = [-0.445871 -0.681068; -1.25226 0.941212]\n",
      "pdf(d,rand(d)) = 0.2737153249294948\n",
      "\n",
      "\n",
      "\n",
      "\n",
      "Working with distribution: Distributions.Beta{Float64}(α=1.0, β=2.0)\n",
      "mean(d) = 0.3333333333333333\n",
      "rand(d,2,2) = [0.00249029 0.673038; 0.26132 0.0713112]\n",
      "pdf(d,rand(d)) = 1.7747200660175333\n",
      "\n",
      "\n",
      "\n",
      "\n",
      "Working with distribution: Distributions.Chisq{Float64}(ν=5.0)\n",
      "mean(d) = 5.0\n",
      "rand(d,2,2) = [3.00729 1.69783; 4.74108 6.10545]\n",
      "pdf(d,rand(d)) = 0.15179813984353507\n",
      "\n",
      "\n",
      "\n",
      "\n",
      "Working with distribution: Distributions.Frechet{Float64}(α=5.0, θ=2.0)\n",
      "mean(d) = 2.3284594274506065\n",
      "rand(d,2,2) = [2.77902 1.62849; 2.41353 2.66095]\n",
      "pdf(d,rand(d)) = 0.9113177551185412\n",
      "\n",
      "\n",
      "\n",
      "\n",
      "Working with distribution: Distributions.Gamma{Float64}(α=1.0, θ=2.0)\n",
      "mean(d) = 2.0\n",
      "rand(d,2,2) = [2.90441 0.265366; 3.58685 0.968195]\n",
      "pdf(d,rand(d)) = 0.3730812977457815\n",
      "\n",
      "\n",
      "\n",
      "\n",
      "Working with distribution: Distributions.Pareto{Float64}(α=3.0, θ=2.0)\n",
      "mean(d) = 3.0\n",
      "rand(d,2,2) = [3.82697 2.52829; 3.16553 2.5325]\n",
      "pdf(d,rand(d)) = 0.7594295526690975\n",
      "\n",
      "\n",
      "\n",
      "\n",
      "Working with distribution: Distributions.Binomial{Float64}(n=10, p=0.6)\n",
      "mean(d) = 6.0\n",
      "rand(d,2,2) = [8 5; 7 4]\n",
      "pdf(d,rand(d)) = 0.0060466176\n",
      "\n",
      "\n",
      "\n",
      "\n",
      "Working with distribution: Distributions.Poisson{Float64}(λ=0.7)\n",
      "mean(d) = 0.7\n",
      "rand(d,2,2) = [2 2; 1 2]\n",
      "pdf(d,rand(d)) = 0.34760971265398666\n",
      "\n",
      "\n",
      "\n",
      "\n",
      "Working with distribution: Distributions.MvLogNormal{Float64,PDMats.PDMat{Float64,Array{Float64,2}},Array{Float64,1}}(\n",
      "dim: 2\n",
      "μ: [1.0,1.0]\n",
      "Σ: [3.0 0.0; 0.0 3.0]\n",
      ")\n",
      "\n",
      "mean(d) = [12.1825,12.1825]\n",
      "rand(d,2) = [4.6828 1.16927; 1.39207 4.93386]\n",
      "pdf(d,rand(d)) = 0.01508854819462414\n",
      "\n",
      "\n",
      "\n",
      "\n",
      "Working with distribution: Distributions.Dirichlet{Float64}(alpha=[0.1,0.2,0.3,0.4])\n",
      "mean(d) = [0.1,0.2,0.3,0.4]\n",
      "rand(d,2) = [0.0028777 0.00134558; 0.78013 0.540048; 0.216987 0.00100133; 4.73709e-6 0.457605]\n",
      "pdf(d,rand(d)) = 1798.2649394895775\n",
      "\n",
      "\n",
      "\n",
      "\n",
      "Working with distribution: Distributions.InverseWishart{Float64,PDMats.PDMat{Float64,Array{Float64,2}}}(\n",
      "df: 5.0\n",
      "Ψ: [1.0 0.0; 0.0 1.0]\n",
      ")\n",
      "\n",
      "mean(d) = [0.5 0.0; 0.0 0.5]\n",
      "rand(d,2) = Array{Float64,2}[\n",
      "[0.108843 -0.0450156; -0.0450156 0.1773],\n",
      "\n",
      "[0.636722 0.659051; 0.659051 0.928055]]\n",
      "pdf(d,rand(d)) = 13.351302041156245\n",
      "\n",
      "\n",
      "\n",
      "\n",
      "Working with distribution: MixtureModel{Distributions.Normal{T<:Real}}(K = 3)\n",
      "components[1] (prior = 0.2000): Distributions.Normal{Float64}(μ=-2.0, σ=1.2)\n",
      "components[2] (prior = 0.5000): Distributions.Normal{Float64}(μ=0.0, σ=1.0)\n",
      "components[3] (prior = 0.3000): Distributions.Normal{Float64}(μ=3.0, σ=2.5)\n",
      "\n",
      "mean(d) = 0.4999999999999999\n",
      "rand(d,2,2) = [5.15392 -0.226894; 0.175492 1.61422]\n",
      "pdf(d,rand(d)) = 0.15365705829676263\n",
      "\n",
      "\n",
      "\n",
      "\n"
     ]
    }
   ],
   "source": [
    "dists = [\n",
    "    Normal(0, 1),\n",
    "    Beta(1.0, 2.0),\n",
    "    Chisq(5),\n",
    "    Frechet(5.0, 2.0),\n",
    "    Gamma(1.0, 2.0),\n",
    "    Pareto(3.0, 2.0),\n",
    "    Binomial(10, 0.6),\n",
    "    Poisson(0.7),\n",
    "    MvLogNormal(ones(2), 3*eye(2)),\n",
    "    Dirichlet([0.1, 0.2, 0.3, 0.4]),\n",
    "    InverseWishart(5, eye(2)),\n",
    "    MixtureModel(Normal[\n",
    "        Normal(-2.0, 1.2),\n",
    "        Normal(0.0, 1.0),\n",
    "        Normal(3.0, 2.5)], \n",
    "        [0.2, 0.5, 0.3]  # prior\n",
    "    )\n",
    "]\n",
    "\n",
    "for d in dists\n",
    "    println(\"Working with distribution: $(repr(d))\")\n",
    "    @show mean(d)\n",
    "    if isa(d, Distributions.UnivariateDistribution)\n",
    "        @show rand(d, 2, 2)\n",
    "    else\n",
    "        @show rand(d, 2)\n",
    "    end\n",
    "    \n",
    "    @show pdf(d, rand(d))\n",
    "    println(\"\\n\\n\\n\")\n",
    "end"
   ]
  },
  {
   "cell_type": "markdown",
   "metadata": {
    "hidden": true
   },
   "source": [
    "### More than you need\n"
   ]
  },
  {
   "cell_type": "markdown",
   "metadata": {
    "hidden": true
   },
   "source": [
    "Let's list all the available distributions, by type of distribution"
   ]
  },
  {
   "cell_type": "code",
   "execution_count": 19,
   "metadata": {
    "hidden": true
   },
   "outputs": [
    {
     "name": "stdout",
     "output_type": "stream",
     "text": [
      "Distributions.Distribution{Distributions.Matrixvariate,Distributions.Discrete}: \n",
      "subtypes(T) = Any[Distributions.AbstractMixtureModel{Distributions.Matrixvariate,Distributions.Discrete,C<:Distributions.Distribution}]\n",
      "\n",
      "\n",
      "\n",
      "Distributions.Distribution{Distributions.Multivariate,Distributions.Discrete}: \n",
      "subtypes(T) = Any[Distributions.AbstractMixtureModel{Distributions.Multivariate,Distributions.Discrete,C<:Distributions.Distribution},Distributions.DirichletMultinomial{T<:Real},Distributions.Multinomial{T<:Real}]\n",
      "\n",
      "\n",
      "\n",
      "Distributions.Distribution{Distributions.Univariate,Distributions.Discrete}: \n",
      "subtypes(T) = Any[Distributions.AbstractMixtureModel{Distributions.Univariate,Distributions.Discrete,C<:Distributions.Distribution},Distributions.Bernoulli{T<:Real},Distributions.BetaBinomial{T<:Real},Distributions.Binomial{T<:Real},Distributions.Categorical{T<:Real},Distributions.DiscreteUniform,Distributions.Geometric{T<:Real},Distributions.Hypergeometric,Distributions.NegativeBinomial{T<:Real},Distributions.NoncentralHypergeometric{T<:Real},Distributions.PoissonBinomial{T<:Real},Distributions.Poisson{T<:Real},Distributions.Skellam{T<:Real},Distributions.Truncated{D<:Distributions.Distribution{Distributions.Univariate,S<:Distributions.ValueSupport},Distributions.Discrete}]\n",
      "\n",
      "\n",
      "\n",
      "Distributions.Distribution{Distributions.Matrixvariate,Distributions.Continuous}: \n",
      "subtypes(T) = Any[Distributions.AbstractMixtureModel{Distributions.Matrixvariate,Distributions.Continuous,C<:Distributions.Distribution},Distributions.InverseWishart{T<:Real,ST<:PDMats.AbstractPDMat},Distributions.Wishart{T<:Real,ST<:PDMats.AbstractPDMat}]\n",
      "\n",
      "\n",
      "\n",
      "Distributions.Distribution{Distributions.Multivariate,Distributions.Continuous}: \n",
      "subtypes(T) = Any[Distributions.AbstractMixtureModel{Distributions.Multivariate,Distributions.Continuous,C<:Distributions.Distribution},Distributions.AbstractMvLogNormal,Distributions.AbstractMvNormal,Distributions.AbstractMvTDist,Distributions.Dirichlet{T<:Real},Distributions.VonMisesFisher{T<:Real}]\n",
      "\n",
      "\n",
      "\n",
      "Distributions.Distribution{Distributions.Univariate,Distributions.Continuous}: \n",
      "subtypes(T) = Any[Distributions.AbstractMixtureModel{Distributions.Univariate,Distributions.Continuous,C<:Distributions.Distribution},Distributions.Arcsine{T<:Real},Distributions.BetaPrime{T<:Real},Distributions.Beta{T<:Real},Distributions.Biweight{T<:Real},Distributions.Cauchy{T<:Real},Distributions.Chisq{T<:Real},Distributions.Chi{T<:Real},Distributions.Cosine{T<:Real},Distributions.EdgeworthAbstract,Distributions.EmpiricalUnivariateDistribution,Distributions.Epanechnikov{T<:Real},Distributions.Erlang{T<:Real},Distributions.Exponential{T<:Real},Distributions.FDist{T<:Real},Distributions.Frechet{T<:Real},Distributions.Gamma{T<:Real},Distributions.GeneralizedExtremeValue{T<:Real},Distributions.GeneralizedPareto{T<:Real},Distributions.Gumbel{T<:Real},Distributions.InverseGamma{T<:Real},Distributions.InverseGaussian{T<:Real},Distributions.KSDist,Distributions.KSOneSided,Distributions.Kolmogorov,Distributions.Laplace{T<:Real},Distributions.Levy{T<:Real},Distributions.LogNormal{T<:Real},Distributions.Logistic{T<:Real},Distributions.NoncentralBeta{T<:Real},Distributions.NoncentralChisq{T<:Real},Distributions.NoncentralF{T<:Real},Distributions.NoncentralT{T<:Real},Distributions.NormalCanon{T<:Real},Distributions.NormalInverseGaussian{T<:Real},Distributions.Normal{T<:Real},Distributions.Pareto{T<:Real},Distributions.Rayleigh{T<:Real},Distributions.SymTriangularDist{T<:Real},Distributions.TDist{T<:Real},Distributions.TriangularDist{T<:Real},Distributions.Triweight{T<:Real},Distributions.Truncated{D<:Distributions.Distribution{Distributions.Univariate,S<:Distributions.ValueSupport},Distributions.Continuous},Distributions.Uniform{T<:Real},Distributions.VonMises{T<:Real},Distributions.Weibull{T<:Real}]\n",
      "\n",
      "\n",
      "\n"
     ]
    }
   ],
   "source": [
    "dist_types = [\n",
    "    Distributions.DiscreteMatrixDistribution,\n",
    "    Distributions.DiscreteMultivariateDistribution,\n",
    "    Distributions.DiscreteUnivariateDistribution,\n",
    "    Distributions.ContinuousMatrixDistribution,\n",
    "    Distributions.ContinuousMultivariateDistribution,\n",
    "    Distributions.ContinuousUnivariateDistribution,   \n",
    "]\n",
    "\n",
    "for T in dist_types\n",
    "    println(\"$T: \")\n",
    "    @show subtypes(T)\n",
    "    println(\"\\n\\n\")\n",
    "end "
   ]
  },
  {
   "cell_type": "code",
   "execution_count": 20,
   "metadata": {
    "hidden": true
   },
   "outputs": [
    {
     "data": {
      "text/plain": [
       "Distributions.Normal{Float64}(μ=0.00813106161701842, σ=0.9997411454596623)"
      ]
     },
     "execution_count": 20,
     "metadata": {},
     "output_type": "execute_result"
    }
   ],
   "source": [
    "# fitting a distribution, given some samples\n",
    "fit_mle(Normal, randn(100_000)) # should get close to N(0, 1)"
   ]
  },
  {
   "cell_type": "code",
   "execution_count": 21,
   "metadata": {
    "hidden": true
   },
   "outputs": [
    {
     "data": {
      "text/plain": [
       "Distributions.Uniform{Float64}(a=1.0000018376838407, b=2.9999855975667935)"
      ]
     },
     "execution_count": 21,
     "metadata": {},
     "output_type": "execute_result"
    }
   ],
   "source": [
    "# do fitting with mle\n",
    "fit_mle(Uniform, rand(100_000) .* 2 .+ 1) # should get close to U(1, 3)"
   ]
  },
  {
   "cell_type": "markdown",
   "metadata": {
    "heading_collapsed": true
   },
   "source": [
    "## Calculus.jl\n",
    "\n",
    "- Computes analytical derivatives of Julia `Expr`essions and accurate numerical derivatives of functions"
   ]
  },
  {
   "cell_type": "code",
   "execution_count": 22,
   "metadata": {
    "collapsed": true,
    "hidden": true
   },
   "outputs": [],
   "source": [
    "# Pkg.add(\"Calculus\")"
   ]
  },
  {
   "cell_type": "markdown",
   "metadata": {
    "hidden": true
   },
   "source": [
    "### Calculus.jl Basics"
   ]
  },
  {
   "cell_type": "code",
   "execution_count": 23,
   "metadata": {
    "hidden": true
   },
   "outputs": [
    {
     "name": "stderr",
     "output_type": "stream",
     "text": [
      "\u001b[1m\u001b[34mINFO: Recompiling stale cache file /Users/sglyon/.julia/lib/v0.5/Calculus.ji for module Calculus.\n",
      "\u001b[0m"
     ]
    }
   ],
   "source": [
    "using Calculus"
   ]
  },
  {
   "cell_type": "markdown",
   "metadata": {
    "hidden": true
   },
   "source": [
    "#### Symbolic derivatives"
   ]
  },
  {
   "cell_type": "code",
   "execution_count": 24,
   "metadata": {
    "hidden": true
   },
   "outputs": [
    {
     "data": {
      "text/plain": [
       ":(cos(x))"
      ]
     },
     "execution_count": 24,
     "metadata": {},
     "output_type": "execute_result"
    }
   ],
   "source": [
    "differentiate(:(sin(x)), :x)"
   ]
  },
  {
   "cell_type": "code",
   "execution_count": 25,
   "metadata": {
    "hidden": true
   },
   "outputs": [
    {
     "data": {
      "text/plain": [
       ":(cos(y) * -(sin(sin(y))))"
      ]
     },
     "execution_count": 25,
     "metadata": {},
     "output_type": "execute_result"
    }
   ],
   "source": [
    "differentiate(:(cos(sin(y))), :y)"
   ]
  },
  {
   "cell_type": "code",
   "execution_count": 27,
   "metadata": {
    "hidden": true
   },
   "outputs": [
    {
     "data": {
      "text/plain": [
       ":(((1 - γ) * c ^ ((1 - γ) - 1)) / (1 - γ))"
      ]
     },
     "execution_count": 27,
     "metadata": {},
     "output_type": "execute_result"
    }
   ],
   "source": [
    "differentiate(:(c^(1-γ)/(1-γ)), :c)"
   ]
  },
  {
   "cell_type": "markdown",
   "metadata": {
    "hidden": true
   },
   "source": [
    "#### Finite difference"
   ]
  },
  {
   "cell_type": "code",
   "execution_count": 29,
   "metadata": {
    "hidden": true
   },
   "outputs": [
    {
     "data": {
      "text/plain": [
       "-5.036193684304635e-12"
      ]
     },
     "execution_count": 29,
     "metadata": {},
     "output_type": "execute_result"
    }
   ],
   "source": [
    "derivative(sin, 1.0) - cos(1.0)"
   ]
  },
  {
   "cell_type": "code",
   "execution_count": 30,
   "metadata": {
    "hidden": true
   },
   "outputs": [
    {
     "data": {
      "text/plain": [
       "-6.647716624952338e-7"
      ]
     },
     "execution_count": 30,
     "metadata": {},
     "output_type": "execute_result"
    }
   ],
   "source": [
    "second_derivative(sin, 1.0) + sin(1.0)"
   ]
  },
  {
   "cell_type": "code",
   "execution_count": 35,
   "metadata": {
    "hidden": true
   },
   "outputs": [
    {
     "data": {
      "text/plain": [
       "2-element Array{Float64,1}:\n",
       "  2.71828\n",
       " -1.0    "
      ]
     },
     "execution_count": 35,
     "metadata": {},
     "output_type": "execute_result"
    }
   ],
   "source": [
    "Calculus.gradient(x -> exp(x[1]) + sin(x[2]) / x[1], [1.0, π])"
   ]
  },
  {
   "cell_type": "code",
   "execution_count": 41,
   "metadata": {
    "hidden": true
   },
   "outputs": [
    {
     "data": {
      "text/plain": [
       "2×2 Array{Float64,2}:\n",
       " 2.71828  1.0       \n",
       " 1.0      1.71123e-7"
      ]
     },
     "execution_count": 41,
     "metadata": {},
     "output_type": "execute_result"
    }
   ],
   "source": [
    "Calculus.hessian(x -> exp(x[1]) + sin(x[2]) / x[1], [1.0, π])"
   ]
  },
  {
   "cell_type": "code",
   "execution_count": 40,
   "metadata": {
    "hidden": true
   },
   "outputs": [
    {
     "data": {
      "text/plain": [
       "2×2 Array{Float64,2}:\n",
       "  2.71828       0.0\n",
       " -1.22465e-16  -1.0"
      ]
     },
     "execution_count": 40,
     "metadata": {},
     "output_type": "execute_result"
    }
   ],
   "source": [
    "Calculus.jacobian(x -> [exp(x[1]),  sin(x[2]) / x[1]], [1.0, π], :central)"
   ]
  },
  {
   "cell_type": "markdown",
   "metadata": {},
   "source": [
    "## SymEngine.jl\n",
    "\n",
    "- Next generation C++ backend for sympy computer algebra system\n",
    "- A very fast alternative to Calculus.jl for symbolic differentiation"
   ]
  },
  {
   "cell_type": "code",
   "execution_count": 28,
   "metadata": {
    "collapsed": true
   },
   "outputs": [],
   "source": [
    "# Pkg.add(\"SymEngine\")"
   ]
  },
  {
   "cell_type": "markdown",
   "metadata": {},
   "source": [
    "### SymEngine.jl Basics"
   ]
  },
  {
   "cell_type": "code",
   "execution_count": 42,
   "metadata": {},
   "outputs": [
    {
     "name": "stderr",
     "output_type": "stream",
     "text": [
      "\u001b[1m\u001b[34mINFO: Recompiling stale cache file /Users/sglyon/.julia/lib/v0.5/SymEngine.ji for module SymEngine.\n",
      "\u001b[0m"
     ]
    }
   ],
   "source": [
    "using SymEngine"
   ]
  },
  {
   "cell_type": "code",
   "execution_count": 47,
   "metadata": {},
   "outputs": [
    {
     "data": {
      "text/plain": [
       "cos(x)"
      ]
     },
     "execution_count": 47,
     "metadata": {},
     "output_type": "execute_result"
    }
   ],
   "source": [
    "# needs first argument to be of type SymEngine.Basic\n",
    "diff(Basic(:(sin(x))), :x)"
   ]
  },
  {
   "cell_type": "code",
   "execution_count": 49,
   "metadata": {},
   "outputs": [
    {
     "data": {
      "text/plain": [
       "-cos(y)*sin(sin(y))"
      ]
     },
     "execution_count": 49,
     "metadata": {},
     "output_type": "execute_result"
    }
   ],
   "source": [
    "diff(Basic(\"cos(sin(y))\"), :y)"
   ]
  },
  {
   "cell_type": "code",
   "execution_count": 51,
   "metadata": {},
   "outputs": [
    {
     "data": {
      "text/plain": [
       "c^(-γ)"
      ]
     },
     "execution_count": 51,
     "metadata": {},
     "output_type": "execute_result"
    }
   ],
   "source": [
    "diff(Basic(\"c^(1-γ)/(1-γ)\"), :c)"
   ]
  },
  {
   "cell_type": "markdown",
   "metadata": {},
   "source": [
    "Let's see how fast SymEngine is compared to Calculus.jl\n",
    "\n",
    "To do this we will load the BenchmarkTools.jl package that goes to great lengths to produce statistically accurate and robust timing estimates at the sub-microsecond level"
   ]
  },
  {
   "cell_type": "code",
   "execution_count": 58,
   "metadata": {},
   "outputs": [
    {
     "name": "stderr",
     "output_type": "stream",
     "text": [
      "\u001b[1m\u001b[34mINFO: Recompiling stale cache file /Users/sglyon/.julia/lib/v0.5/JLD.ji for module JLD.\n",
      "\u001b[0mWARNING: using BenchmarkTools.params in module Main conflicts with an existing identifier.\n"
     ]
    }
   ],
   "source": [
    "# Pkg.add(\"BenchmarkTools\")\n",
    "using BenchmarkTools"
   ]
  },
  {
   "cell_type": "code",
   "execution_count": 65,
   "metadata": {},
   "outputs": [
    {
     "data": {
      "text/plain": [
       "BenchmarkTools.Trial: \n",
       "  memory estimate:  69.14 KiB\n",
       "  allocs estimate:  685\n",
       "  --------------\n",
       "  minimum time:     540.176 μs (0.00% GC)\n",
       "  median time:      574.756 μs (0.00% GC)\n",
       "  mean time:        628.544 μs (1.40% GC)\n",
       "  maximum time:     5.040 ms (79.05% GC)\n",
       "  --------------\n",
       "  samples:          7822\n",
       "  evals/sample:     1"
      ]
     },
     "execution_count": 65,
     "metadata": {},
     "output_type": "execute_result"
    }
   ],
   "source": [
    "@benchmark Calculus.differentiate(:((y + r*a - ap)^(1-γ)/(1-γ)), :ap)"
   ]
  },
  {
   "cell_type": "code",
   "execution_count": 66,
   "metadata": {},
   "outputs": [
    {
     "data": {
      "text/plain": [
       "BenchmarkTools.Trial: \n",
       "  memory estimate:  368 bytes\n",
       "  allocs estimate:  10\n",
       "  --------------\n",
       "  minimum time:     49.156 μs (0.00% GC)\n",
       "  median time:      53.615 μs (0.00% GC)\n",
       "  mean time:        57.771 μs (0.00% GC)\n",
       "  maximum time:     340.892 μs (0.00% GC)\n",
       "  --------------\n",
       "  samples:          10000\n",
       "  evals/sample:     1"
      ]
     },
     "execution_count": 66,
     "metadata": {},
     "output_type": "execute_result"
    }
   ],
   "source": [
    "@benchmark diff(Basic(\"(y + r*a - ap)^(1-γ)/(1-γ)\"), :ap)"
   ]
  },
  {
   "cell_type": "markdown",
   "metadata": {},
   "source": [
    "## Data handling\n",
    "\n",
    "- Julia's data picture is young, but still maturing\n",
    "- Python is still my go-to choice for data cleaning/analysis\n",
    "- That being said, working with data in Julia is still doable and effective\n",
    "\n",
    "I won't demo them now, but some the key packages are:\n",
    "\n",
    "- [DataFrames.jl](https://github.com/JuliaStats/DataFrames.jl): Provides a DataFrame type for handling columnar data\n",
    "- [CSV.jl](https://github.com/JuliaData/CSV.jl): very high performance reading and writing of delimited data files\n",
    "- [DataStreams.jl](https://github.com/JuliaData/DataStreams.jl): provide an interface for streaming data from a source to a sink\n",
    "- [Query.jl](https://github.com/davidanthoff/Query.jl): filter, project, join, group any iterable data source"
   ]
  },
  {
   "cell_type": "code",
   "execution_count": null,
   "metadata": {
    "collapsed": true
   },
   "outputs": [],
   "source": []
  }
 ],
 "metadata": {
  "kernelspec": {
   "display_name": "Julia 0.5.0",
   "language": "julia",
   "name": "julia-0.5"
  },
  "language_info": {
   "file_extension": ".jl",
   "mimetype": "application/julia",
   "name": "julia",
   "version": "0.5.2"
  }
 },
 "nbformat": 4,
 "nbformat_minor": 2
}
