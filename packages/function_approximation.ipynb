{
 "cells": [
  {
   "cell_type": "markdown",
   "metadata": {
    "slideshow": {
     "slide_type": "slide"
    }
   },
   "source": [
    "# Julia Workshop: Function Approximation\n",
    "\n",
    "## @ CEF 2017\n",
    "\n",
    "**Authors**: Chase Coleman and Spencer Lyon\n",
    "\n",
    "**Date**: 27 June 2017\n"
   ]
  },
  {
   "cell_type": "markdown",
   "metadata": {
    "slideshow": {
     "slide_type": "slide"
    }
   },
   "source": [
    "## Goal\n",
    "\n",
    "There are two main interpolation packages that economists use in Julia: `BasisMatrices.jl` and `Interpolations.jl`.\n",
    "\n",
    "* [BasisMatrices.jl](https://github.com/QuantEcon/BasisMatrices.jl)\n",
    "  - Evaluates an approximated function at one (or many) points by building up the corresponding basis matrices\n",
    "  - Many different types of interpolation (Chebyshev, complete, B-Splines, ...)\n",
    "  - Portions of this code are based on the [CompEcon](http://www4.ncsu.edu/~pfackler/compecon/toolbox.html) package of Miranda and Fackler, so it should feel familiar for those who have previously used CompEcon.\n",
    "* [Interpolations.jl](https://github.com/JuliaMath/Interpolations.jl)\n",
    "  - Never directly stores a basis matrix\n",
    "  - Only does B-splines (can mix and match degrees of approximation and allows one to choose boundary conditions)\n",
    "  - Much of this code was written by people who work in image processing. There are lots of tricks that make it hard to beat performance wise.\n",
    "  - Straightforward to evaluate an interpolator once you have it (overload of indexing methods).\n",
    "  \n",
    "This notebook should help you become familiar with what the two packages can do."
   ]
  },
  {
   "cell_type": "markdown",
   "metadata": {
    "slideshow": {
     "slide_type": "slide"
    }
   },
   "source": [
    "## BasisMatrices.jl"
   ]
  },
  {
   "cell_type": "code",
   "execution_count": null,
   "metadata": {
    "collapsed": true
   },
   "outputs": [],
   "source": [
    "# Pkg.add(\"BasisMatrices\")"
   ]
  },
  {
   "cell_type": "code",
   "execution_count": null,
   "metadata": {
    "slideshow": {
     "slide_type": "subslide"
    }
   },
   "outputs": [],
   "source": [
    "using BasisMatrices"
   ]
  },
  {
   "cell_type": "markdown",
   "metadata": {
    "slideshow": {
     "slide_type": "subslide"
    }
   },
   "source": [
    "### Basic interpolation\n",
    "\n",
    "`BasisMatrices` has a type called `Interpoland` which automates large portions of the behind the scenes details.\n",
    "\n",
    "We show how to build and work with an `Interpoland` below:"
   ]
  },
  {
   "cell_type": "markdown",
   "metadata": {
    "slideshow": {
     "slide_type": "subslide"
    }
   },
   "source": [
    "#### Step 1: Build the initial grids\n",
    "\n",
    "We call these the initial grids because certain interpolation types will add additional nodes (in particular, splines often need to add additional knots in order to ensure continuity of derivatives etc...)."
   ]
  },
  {
   "cell_type": "code",
   "execution_count": null,
   "metadata": {
    "collapsed": true,
    "slideshow": {
     "slide_type": "-"
    }
   },
   "outputs": [],
   "source": [
    "xgrid0 = linspace(0.0, 2.0, 25)\n",
    "ygrid0 = linspace(-1.0, 1.0, 10);"
   ]
  },
  {
   "cell_type": "markdown",
   "metadata": {
    "slideshow": {
     "slide_type": "subslide"
    }
   },
   "source": [
    "#### Step 2: Describe desired basis"
   ]
  },
  {
   "cell_type": "code",
   "execution_count": null,
   "metadata": {
    "slideshow": {
     "slide_type": "-"
    }
   },
   "outputs": [],
   "source": [
    "xparams = SplineParams(xgrid0, 0, 2)  # Quadratic\n",
    "yparams = SplineParams(ygrid0, 0, 3)  # Cubic\n",
    "\n",
    "basis = Basis(xparams, yparams)\n",
    "\n",
    "# Could also do:\n",
    "# a_basis = Basis(aparams)\n",
    "# y_basis = Basis(yparams)\n",
    "# basis = Basis(a_basis, y_basis)"
   ]
  },
  {
   "cell_type": "markdown",
   "metadata": {
    "slideshow": {
     "slide_type": "subslide"
    }
   },
   "source": [
    "#### Step 3: Evaluate the function on the basis's nodes\n",
    "\n",
    "We get the grid of points (including the points added by the package)\n",
    "\n",
    "$$S = \\begin{bmatrix} x_1 & y_1 \\\\ x_1 & y_2 \\\\ x_1 & \\vdots \\\\ \\vdots & \\vdots \\\\ x_i & y_1 \\\\ x_i & \\vdots \\\\ \\vdots & \\vdots \\\\ x_N & y_N \\end{bmatrix}$$\n",
    "\n",
    "Then evaluate the function $\\sin(x) exp(y)$"
   ]
  },
  {
   "cell_type": "code",
   "execution_count": null,
   "metadata": {
    "collapsed": true
   },
   "outputs": [],
   "source": [
    "S, (xgrid, ygrid) = nodes(basis)\n",
    "\n",
    "f_vals = sin.(S[:, 1]) .* exp.(S[:, 2]);"
   ]
  },
  {
   "cell_type": "markdown",
   "metadata": {
    "slideshow": {
     "slide_type": "subslide"
    }
   },
   "source": [
    "#### Step 4: Create interpoland"
   ]
  },
  {
   "cell_type": "code",
   "execution_count": null,
   "metadata": {
    "collapsed": true
   },
   "outputs": [],
   "source": [
    "itp1 = Interpoland(basis, f_vals);"
   ]
  },
  {
   "cell_type": "markdown",
   "metadata": {
    "slideshow": {
     "slide_type": "subslide"
    }
   },
   "source": [
    "#### Step 5: Evaluate interpoland"
   ]
  },
  {
   "cell_type": "markdown",
   "metadata": {
    "slideshow": {
     "slide_type": "fragment"
    }
   },
   "source": [
    "Single point"
   ]
  },
  {
   "cell_type": "code",
   "execution_count": null,
   "metadata": {},
   "outputs": [],
   "source": [
    "eval_1_pt = itp1([0.5, 0.75])\n",
    "println(eval_1_pt - (sin(0.5)*exp(0.75)))"
   ]
  },
  {
   "cell_type": "markdown",
   "metadata": {
    "slideshow": {
     "slide_type": "fragment"
    }
   },
   "source": [
    "Many points"
   ]
  },
  {
   "cell_type": "code",
   "execution_count": null,
   "metadata": {},
   "outputs": [],
   "source": [
    "points = [0.0 -0.75\n",
    "          0.5 -0.5\n",
    "          0.75 0.25\n",
    "          0.9 -.35]\n",
    "\n",
    "eval_many_pt = itp1(points)\n",
    "println(eval_many_pt - (sin.(points[:, 1]).*exp.(points[:, 2])))"
   ]
  },
  {
   "cell_type": "markdown",
   "metadata": {
    "slideshow": {
     "slide_type": "subslide"
    }
   },
   "source": [
    "#### Step 6: Update coefficients (if needed)"
   ]
  },
  {
   "cell_type": "code",
   "execution_count": null,
   "metadata": {},
   "outputs": [],
   "source": [
    "func2(S) = S[:, 1].^2 .* S[:, 2]\n",
    "f_vals2 = func2(S)\n",
    "\n",
    "update_coefs!(itp1, f_vals2);\n",
    "\n",
    "println(itp1([1.5, 0.25]) - [sin(1.5)*exp(0.25), 1.5^2 * 0.25])"
   ]
  },
  {
   "cell_type": "markdown",
   "metadata": {
    "slideshow": {
     "slide_type": "fragment"
    }
   },
   "source": [
    "#### Note: Evaluate multiple functions at once"
   ]
  },
  {
   "cell_type": "code",
   "execution_count": null,
   "metadata": {},
   "outputs": [],
   "source": [
    "itp2 = Interpoland(basis, [f_vals f_vals2])\n",
    "\n",
    "itp2(points)"
   ]
  },
  {
   "cell_type": "markdown",
   "metadata": {
    "slideshow": {
     "slide_type": "fragment"
    }
   },
   "source": [
    "#### Note: Derivatives if necessary"
   ]
  },
  {
   "cell_type": "code",
   "execution_count": null,
   "metadata": {},
   "outputs": [],
   "source": [
    "itp1(points, [0 1])  # Take derivative with respect to y"
   ]
  },
  {
   "cell_type": "code",
   "execution_count": null,
   "metadata": {},
   "outputs": [],
   "source": [
    "itp1(points, [0 2])  # 2nd derivative with respect to y"
   ]
  },
  {
   "cell_type": "code",
   "execution_count": null,
   "metadata": {},
   "outputs": [],
   "source": [
    "itp1(points, [1 1])  # Cross partial wrt x and y"
   ]
  },
  {
   "cell_type": "markdown",
   "metadata": {
    "slideshow": {
     "slide_type": "subslide"
    }
   },
   "source": [
    "### Additional Information"
   ]
  },
  {
   "cell_type": "markdown",
   "metadata": {},
   "source": [
    "### Directly building basis matrices\n",
    "\n",
    "Sometimes, understanding how to build basis matrices on your own can speed up an algorithm.\n",
    "\n",
    "We describe how one might do this. Begin by building up the initial grids and the basis type as in the previous examples."
   ]
  },
  {
   "cell_type": "code",
   "execution_count": null,
   "metadata": {},
   "outputs": [],
   "source": [
    "xgrid0 = linspace(0.0, 5.0, 25)\n",
    "ygrid0 = linspace(-2, 2, 10);\n",
    "\n",
    "xparams = SplineParams(xgrid0, 0, 1)  # Linear\n",
    "yparams = SplineParams(ygrid0, 0, 3)  # Cubic\n",
    "\n",
    "basis = Basis(xparams, yparams)\n"
   ]
  },
  {
   "cell_type": "code",
   "execution_count": null,
   "metadata": {},
   "outputs": [],
   "source": [
    "BasisMatrix(basis, S).vals"
   ]
  },
  {
   "cell_type": "markdown",
   "metadata": {
    "slideshow": {
     "slide_type": "subslide"
    }
   },
   "source": [
    "### Complete polynomials\n",
    "\n",
    "No nice type for interpolating with complete polynomials (yet), but can build basis matrices and evaluate."
   ]
  },
  {
   "cell_type": "code",
   "execution_count": null,
   "metadata": {},
   "outputs": [],
   "source": [
    "_xgrid = repeat(xgrid0, inner=[length(ygrid0), 1])\n",
    "_ygrid = repeat(ygrid0, outer=[length(xgrid0), 1])\n",
    "grid = [_xgrid _ygrid]\n",
    "\n",
    "ϕ = complete_polynomial(grid, 3)"
   ]
  },
  {
   "cell_type": "code",
   "execution_count": null,
   "metadata": {},
   "outputs": [],
   "source": [
    "f_vals3 = grid[:, 1].^2 .* grid[:, 2]\n",
    "c = ϕ \\ f_vals3"
   ]
  },
  {
   "cell_type": "code",
   "execution_count": null,
   "metadata": {},
   "outputs": [],
   "source": [
    "dot(complete_polynomial([0.5, 0.5], 3), c)"
   ]
  },
  {
   "cell_type": "code",
   "execution_count": null,
   "metadata": {},
   "outputs": [],
   "source": [
    "itp2([0.5, 0.5])[2]"
   ]
  },
  {
   "cell_type": "markdown",
   "metadata": {
    "slideshow": {
     "slide_type": "subslide"
    }
   },
   "source": [
    "### Smolyak Interpolation\n",
    "\n",
    "Also no nice type for interpolating with complete polynomials (yet), but can still build basis matrices and evaluate."
   ]
  },
  {
   "cell_type": "code",
   "execution_count": null,
   "metadata": {},
   "outputs": [],
   "source": [
    "# first build parameters\n",
    "sp = SmolyakParams(2, 3, fill(-1.0, 2), fill(3.0, 2))"
   ]
  },
  {
   "cell_type": "code",
   "execution_count": null,
   "metadata": {},
   "outputs": [],
   "source": [
    "# build the smolyak grid\n",
    "smol_grid = nodes(sp)"
   ]
  },
  {
   "cell_type": "code",
   "execution_count": null,
   "metadata": {
    "slideshow": {
     "slide_type": "subslide"
    }
   },
   "outputs": [],
   "source": [
    "using PlotlyJS\n",
    "# set some plotting defaults\n",
    "use_style!(Style(\n",
    "    global_trace=attr(mode=\"markers\"), \n",
    "    trace=Dict(:scatter3d=>attr(marker_size=5.5), :scatter=>attr(marker_size=8))\n",
    "))\n",
    "plot(smol_grid[:, 1], smol_grid[:, 2])"
   ]
  },
  {
   "cell_type": "code",
   "execution_count": null,
   "metadata": {
    "slideshow": {
     "slide_type": "fragment"
    }
   },
   "outputs": [],
   "source": [
    "anisotropic_grid = nodes(SmolyakParams(2, [3, 5], [-1.0, -1.0], [3.0, 3.0]))\n",
    "plot(anisotropic_grid[:, 1], anisotropic_grid[:, 2])"
   ]
  },
  {
   "cell_type": "code",
   "execution_count": null,
   "metadata": {
    "slideshow": {
     "slide_type": "fragment"
    }
   },
   "outputs": [],
   "source": [
    "f_vals_smol = func2(smol_grid)\n",
    "\n",
    "# get coefficient vector\n",
    "c_smol = evalbase(sp, smol_grid) \\ f_vals_smol"
   ]
  },
  {
   "cell_type": "code",
   "execution_count": null,
   "metadata": {
    "slideshow": {
     "slide_type": "subslide"
    }
   },
   "outputs": [],
   "source": [
    "# [-1.0,-1.0] × [3.0,3.0]\n",
    "other_points = rand(40, 2) .*[4 4] .- [1 1]"
   ]
  },
  {
   "cell_type": "code",
   "execution_count": null,
   "metadata": {
    "slideshow": {
     "slide_type": "fragment"
    }
   },
   "outputs": [],
   "source": [
    "trace_grid = scatter(x=smol_grid[:, 1], y=smol_grid[:, 2], name=\"smolyak grid\")\n",
    "trace_other = scatter(x=other_points[:, 1], y=other_points[:, 2], name=\"test points\")\n",
    "plot([trace_grid, trace_other])"
   ]
  },
  {
   "cell_type": "code",
   "execution_count": null,
   "metadata": {
    "slideshow": {
     "slide_type": "fragment"
    }
   },
   "outputs": [],
   "source": [
    "plot([\n",
    "    scatter3d(x=smol_grid[:, 1], y=smol_grid[:, 2], z=f_vals_smol, name=\"function values\"),\n",
    "    scatter3d(x=smol_grid[:, 1], y=smol_grid[:, 2], z=zeros(size(smol_grid, 1)), name=\"smolyak grid\"),\n",
    "    scatter3d(x=other_points[:, 1], y=other_points[:, 2], z=func2(other_points), name=\"wanted\"),\n",
    "])"
   ]
  },
  {
   "cell_type": "code",
   "execution_count": null,
   "metadata": {
    "slideshow": {
     "slide_type": "fragment"
    }
   },
   "outputs": [],
   "source": [
    "smol_approx = evalbase(sp, other_points) * c_smol\n",
    "wanted = func2(other_points)\n",
    "maximum(abs, smol_approx - wanted)"
   ]
  },
  {
   "cell_type": "markdown",
   "metadata": {
    "slideshow": {
     "slide_type": "slide"
    }
   },
   "source": [
    "## Interpolations.jl"
   ]
  },
  {
   "cell_type": "code",
   "execution_count": null,
   "metadata": {
    "collapsed": true
   },
   "outputs": [],
   "source": [
    "# Pkg.add(\"Interpolations\")"
   ]
  },
  {
   "cell_type": "code",
   "execution_count": null,
   "metadata": {
    "collapsed": true
   },
   "outputs": [],
   "source": [
    "using Interpolations"
   ]
  },
  {
   "cell_type": "markdown",
   "metadata": {
    "slideshow": {
     "slide_type": "subslide"
    }
   },
   "source": [
    "### Interpolating with `Interpolations.jl`\n",
    "\n",
    "`Interpolations.jl` is light in terms of memory usage because it never actually stores the basis matrices; instead, it computes each element on the fly."
   ]
  },
  {
   "cell_type": "markdown",
   "metadata": {
    "slideshow": {
     "slide_type": "fragment"
    }
   },
   "source": [
    "#### Step 1: Build grids and evaluate function on grid"
   ]
  },
  {
   "cell_type": "code",
   "execution_count": null,
   "metadata": {},
   "outputs": [],
   "source": [
    "xgrid = linspace(0.0, 5.0, 25)\n",
    "ygrid = linspace(-2.0, 2.0, 10);\n",
    "\n",
    "f_vals = xgrid.^2 .* ygrid'  # Generates a 25x10 matrix"
   ]
  },
  {
   "cell_type": "markdown",
   "metadata": {
    "slideshow": {
     "slide_type": "fragment"
    }
   },
   "source": [
    "#### Step 2: Create interpolator object\n",
    "\n",
    "Notice that we don't give it the grids that it is on. By default `Interpolations.jl` pretends all grids are equally spaced with a distance of 1 between them -- Here it would think that the x dimension goes between 1 and 25 and the y dimension goes between 1 and 10."
   ]
  },
  {
   "cell_type": "code",
   "execution_count": null,
   "metadata": {
    "collapsed": true
   },
   "outputs": [],
   "source": [
    "itp4 = interpolate(f_vals, BSpline(Cubic(Natural())), OnGrid());\n",
    "\n",
    "# Can have different degrees of approximation if wanted using below code\n",
    "# itp = interpolate(f_vals, (BSpline(Linear()), BSpline(Cubic(Natural()))),\n",
    "#                   OnGrid());"
   ]
  },
  {
   "cell_type": "markdown",
   "metadata": {},
   "source": [
    "Bottom right element of `f_vals`"
   ]
  },
  {
   "cell_type": "code",
   "execution_count": null,
   "metadata": {},
   "outputs": [],
   "source": [
    "itp4[25, 10]"
   ]
  },
  {
   "cell_type": "markdown",
   "metadata": {
    "slideshow": {
     "slide_type": "fragment"
    }
   },
   "source": [
    "#### Step 3: Scale the interpolator object\n",
    "\n",
    "We want to move the grid back to the scales we have. In order to extract extra speed, it is assumed everything is equally spaced. To help enforce this, they require that whatever it is scaled by is a `linspace` of some sort."
   ]
  },
  {
   "cell_type": "code",
   "execution_count": null,
   "metadata": {},
   "outputs": [],
   "source": [
    "itp4_s = scale(itp4, collect(xgrid), collect(ygrid))  # Won't work"
   ]
  },
  {
   "cell_type": "code",
   "execution_count": null,
   "metadata": {
    "collapsed": true
   },
   "outputs": [],
   "source": [
    "itp4_s = scale(itp4, xgrid, ygrid);  # Will work"
   ]
  },
  {
   "cell_type": "code",
   "execution_count": null,
   "metadata": {},
   "outputs": [],
   "source": [
    "itp4_s[5.0, 2.0]  # Bottom right element again"
   ]
  },
  {
   "cell_type": "markdown",
   "metadata": {
    "slideshow": {
     "slide_type": "fragment"
    }
   },
   "source": [
    "#### Step 4: Evaluate\n",
    "\n",
    "`Interpolations.jl` only allows for evaluation at one point at a time."
   ]
  },
  {
   "cell_type": "code",
   "execution_count": null,
   "metadata": {},
   "outputs": [],
   "source": [
    "f_interp_values = Array{Float64}(100, 100)\n",
    "x_fine_grid = linspace(xgrid[1], xgrid[end], 100)\n",
    "y_fine_grid = linspace(ygrid[1], ygrid[end], 100)\n",
    "\n",
    "for (ix, x) in enumerate(x_fine_grid)\n",
    "    for (iy, y) in enumerate(y_fine_grid)\n",
    "        f_interp_values[ix, iy] = itp4_s[x, y]\n",
    "    end\n",
    "end\n",
    "\n",
    "f_true_values = x_fine_grid.^2 .* y_fine_grid'\n",
    "\n",
    "println(maximum(abs, f_interp_values - f_true_values))"
   ]
  },
  {
   "cell_type": "markdown",
   "metadata": {
    "slideshow": {
     "slide_type": "fragment"
    }
   },
   "source": [
    "#### Note: Gradient if needed"
   ]
  },
  {
   "cell_type": "code",
   "execution_count": null,
   "metadata": {},
   "outputs": [],
   "source": [
    "gradient(itp4_s, 1.0, 2.0)"
   ]
  }
 ],
 "metadata": {
  "kernelspec": {
   "display_name": "Julia 0.5.2",
   "language": "julia",
   "name": "julia-0.5"
  },
  "language_info": {
   "file_extension": ".jl",
   "mimetype": "application/julia",
   "name": "julia",
   "version": "0.5.2"
  },
  "livereveal": {
   "scroll": true,
   "start_slideshow_at": "selected",
   "theme": "white",
   "transition": "fade"
  }
 },
 "nbformat": 4,
 "nbformat_minor": 2
}
