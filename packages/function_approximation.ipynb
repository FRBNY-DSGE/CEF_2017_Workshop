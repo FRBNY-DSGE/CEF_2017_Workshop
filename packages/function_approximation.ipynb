{
 "cells": [
  {
   "cell_type": "markdown",
   "metadata": {},
   "source": [
    "# Julia Workshop: Function Approximation\n",
    "\n",
    "## @ CEF 2017\n",
    "\n",
    "**Authors**: Chase Coleman and Spencer Lyon\n",
    "\n",
    "**Date**: 27 June 2017\n"
   ]
  },
  {
   "cell_type": "markdown",
   "metadata": {},
   "source": [
    "## Goal\n",
    "\n",
    "There are two main interpolation packages that economists use in Julia: `BasisMatrices.jl` and `Interpolations.jl`.\n",
    "\n",
    "* [BasisMatrices.jl](https://github.com/QuantEcon/BasisMatrices.jl)\n",
    "  - Evaluates an approximated function at one (or many) points by building up the corresponding basis matrices\n",
    "  - Many different types of interpolation (Chebyshev, complete, B-Splines, ...)\n",
    "  - Portions of this code are based on the [CompEcon](http://www4.ncsu.edu/~pfackler/compecon/toolbox.html) package of Miranda and Fackler, so it should feel familiar for those who have previously used CompEcon.\n",
    "* [Interpolations.jl](https://github.com/JuliaMath/Interpolations.jl)\n",
    "  - Never directly stores a basis matrix\n",
    "  - Only does B-splines (can mix and match degrees of approximation and allows one to choose boundary conditions)\n",
    "  - Much of this code was written by people who work in image processing. There are lots of tricks that make it hard to beat performance wise.\n",
    "  - Straightforward to evaluate an interpolator once you have it (overload of indexing methods).\n",
    "  \n",
    "This notebook should help you become familiar with what the two packages can do."
   ]
  },
  {
   "cell_type": "markdown",
   "metadata": {},
   "source": [
    "## BasisMatrices.jl"
   ]
  },
  {
   "cell_type": "code",
   "execution_count": 1,
   "metadata": {
    "collapsed": true
   },
   "outputs": [],
   "source": [
    "# Pkg.add(\"BasisMatrices\")"
   ]
  },
  {
   "cell_type": "code",
   "execution_count": 2,
   "metadata": {
    "collapsed": false
   },
   "outputs": [
    {
     "name": "stderr",
     "output_type": "stream",
     "text": [
      "WARNING: Method definition count() in module Iterators at deprecated.jl:49 overwritten in module IterTools at deprecated.jl:49.\n",
      "WARNING: Method definition count(Number) in module Iterators at deprecated.jl:49 overwritten in module IterTools at deprecated.jl:49.\n",
      "WARNING: Method definition count(Number, Number) in module Iterators at deprecated.jl:49 overwritten in module IterTools at deprecated.jl:49.\n"
     ]
    }
   ],
   "source": [
    "using BasisMatrices"
   ]
  },
  {
   "cell_type": "markdown",
   "metadata": {},
   "source": [
    "### Basic interpolation\n",
    "\n",
    "`BasisMatrices` has a type called `Interpoland` which automates large portions of the behind the scenes details.\n",
    "\n",
    "We show how to build and work with an `Interpoland` below:"
   ]
  },
  {
   "cell_type": "markdown",
   "metadata": {},
   "source": [
    "#### Step 1: Build the initial grids\n",
    "\n",
    "We call these the initial grids because certain interpolation types will add additional nodes (in particular, splines often need to add additional knots in order to ensure continuity of derivatives etc...)."
   ]
  },
  {
   "cell_type": "code",
   "execution_count": 3,
   "metadata": {
    "collapsed": false
   },
   "outputs": [],
   "source": [
    "xgrid0 = linspace(0.0, 2.0, 25)\n",
    "ygrid0 = linspace(-1.0, 1.0, 10);"
   ]
  },
  {
   "cell_type": "markdown",
   "metadata": {},
   "source": [
    "#### Step 2: Describe desired basis"
   ]
  },
  {
   "cell_type": "code",
   "execution_count": 4,
   "metadata": {
    "collapsed": false
   },
   "outputs": [
    {
     "data": {
      "text/plain": [
       "2 dimensional Basis on the hypercube formed by (0.0,-1.0) × (2.0,1.0).\n",
       "Basis families are Spline × Spline\n"
      ]
     },
     "execution_count": 4,
     "metadata": {},
     "output_type": "execute_result"
    }
   ],
   "source": [
    "xparams = SplineParams(xgrid0, 0, 2)  # Quadratic\n",
    "yparams = SplineParams(ygrid0, 0, 3)  # Cubic\n",
    "\n",
    "basis = Basis(xparams, yparams)\n",
    "\n",
    "# Could also do:\n",
    "# a_basis = Basis(aparams)\n",
    "# y_basis = Basis(yparams)\n",
    "# basis = Basis(a_basis, y_basis)"
   ]
  },
  {
   "cell_type": "markdown",
   "metadata": {},
   "source": [
    "#### Step 3: Evaluate the function on the basis's nodes\n",
    "\n",
    "We get the grid of points (including the points added by the package)\n",
    "\n",
    "$$S = \\begin{bmatrix} x_1 & y_1 \\\\ x_1 & y_2 \\\\ x_1 & \\vdots \\\\ \\vdots & \\vdots \\\\ x_i & y_1 \\\\ x_i & \\vdots \\\\ \\vdots & \\vdots \\\\ x_N & y_N \\end{bmatrix}$$\n",
    "\n",
    "Then evaluate the function $\\sin(x) exp(y)$"
   ]
  },
  {
   "cell_type": "code",
   "execution_count": 5,
   "metadata": {
    "collapsed": false
   },
   "outputs": [],
   "source": [
    "S, (xgrid, ygrid) = nodes(basis)\n",
    "\n",
    "f_vals = sin.(S[:, 1]) .* exp.(S[:, 2]);"
   ]
  },
  {
   "cell_type": "markdown",
   "metadata": {},
   "source": [
    "#### Step 4: Create interpoland"
   ]
  },
  {
   "cell_type": "code",
   "execution_count": 6,
   "metadata": {
    "collapsed": false
   },
   "outputs": [],
   "source": [
    "itp1 = Interpoland(basis, f_vals);"
   ]
  },
  {
   "cell_type": "markdown",
   "metadata": {},
   "source": [
    "#### Step 5: Evaluate interpoland"
   ]
  },
  {
   "cell_type": "markdown",
   "metadata": {},
   "source": [
    "Single point"
   ]
  },
  {
   "cell_type": "code",
   "execution_count": 7,
   "metadata": {
    "collapsed": false
   },
   "outputs": [
    {
     "name": "stdout",
     "output_type": "stream",
     "text": [
      "-2.153283957806451e-6\n"
     ]
    }
   ],
   "source": [
    "eval_1_pt = itp1([0.5, 0.75])\n",
    "println(eval_1_pt - (sin(0.5)*exp(0.75)))"
   ]
  },
  {
   "cell_type": "markdown",
   "metadata": {},
   "source": [
    "Many points"
   ]
  },
  {
   "cell_type": "code",
   "execution_count": 8,
   "metadata": {
    "collapsed": false
   },
   "outputs": [
    {
     "name": "stdout",
     "output_type": "stream",
     "text": [
      "[0.0; -1.19684e-6; -5.05038e-6; -2.28552e-6]\n"
     ]
    }
   ],
   "source": [
    "points = [0.0 -0.75\n",
    "          0.5 -0.5\n",
    "          0.75 0.25\n",
    "          0.9 -.35]\n",
    "\n",
    "eval_many_pt = itp1(points)\n",
    "println(eval_many_pt - (sin.(points[:, 1]).*exp.(points[:, 2])))"
   ]
  },
  {
   "cell_type": "markdown",
   "metadata": {},
   "source": [
    "#### Step 6: Update coefficients (if needed)"
   ]
  },
  {
   "cell_type": "code",
   "execution_count": 9,
   "metadata": {
    "collapsed": false
   },
   "outputs": [
    {
     "ename": "LoadError",
     "evalue": "UndefVarError: itp not defined",
     "output_type": "error",
     "traceback": [
      "UndefVarError: itp not defined",
      ""
     ]
    }
   ],
   "source": [
    "f_vals2 = S[:, 1].^2 .* S[:, 2]\n",
    "\n",
    "update_coefs!(itp1, f_vals2);\n",
    "\n",
    "println(itp([1.5, 0.25]) - [sin(1.5)*exp(0.25), 1.5^2 * 0.25])"
   ]
  },
  {
   "cell_type": "markdown",
   "metadata": {},
   "source": [
    "#### Note: Evaluate multiple functions at once"
   ]
  },
  {
   "cell_type": "code",
   "execution_count": 10,
   "metadata": {
    "collapsed": false
   },
   "outputs": [
    {
     "data": {
      "text/plain": [
       "4×2 Array{Float64,2}:\n",
       " 0.0        0.0     \n",
       " 0.290785  -0.125   \n",
       " 0.875236   0.140625\n",
       " 0.551999  -0.2835  "
      ]
     },
     "execution_count": 10,
     "metadata": {},
     "output_type": "execute_result"
    }
   ],
   "source": [
    "itp2 = Interpoland(basis, [f_vals f_vals2])\n",
    "\n",
    "itp2(points)"
   ]
  },
  {
   "cell_type": "markdown",
   "metadata": {},
   "source": [
    "#### Note: Derivatives if necessary"
   ]
  },
  {
   "cell_type": "code",
   "execution_count": 11,
   "metadata": {
    "collapsed": false
   },
   "outputs": [
    {
     "data": {
      "text/plain": [
       "4×1 Array{Float64,2}:\n",
       " 0.0   \n",
       " 0.25  \n",
       " 0.5625\n",
       " 0.81  "
      ]
     },
     "execution_count": 11,
     "metadata": {},
     "output_type": "execute_result"
    }
   ],
   "source": [
    "itp1(points, [0 1])  # Take derivative with respect to y"
   ]
  },
  {
   "cell_type": "code",
   "execution_count": 12,
   "metadata": {
    "collapsed": false
   },
   "outputs": [
    {
     "data": {
      "text/plain": [
       "4×1 Array{Float64,2}:\n",
       "  0.0        \n",
       " -1.91513e-15\n",
       " -1.33227e-15\n",
       " -1.33227e-15"
      ]
     },
     "execution_count": 12,
     "metadata": {},
     "output_type": "execute_result"
    }
   ],
   "source": [
    "itp1(points, [0 2])  # 2nd derivative with respect to y"
   ]
  },
  {
   "cell_type": "code",
   "execution_count": 13,
   "metadata": {
    "collapsed": false
   },
   "outputs": [
    {
     "data": {
      "text/plain": [
       "4×1 Array{Float64,2}:\n",
       " 1.31731e-18\n",
       " 1.0        \n",
       " 1.5        \n",
       " 1.8        "
      ]
     },
     "execution_count": 13,
     "metadata": {},
     "output_type": "execute_result"
    }
   ],
   "source": [
    "itp1(points, [1 1])  # Cross partial wrt x and y"
   ]
  },
  {
   "cell_type": "markdown",
   "metadata": {},
   "source": [
    "### Additional Information"
   ]
  },
  {
   "cell_type": "markdown",
   "metadata": {},
   "source": [
    "### Directly building basis matrices\n",
    "\n",
    "Sometimes, understanding how to build basis matrices on your own can speed up an algorithm.\n",
    "\n",
    "We describe how one might do this. Begin by building up the initial grids and the basis type as in the previous examples."
   ]
  },
  {
   "cell_type": "code",
   "execution_count": 14,
   "metadata": {
    "collapsed": false
   },
   "outputs": [
    {
     "data": {
      "text/plain": [
       "2 dimensional Basis on the hypercube formed by (0.0,-2.0) × (5.0,2.0).\n",
       "Basis families are Spline × Spline\n"
      ]
     },
     "execution_count": 14,
     "metadata": {},
     "output_type": "execute_result"
    }
   ],
   "source": [
    "xgrid0 = linspace(0.0, 5.0, 25)\n",
    "ygrid0 = linspace(-2, 2, 10);\n",
    "\n",
    "xparams = SplineParams(xgrid0, 0, 1)  # Linear\n",
    "yparams = SplineParams(ygrid0, 0, 3)  # Cubic\n",
    "\n",
    "basis = Basis(xparams, yparams)\n"
   ]
  },
  {
   "cell_type": "markdown",
   "metadata": {},
   "source": [
    "#### Three \"versions\" of a basis matrix\n",
    "\n",
    "These are described in more detail in the Miranda Fackler book, but we include short descriptions below.\n",
    "\n",
    "1. `Expanded`: No clever tricks are used in building this up.\n",
    "2. `Direct`: Computes the basis matrix\n",
    "3. `Tensor`:"
   ]
  },
  {
   "cell_type": "code",
   "execution_count": 15,
   "metadata": {
    "collapsed": false
   },
   "outputs": [
    {
     "data": {
      "text/plain": [
       "312×300 sparse matrix with 2496 Float64 nonzero entries:\n",
       "\t[1  ,  51]  =  0.0703125\n",
       "\t[2  ,  51]  =  0.05625\n",
       "\t[3  ,  51]  =  0.028125\n",
       "\t[27 ,  51]  =  0.0330826\n",
       "\t[28 ,  51]  =  0.026466\n",
       "\t[29 ,  51]  =  0.013233\n",
       "\t[53 ,  51]  =  0.00260417\n",
       "\t[54 ,  51]  =  0.00208333\n",
       "\t[55 ,  51]  =  0.00104167\n",
       "\t[1  ,  52]  =  0.0\n",
       "\t⋮\n",
       "\t[311, 235]  =  0.0421875\n",
       "\t[312, 235]  =  0.028125\n",
       "\t[258, 236]  =  0.0\n",
       "\t[259, 236]  =  0.00104167\n",
       "\t[260, 236]  =  0.0015625\n",
       "\t[284, 236]  =  0.0\n",
       "\t[285, 236]  =  0.013233\n",
       "\t[286, 236]  =  0.0198495\n",
       "\t[310, 236]  =  0.0\n",
       "\t[311, 236]  =  0.028125\n",
       "\t[312, 236]  =  0.0421875"
      ]
     },
     "execution_count": 15,
     "metadata": {},
     "output_type": "execute_result"
    }
   ],
   "source": [
    "BasisMatrix(basis, Expanded(), S).vals[1]"
   ]
  },
  {
   "cell_type": "code",
   "execution_count": 16,
   "metadata": {
    "collapsed": false
   },
   "outputs": [
    {
     "data": {
      "text/plain": [
       "312×12 sparse matrix with 1248 Float64 nonzero entries:\n",
       "\t[1  ,   3]  =  0.0703125\n",
       "\t[2  ,   3]  =  0.0703125\n",
       "\t[3  ,   3]  =  0.0703125\n",
       "\t[4  ,   3]  =  0.0703125\n",
       "\t[5  ,   3]  =  0.0703125\n",
       "\t[6  ,   3]  =  0.0703125\n",
       "\t[7  ,   3]  =  0.0703125\n",
       "\t[8  ,   3]  =  0.0703125\n",
       "\t[9  ,   3]  =  0.0703125\n",
       "\t[10 ,   3]  =  0.0703125\n",
       "\t⋮\n",
       "\t[302,  10]  =  0.0703125\n",
       "\t[303,  10]  =  0.0703125\n",
       "\t[304,  10]  =  0.0703125\n",
       "\t[305,  10]  =  0.0703125\n",
       "\t[306,  10]  =  0.0703125\n",
       "\t[307,  10]  =  0.0703125\n",
       "\t[308,  10]  =  0.0703125\n",
       "\t[309,  10]  =  0.0703125\n",
       "\t[310,  10]  =  0.0703125\n",
       "\t[311,  10]  =  0.0703125\n",
       "\t[312,  10]  =  0.0703125"
      ]
     },
     "execution_count": 16,
     "metadata": {},
     "output_type": "execute_result"
    }
   ],
   "source": [
    "BasisMatrix(basis, Direct(), S).vals[2]"
   ]
  },
  {
   "cell_type": "code",
   "execution_count": 17,
   "metadata": {
    "collapsed": false
   },
   "outputs": [
    {
     "data": {
      "text/plain": [
       "25×25 sparse matrix with 50 Float64 nonzero entries:\n",
       "\t[1 ,  1]  =  1.0\n",
       "\t[1 ,  2]  =  0.0\n",
       "\t[2 ,  2]  =  1.0\n",
       "\t[3 ,  2]  =  2.66454e-16\n",
       "\t[2 ,  3]  =  0.0\n",
       "\t[3 ,  3]  =  1.0\n",
       "\t[4 ,  4]  =  1.0\n",
       "\t[4 ,  5]  =  0.0\n",
       "\t[5 ,  5]  =  1.0\n",
       "\t[6 ,  5]  =  1.06581e-15\n",
       "\t⋮\n",
       "\t[21, 20]  =  1.27898e-14\n",
       "\t[20, 21]  =  1.06581e-14\n",
       "\t[21, 21]  =  1.0\n",
       "\t[22, 22]  =  1.0\n",
       "\t[22, 23]  =  0.0\n",
       "\t[23, 23]  =  1.0\n",
       "\t[24, 23]  =  1.27898e-14\n",
       "\t[23, 24]  =  1.27898e-14\n",
       "\t[24, 24]  =  1.0\n",
       "\t[25, 24]  =  0.0\n",
       "\t[25, 25]  =  1.0"
      ]
     },
     "execution_count": 17,
     "metadata": {},
     "output_type": "execute_result"
    }
   ],
   "source": [
    "BasisMatrix(basis, Tensor()).vals[1]"
   ]
  },
  {
   "cell_type": "code",
   "execution_count": 18,
   "metadata": {
    "collapsed": false
   },
   "outputs": [
    {
     "data": {
      "text/plain": [
       "12×12 sparse matrix with 48 Float64 nonzero entries:\n",
       "\t[1 ,  1]  =  1.0\n",
       "\t[2 ,  1]  =  0.296296\n",
       "\t[1 ,  2]  =  0.0\n",
       "\t[2 ,  2]  =  0.564815\n",
       "\t[3 ,  2]  =  0.25\n",
       "\t[1 ,  3]  =  0.0\n",
       "\t[2 ,  3]  =  0.132716\n",
       "\t[3 ,  3]  =  0.583333\n",
       "\t[4 ,  3]  =  0.166667\n",
       "\t[1 ,  4]  =  0.0\n",
       "\t⋮\n",
       "\t[11,  9]  =  0.00617284\n",
       "\t[12,  9]  =  0.0\n",
       "\t[9 , 10]  =  0.166667\n",
       "\t[10, 10]  =  0.583333\n",
       "\t[11, 10]  =  0.132716\n",
       "\t[12, 10]  =  0.0\n",
       "\t[10, 11]  =  0.25\n",
       "\t[11, 11]  =  0.564815\n",
       "\t[12, 11]  =  0.0\n",
       "\t[11, 12]  =  0.296296\n",
       "\t[12, 12]  =  1.0"
      ]
     },
     "execution_count": 18,
     "metadata": {},
     "output_type": "execute_result"
    }
   ],
   "source": [
    "BasisMatrix(basis, Tensor()).vals[2]"
   ]
  },
  {
   "cell_type": "markdown",
   "metadata": {},
   "source": [
    "### Complete polynomials\n",
    "\n",
    "No nice type for interpolating with complete polynomials (yet), but can build basis matrices and evaluate."
   ]
  },
  {
   "cell_type": "code",
   "execution_count": 19,
   "metadata": {
    "collapsed": false
   },
   "outputs": [
    {
     "data": {
      "text/plain": [
       "250×10 Array{Float64,2}:\n",
       " 1.0  0.0        0.0          0.0         …  -2.0       4.0        -8.0      \n",
       " 1.0  0.0        0.0          0.0            -1.55556   2.41975    -3.76406  \n",
       " 1.0  0.0        0.0          0.0            -1.11111   1.23457    -1.37174  \n",
       " 1.0  0.0        0.0          0.0            -0.666667  0.444444   -0.296296 \n",
       " 1.0  0.0        0.0          0.0            -0.222222  0.0493827  -0.0109739\n",
       " 1.0  0.0        0.0          0.0         …   0.222222  0.0493827   0.0109739\n",
       " 1.0  0.0        0.0          0.0             0.666667  0.444444    0.296296 \n",
       " 1.0  0.0        0.0          0.0             1.11111   1.23457     1.37174  \n",
       " 1.0  0.0        0.0          0.0             1.55556   2.41975     3.76406  \n",
       " 1.0  0.0        0.0          0.0             2.0       4.0         8.0      \n",
       " 1.0  0.208333   0.0434028    0.00904225  …  -2.0       4.0        -8.0      \n",
       " 1.0  0.208333   0.0434028    0.00904225     -1.55556   2.41975    -3.76406  \n",
       " 1.0  0.208333   0.0434028    0.00904225     -1.11111   1.23457    -1.37174  \n",
       " ⋮                                        ⋱                                  \n",
       " 1.0  4.79167   22.9601     110.017           1.55556   2.41975     3.76406  \n",
       " 1.0  4.79167   22.9601     110.017           2.0       4.0         8.0      \n",
       " 1.0  5.0       25.0        125.0         …  -2.0       4.0        -8.0      \n",
       " 1.0  5.0       25.0        125.0            -1.55556   2.41975    -3.76406  \n",
       " 1.0  5.0       25.0        125.0            -1.11111   1.23457    -1.37174  \n",
       " 1.0  5.0       25.0        125.0            -0.666667  0.444444   -0.296296 \n",
       " 1.0  5.0       25.0        125.0            -0.222222  0.0493827  -0.0109739\n",
       " 1.0  5.0       25.0        125.0         …   0.222222  0.0493827   0.0109739\n",
       " 1.0  5.0       25.0        125.0             0.666667  0.444444    0.296296 \n",
       " 1.0  5.0       25.0        125.0             1.11111   1.23457     1.37174  \n",
       " 1.0  5.0       25.0        125.0             1.55556   2.41975     3.76406  \n",
       " 1.0  5.0       25.0        125.0             2.0       4.0         8.0      "
      ]
     },
     "execution_count": 19,
     "metadata": {},
     "output_type": "execute_result"
    }
   ],
   "source": [
    "_xgrid = repeat(xgrid0, inner=[length(ygrid0), 1])\n",
    "_ygrid = repeat(ygrid0, outer=[length(xgrid0), 1])\n",
    "grid = [_xgrid _ygrid]\n",
    "\n",
    "ϕ = complete_polynomial(grid, 3)"
   ]
  },
  {
   "cell_type": "code",
   "execution_count": 20,
   "metadata": {
    "collapsed": false
   },
   "outputs": [
    {
     "data": {
      "text/plain": [
       "10-element Array{Float64,1}:\n",
       " -3.70913e-16\n",
       "  6.43719e-16\n",
       " -2.50132e-16\n",
       "  1.98498e-17\n",
       "  1.0        \n",
       " -3.82269e-16\n",
       " -6.58252e-18\n",
       "  5.01919e-16\n",
       " -3.95672e-17\n",
       " -3.99827e-17"
      ]
     },
     "execution_count": 20,
     "metadata": {},
     "output_type": "execute_result"
    }
   ],
   "source": [
    "f_vals3 = grid[:, 1].^2 .* grid[:, 2]\n",
    "c = ϕ \\ f_vals3"
   ]
  },
  {
   "cell_type": "code",
   "execution_count": 21,
   "metadata": {
    "collapsed": false
   },
   "outputs": [
    {
     "data": {
      "text/html": [
       "0.12500000000000008"
      ],
      "text/plain": [
       "0.12500000000000008"
      ]
     },
     "execution_count": 21,
     "metadata": {},
     "output_type": "execute_result"
    }
   ],
   "source": [
    "dot(complete_polynomial([0.5, 0.5], 3), c)"
   ]
  },
  {
   "cell_type": "code",
   "execution_count": 22,
   "metadata": {
    "collapsed": false
   },
   "outputs": [
    {
     "data": {
      "text/html": [
       "0.12499999999999999"
      ],
      "text/plain": [
       "0.12499999999999999"
      ]
     },
     "execution_count": 22,
     "metadata": {},
     "output_type": "execute_result"
    }
   ],
   "source": [
    "itp2([0.5, 0.5])[2]"
   ]
  },
  {
   "cell_type": "markdown",
   "metadata": {},
   "source": [
    "## Interpolations.jl"
   ]
  },
  {
   "cell_type": "code",
   "execution_count": null,
   "metadata": {
    "collapsed": true
   },
   "outputs": [],
   "source": [
    "# Pkg.add(\"Interpolations\")"
   ]
  },
  {
   "cell_type": "code",
   "execution_count": 23,
   "metadata": {
    "collapsed": false
   },
   "outputs": [],
   "source": [
    "using Interpolations"
   ]
  },
  {
   "cell_type": "markdown",
   "metadata": {},
   "source": [
    "### Interpolating with `Interpolations.jl`\n",
    "\n",
    "`Interpolations.jl` is light in terms of memory usage because it never actually stores the basis matrices; instead, it computes each element on the fly."
   ]
  },
  {
   "cell_type": "markdown",
   "metadata": {},
   "source": [
    "#### Step 1: Build grids and evaluate function on grid"
   ]
  },
  {
   "cell_type": "code",
   "execution_count": 24,
   "metadata": {
    "collapsed": false
   },
   "outputs": [
    {
     "data": {
      "text/plain": [
       "25×10 Array{Float64,2}:\n",
       "  -0.0         -0.0         -0.0        …   0.0         0.0         0.0      \n",
       "  -0.0868056   -0.0675154   -0.0482253      0.0482253   0.0675154   0.0868056\n",
       "  -0.347222    -0.270062    -0.192901       0.192901    0.270062    0.347222 \n",
       "  -0.78125     -0.607639    -0.434028       0.434028    0.607639    0.78125  \n",
       "  -1.38889     -1.08025     -0.771605       0.771605    1.08025     1.38889  \n",
       "  -2.17014     -1.68789     -1.20563    …   1.20563     1.68789     2.17014  \n",
       "  -3.125       -2.43056     -1.73611        1.73611     2.43056     3.125    \n",
       "  -4.25347     -3.30826     -2.36304        2.36304     3.30826     4.25347  \n",
       "  -5.55556     -4.32099     -3.08642        3.08642     4.32099     5.55556  \n",
       "  -7.03125     -5.46875     -3.90625        3.90625     5.46875     7.03125  \n",
       "  -8.68056     -6.75154     -4.82253    …   4.82253     6.75154     8.68056  \n",
       " -10.5035      -8.16937     -5.83526        5.83526     8.16937    10.5035   \n",
       " -12.5         -9.72222     -6.94444        6.94444     9.72222    12.5      \n",
       " -14.6701     -11.4101      -8.15008        8.15008    11.4101     14.6701   \n",
       " -17.0139     -13.233       -9.45216        9.45216    13.233      17.0139   \n",
       " -19.5313     -15.191      -10.8507     …  10.8507     15.191      19.5313   \n",
       " -22.2222     -17.284      -12.3457        12.3457     17.284      22.2222   \n",
       " -25.0868     -19.512      -13.9371        13.9371     19.512      25.0868   \n",
       " -28.125      -21.875      -15.625         15.625      21.875      28.125    \n",
       " -31.3368     -24.3731     -17.4093        17.4093     24.3731     31.3368   \n",
       " -34.7222     -27.0062     -19.2901     …  19.2901     27.0062     34.7222   \n",
       " -38.2813     -29.7743     -21.2674        21.2674     29.7743     38.2813   \n",
       " -42.0139     -32.6775     -23.341         23.341      32.6775     42.0139   \n",
       " -45.9201     -35.7157     -25.5112        25.5112     35.7157     45.9201   \n",
       " -50.0        -38.8889     -27.7778        27.7778     38.8889     50.0      "
      ]
     },
     "execution_count": 24,
     "metadata": {},
     "output_type": "execute_result"
    }
   ],
   "source": [
    "xgrid = linspace(0.0, 5.0, 25)\n",
    "ygrid = linspace(-2.0, 2.0, 10);\n",
    "\n",
    "f_vals = xgrid.^2 .* ygrid'  # Generates a 25x10 matrix"
   ]
  },
  {
   "cell_type": "markdown",
   "metadata": {},
   "source": [
    "#### Step 2: Create interpolator object\n",
    "\n",
    "Notice that we don't give it the grids that it is on. By default `Interpolations.jl` pretends all grids are equally spaced with a distance of 1 between them -- Here it would think that the x dimension goes between 1 and 25 and the y dimension goes between 1 and 10."
   ]
  },
  {
   "cell_type": "code",
   "execution_count": 25,
   "metadata": {
    "collapsed": false
   },
   "outputs": [],
   "source": [
    "itp4 = interpolate(f_vals, BSpline(Cubic(Natural())), OnGrid());\n",
    "\n",
    "# Can have different degrees of approximation if wanted using below code\n",
    "# itp = interpolate(f_vals, (BSpline(Linear()), BSpline(Cubic(Natural()))),\n",
    "#                   OnGrid());"
   ]
  },
  {
   "cell_type": "markdown",
   "metadata": {},
   "source": [
    "Bottom right element of `f_vals`"
   ]
  },
  {
   "cell_type": "code",
   "execution_count": 26,
   "metadata": {
    "collapsed": false
   },
   "outputs": [
    {
     "data": {
      "text/html": [
       "50.0"
      ],
      "text/plain": [
       "50.0"
      ]
     },
     "execution_count": 26,
     "metadata": {},
     "output_type": "execute_result"
    }
   ],
   "source": [
    "itp4[25, 10]"
   ]
  },
  {
   "cell_type": "markdown",
   "metadata": {},
   "source": [
    "#### Step 3: Scale the interpolator object\n",
    "\n",
    "We want to move the grid back to the scales we have. In order to extract extra speed, it is assumed everything is equally spaced. To help enforce this, they require that whatever it is scaled by is a `linspace` of some sort."
   ]
  },
  {
   "cell_type": "code",
   "execution_count": 27,
   "metadata": {
    "collapsed": false
   },
   "outputs": [
    {
     "ename": "LoadError",
     "evalue": "MethodError: no method matching scale(::Interpolations.BSplineInterpolation{Float64,2,Array{Float64,2},Interpolations.BSpline{Interpolations.Cubic{Interpolations.Line}},Interpolations.OnGrid,1}, ::Array{Float64,1}, ::Array{Float64,1})\u001b[0m\nClosest candidates are:\n  scale(::AbstractArray{T,2}, ::AbstractArray{T,1}) at deprecated.jl:49\n  scale(\u001b[1m\u001b[31m::Number\u001b[0m, ::AbstractArray{T,N}) at deprecated.jl:49\n  scale(::AbstractArray{T,N}, \u001b[1m\u001b[31m::Number\u001b[0m) at deprecated.jl:49\n  ...\u001b[0m",
     "output_type": "error",
     "traceback": [
      "MethodError: no method matching scale(::Interpolations.BSplineInterpolation{Float64,2,Array{Float64,2},Interpolations.BSpline{Interpolations.Cubic{Interpolations.Line}},Interpolations.OnGrid,1}, ::Array{Float64,1}, ::Array{Float64,1})\u001b[0m\nClosest candidates are:\n  scale(::AbstractArray{T,2}, ::AbstractArray{T,1}) at deprecated.jl:49\n  scale(\u001b[1m\u001b[31m::Number\u001b[0m, ::AbstractArray{T,N}) at deprecated.jl:49\n  scale(::AbstractArray{T,N}, \u001b[1m\u001b[31m::Number\u001b[0m) at deprecated.jl:49\n  ...\u001b[0m",
      ""
     ]
    }
   ],
   "source": [
    "itp4_s = scale(itp4, collect(xgrid), collect(ygrid))  # Won't work"
   ]
  },
  {
   "cell_type": "code",
   "execution_count": 28,
   "metadata": {
    "collapsed": false
   },
   "outputs": [],
   "source": [
    "itp4_s = scale(itp4, xgrid, ygrid);  # Will work"
   ]
  },
  {
   "cell_type": "code",
   "execution_count": 29,
   "metadata": {
    "collapsed": false
   },
   "outputs": [
    {
     "data": {
      "text/html": [
       "50.0"
      ],
      "text/plain": [
       "50.0"
      ]
     },
     "execution_count": 29,
     "metadata": {},
     "output_type": "execute_result"
    }
   ],
   "source": [
    "itp4_s[5.0, 2.0]  # Bottom right element again"
   ]
  },
  {
   "cell_type": "markdown",
   "metadata": {},
   "source": [
    "#### Step 4: Evaluate\n",
    "\n",
    "`Interpolations.jl` only allows for evaluation at one point at a time."
   ]
  },
  {
   "cell_type": "code",
   "execution_count": 30,
   "metadata": {
    "collapsed": false
   },
   "outputs": [
    {
     "name": "stdout",
     "output_type": "stream",
     "text": [
      "0.008074808933957733\n"
     ]
    }
   ],
   "source": [
    "f_interp_values = Array{Float64}(100, 100)\n",
    "x_fine_grid = linspace(xgrid[1], xgrid[end], 100)\n",
    "y_fine_grid = linspace(ygrid[1], ygrid[end], 100)\n",
    "\n",
    "for (ix, x) in enumerate(x_fine_grid)\n",
    "    for (iy, y) in enumerate(y_fine_grid)\n",
    "        f_interp_values[ix, iy] = itp4_s[x, y]\n",
    "    end\n",
    "end\n",
    "\n",
    "f_true_values = x_fine_grid.^2 .* y_fine_grid'\n",
    "\n",
    "println(maximum(abs, f_interp_values - f_true_values))"
   ]
  },
  {
   "cell_type": "markdown",
   "metadata": {},
   "source": [
    "#### Note: Gradient if needed"
   ]
  },
  {
   "cell_type": "code",
   "execution_count": 31,
   "metadata": {
    "collapsed": false
   },
   "outputs": [
    {
     "data": {
      "text/plain": [
       "2-element Array{Float64,1}:\n",
       " 3.99955\n",
       " 1.00001"
      ]
     },
     "execution_count": 31,
     "metadata": {},
     "output_type": "execute_result"
    }
   ],
   "source": [
    "gradient(itp4_s, 1.0, 2.0)"
   ]
  }
 ],
 "metadata": {
  "kernelspec": {
   "display_name": "Julia 0.5.1",
   "language": "julia",
   "name": "julia-0.5"
  },
  "language_info": {
   "file_extension": ".jl",
   "mimetype": "application/julia",
   "name": "julia",
   "version": "0.5.1"
  }
 },
 "nbformat": 4,
 "nbformat_minor": 2
}
