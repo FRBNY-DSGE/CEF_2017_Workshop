{
 "cells": [
  {
   "cell_type": "markdown",
   "metadata": {
    "slideshow": {
     "slide_type": "slide"
    }
   },
   "source": [
    "# Packages in Julia\n",
    "\n",
    "** @ CEF 2017** \n",
    "\n",
    "**Authors**: Chase Coleman and Spencer Lyon\n",
    "\n",
    "**Date**: 27 June 2017"
   ]
  },
  {
   "cell_type": "markdown",
   "metadata": {
    "slideshow": {
     "slide_type": "fragment"
    }
   },
   "source": [
    "- Key strength of Julia is its [package ecosystem](https://pkg.julialang.org)\n",
    "- 1,446 packages as of 6-26-17\n",
    "- Great diversity:"
   ]
  },
  {
   "cell_type": "code",
   "execution_count": 2,
   "metadata": {
    "scrolled": true,
    "slideshow": {
     "slide_type": "fragment"
    }
   },
   "outputs": [
    {
     "data": {
      "text/plain": [
       "10-element Array{String,1}:\n",
       " \"MLDataUtils\"   \n",
       " \"Sugar\"         \n",
       " \"CUDAnativelib\" \n",
       " \"HTTPClient\"    \n",
       " \"CUTEst\"        \n",
       " \"RandomMatrices\"\n",
       " \"JuLIP\"         \n",
       " \"EMIRT\"         \n",
       " \"ColorSchemes\"  \n",
       " \"Pedigrees\"     "
      ]
     },
     "execution_count": 2,
     "metadata": {},
     "output_type": "execute_result"
    }
   ],
   "source": [
    "pkg_list = readdir(joinpath(expanduser(\"~\"), \".julia\", \"v0.5\", \"METADATA\"))\n",
    "pkg_list[rand(1:length(pkg_list), 10)]"
   ]
  },
  {
   "cell_type": "markdown",
   "metadata": {
    "slideshow": {
     "slide_type": "slide"
    }
   },
   "source": [
    "- Some are very high quality (JuMP, NLopt, Distributions, QuantEcon, DSGE, TensorFlow, Cxx)\n",
    "- The goal of these notebooks is to introduce the most useful packages for economic modeling\n",
    "- Will break down by topic:\n",
    "    - [Function approximation](function_approximation.ipynb)\n",
    "    - [Numerical/statistics tools](numerics_stats.ipynb)\n",
    "    - [Optimization/solvers](optimization_solvers.ipynb)\n",
    "    - [Plotting](plotting.ipynb)\n",
    "    - [Economics](economics.ipynb)"
   ]
  },
  {
   "cell_type": "code",
   "execution_count": null,
   "metadata": {
    "collapsed": true
   },
   "outputs": [],
   "source": []
  }
 ],
 "metadata": {
  "anaconda-cloud": {},
  "kernelspec": {
   "display_name": "Julia 0.6.0",
   "language": "julia",
   "name": "julia-0.6"
  },
  "language_info": {
   "file_extension": ".jl",
   "mimetype": "application/julia",
   "name": "julia",
   "version": "0.6.0"
  },
  "livereveal": {
   "scroll": true,
   "start_slideshow_at": "selected",
   "theme": "white",
   "transition": "fade"
  }
 },
 "nbformat": 4,
 "nbformat_minor": 2
}
