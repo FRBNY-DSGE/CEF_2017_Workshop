{
 "cells": [
  {
   "cell_type": "markdown",
   "metadata": {
    "collapsed": true
   },
   "source": [
    "# Julia Workshop: Optimization and Solvers\n",
    "\n",
    "## @ CEF 2017\n",
    "\n",
    "**Authors**: Chase Coleman and Spencer Lyon\n",
    "\n",
    "**Date**: 27 June 2017\n"
   ]
  },
  {
   "cell_type": "markdown",
   "metadata": {},
   "source": [
    "## Goal\n",
    "\n",
    "A few different packages used for optimization or non-linear equation solving.\n"
   ]
  },
  {
   "cell_type": "markdown",
   "metadata": {},
   "source": [
    "## QuantEcon\n",
    "\n",
    "The QuantEcon library has a few simple optimizers and solvers. See the economics [notebook](economics.ipynb) for more information."
   ]
  },
  {
   "cell_type": "code",
   "execution_count": 1,
   "metadata": {
    "collapsed": true
   },
   "outputs": [],
   "source": [
    "# Pkg.add(\"QuantEcon\")"
   ]
  },
  {
   "cell_type": "markdown",
   "metadata": {},
   "source": [
    "## Optim.jl\n",
    "\n",
    "Package for optimizing written in pure Julia"
   ]
  },
  {
   "cell_type": "code",
   "execution_count": 2,
   "metadata": {
    "collapsed": true
   },
   "outputs": [],
   "source": [
    "# Pkg.add(\"Optim\")"
   ]
  },
  {
   "cell_type": "code",
   "execution_count": 3,
   "metadata": {},
   "outputs": [],
   "source": [
    "using Optim"
   ]
  },
  {
   "cell_type": "code",
   "execution_count": 4,
   "metadata": {},
   "outputs": [
    {
     "data": {
      "text/plain": [
       "rosenbrock (generic function with 1 method)"
      ]
     },
     "execution_count": 4,
     "metadata": {},
     "output_type": "execute_result"
    }
   ],
   "source": [
    "rosenbrock(x) = (1.0 - x[1])^2 + 100.0*(x[2] - x[1]^2)^2"
   ]
  },
  {
   "cell_type": "markdown",
   "metadata": {},
   "source": [
    "### Optimizing without gradient"
   ]
  },
  {
   "cell_type": "code",
   "execution_count": 6,
   "metadata": {},
   "outputs": [
    {
     "ename": "LoadError",
     "evalue": "error compiling initial_state: error compiling centroid!: error compiling scale!: could not load library \"libopenblas64_\"\nlibgfortran.so.3: cannot open shared object file: No such file or directory",
     "output_type": "error",
     "traceback": [
      "error compiling initial_state: error compiling centroid!: error compiling scale!: could not load library \"libopenblas64_\"\nlibgfortran.so.3: cannot open shared object file: No such file or directory",
      "",
      " in optimize(::Function, ::Array{Float64,1}, ::Optim.NelderMead{Optim.AffineSimplexer,Optim.AdaptiveParameters}, ::Optim.Options{Void}) at /home/chase/.julia/v0.5/Optim/src/optimize.jl:172",
      " in optimize(::Function, ::Array{Float64,1}, ::Optim.NelderMead{Optim.AffineSimplexer,Optim.AdaptiveParameters}) at /home/chase/.julia/v0.5/Optim/src/optimize.jl:165"
     ]
    }
   ],
   "source": [
    "optimize(rosenbrock, zeros(2), NelderMead())"
   ]
  },
  {
   "cell_type": "code",
   "execution_count": 7,
   "metadata": {},
   "outputs": [
    {
     "ename": "LoadError",
     "evalue": "error compiling optimize: error compiling optimize: error compiling vecnorm: error compiling vecnorm2: could not load library \"libopenblas64_\"\nlibgfortran.so.3: cannot open shared object file: No such file or directory",
     "output_type": "error",
     "traceback": [
      "error compiling optimize: error compiling optimize: error compiling vecnorm: error compiling vecnorm2: could not load library \"libopenblas64_\"\nlibgfortran.so.3: cannot open shared object file: No such file or directory",
      "",
      " in optimize(::Function, ::Array{Float64,1}, ::Optim.BFGS{LineSearches.#hagerzhang!,Optim.##37#39}) at /home/chase/.julia/v0.5/Optim/src/optimize.jl:165"
     ]
    }
   ],
   "source": [
    "optimize(rosenbrock, zeros(2), BFGS())"
   ]
  },
  {
   "cell_type": "markdown",
   "metadata": {},
   "source": [
    "### Optimizing with gradient"
   ]
  },
  {
   "cell_type": "code",
   "execution_count": 8,
   "metadata": {},
   "outputs": [
    {
     "data": {
      "text/plain": [
       "rosenbrock_grad! (generic function with 1 method)"
      ]
     },
     "execution_count": 8,
     "metadata": {},
     "output_type": "execute_result"
    }
   ],
   "source": [
    "function rosenbrock_grad!(x::Vector, grad::Vector)\n",
    "    grad[1] = -2.0*(1.0 - x[1]) - 400.0*(x[2] - x[1]^2)*x[1]\n",
    "    grad[2] = 200.0*(x[2] - x[1]^2)\n",
    "end"
   ]
  },
  {
   "cell_type": "code",
   "execution_count": 9,
   "metadata": {},
   "outputs": [
    {
     "ename": "LoadError",
     "evalue": "error compiling optimize: error compiling optimize: error compiling vecnorm: error compiling vecnorm2: could not load library \"libopenblas64_\"\nlibgfortran.so.3: cannot open shared object file: No such file or directory",
     "output_type": "error",
     "traceback": [
      "error compiling optimize: error compiling optimize: error compiling vecnorm: error compiling vecnorm2: could not load library \"libopenblas64_\"\nlibgfortran.so.3: cannot open shared object file: No such file or directory",
      ""
     ]
    }
   ],
   "source": [
    "optimize(rosenbrock, rosenbrock_grad!, zeros(2), LBFGS(),\n",
    "         Optim.Options(x_tol=1e-10, f_tol=1e-9, iterations=25000,\n",
    "                       allow_f_increases=true))"
   ]
  },
  {
   "cell_type": "code",
   "execution_count": 10,
   "metadata": {},
   "outputs": [
    {
     "ename": "LoadError",
     "evalue": "error compiling optimize: error compiling optimize: error compiling vecnorm: error compiling vecnorm2: could not load library \"libopenblas64_\"\nlibgfortran.so.3: cannot open shared object file: No such file or directory",
     "output_type": "error",
     "traceback": [
      "error compiling optimize: error compiling optimize: error compiling vecnorm: error compiling vecnorm2: could not load library \"libopenblas64_\"\nlibgfortran.so.3: cannot open shared object file: No such file or directory",
      ""
     ]
    }
   ],
   "source": [
    "optimize(rosenbrock, rosenbrock_grad!, zeros(2), GradientDescent(),\n",
    "         Optim.Options(x_tol=1e-10, f_tol=1e-9, iterations=25000,\n",
    "                       allow_f_increases=true))"
   ]
  },
  {
   "cell_type": "markdown",
   "metadata": {},
   "source": [
    "### Optimizing with Hessian"
   ]
  },
  {
   "cell_type": "code",
   "execution_count": 11,
   "metadata": {},
   "outputs": [
    {
     "data": {
      "text/plain": [
       "rosenbrock_hess! (generic function with 1 method)"
      ]
     },
     "execution_count": 11,
     "metadata": {},
     "output_type": "execute_result"
    }
   ],
   "source": [
    "function rosenbrock_hess!(x::Vector, hess::Matrix)\n",
    "    hess[1, 1] = 2.0 - 400.0 * x[2] + 1200.0*x[1]^2\n",
    "    hess[1, 2] = -400.0 * x[1]\n",
    "    hess[2, 1] = -400.0 * x[1]\n",
    "    hess[2, 2] = 200.0\n",
    "end"
   ]
  },
  {
   "cell_type": "code",
   "execution_count": 12,
   "metadata": {},
   "outputs": [
    {
     "ename": "LoadError",
     "evalue": "error compiling optimize: error compiling optimize: error compiling vecnorm: error compiling vecnorm2: could not load library \"libopenblas64_\"\nlibgfortran.so.3: cannot open shared object file: No such file or directory",
     "output_type": "error",
     "traceback": [
      "error compiling optimize: error compiling optimize: error compiling vecnorm: error compiling vecnorm2: could not load library \"libopenblas64_\"\nlibgfortran.so.3: cannot open shared object file: No such file or directory",
      ""
     ]
    }
   ],
   "source": [
    "optimize(rosenbrock, rosenbrock_grad!, rosenbrock_hess!, zeros(2), Newton())"
   ]
  },
  {
   "cell_type": "markdown",
   "metadata": {},
   "source": [
    "## NLopt\n",
    "\n",
    "Julia wrapper to high quality C library.\n",
    "\n",
    "This library has _lots_ of options for algorithms. See [list](http://ab-initio.mit.edu/wiki/index.php/NLopt_Algorithms) of algorithms"
   ]
  },
  {
   "cell_type": "code",
   "execution_count": 15,
   "metadata": {
    "collapsed": true
   },
   "outputs": [],
   "source": [
    "# Pkg.add(\"NLopt\")"
   ]
  },
  {
   "cell_type": "code",
   "execution_count": null,
   "metadata": {
    "collapsed": true
   },
   "outputs": [],
   "source": [
    "using NLopt"
   ]
  },
  {
   "cell_type": "code",
   "execution_count": null,
   "metadata": {
    "collapsed": true
   },
   "outputs": [],
   "source": [
    "function rosenbrock(x::Vector, grad::Vector)\n",
    "    if length(grad) > 0\n",
    "        rosenbrock_grad!(x, grad)\n",
    "    end\n",
    "\n",
    "    return rosenbrock(x)\n",
    "end"
   ]
  },
  {
   "cell_type": "markdown",
   "metadata": {},
   "source": [
    "### A non-gradient and gradient based method"
   ]
  },
  {
   "cell_type": "code",
   "execution_count": null,
   "metadata": {
    "collapsed": true
   },
   "outputs": [],
   "source": [
    "opt_NM = Opt(:NLOPT_LN_NELDERMEAD, 2)\n",
    "\n",
    "min_objective!(opt_NM, rosenbrock)\n",
    "\n",
    "optimize(opt_NM, zeros(2))"
   ]
  },
  {
   "cell_type": "code",
   "execution_count": null,
   "metadata": {
    "collapsed": true
   },
   "outputs": [],
   "source": [
    "opt_MMA = Opt(:NLOPT_LD_MMA, 2)\n",
    "\n",
    "min_objective!(opt_MMA, rosenbrock)\n",
    "\n",
    "optimize(optMMA, zeros(2))"
   ]
  },
  {
   "cell_type": "markdown",
   "metadata": {},
   "source": [
    "### A constrained optimization problem\n",
    "\n",
    "\\begin{align*}\n",
    "  \\min_{x_1, x_2} &\\sqrt{x_2} \\\\\n",
    "  &\\text{subject to } \\\\\n",
    "  &x_2 \\geq 0 \\\\\n",
    "  &x_2 \\geq (2 x_1)^3  \\\\\n",
    "  &x_2 \\geq (-x_1 + 1)^3\n",
    "\\end{align*}"
   ]
  },
  {
   "cell_type": "code",
   "execution_count": null,
   "metadata": {
    "collapsed": true
   },
   "outputs": [],
   "source": [
    "function myfunc(x::Vector, grad::Vector)\n",
    "    if length(grad) > 0\n",
    "        grad[1] = 0\n",
    "        grad[2] = 0.5/sqrt(x[2])\n",
    "    end\n",
    "\n",
    "    return sqrt(x[1] + x[2])\n",
    "end\n",
    "\n",
    "function myconstraint(x::Vector, grad::Vector, a, b)\n",
    "    if length(grad) > 0\n",
    "        grad[1] = 3a * (a*x[1] + b)^2\n",
    "        grad[2] = -1\n",
    "    end\n",
    "\n",
    "    return (a*x[1] + b)^3 - x[2]\n",
    "end\n",
    "\n",
    "opt = Opt(:LD_MMA, 2)\n",
    "\n",
    "lower_bounds!(opt, [-Inf, 0.])\n",
    "xtol_rel!(opt, 1e-6)\n",
    "\n",
    "min_objective!(opt, myfunc)\n",
    "\n",
    "inequality_constraint!(opt, (x,g) -> myconstraint(x, g, 2.0, 0.0), 1e-8)\n",
    "inequality_constraint!(opt, (x,g) -> myconstraint(x, g, -1.0 ,1.0), 1e-8)\n",
    "\n",
    "(minf, minx, ret) = optimize(opt, [1.234, 5.678])\n",
    "\n",
    "println(\"got $minf at $minx (returned $ret)\")"
   ]
  },
  {
   "cell_type": "markdown",
   "metadata": {
    "collapsed": true
   },
   "source": [
    "## NLsolve\n",
    "\n",
    "Julia package written to solve systems of non-linear equations."
   ]
  },
  {
   "cell_type": "code",
   "execution_count": 13,
   "metadata": {},
   "outputs": [
    {
     "name": "stderr",
     "output_type": "stream",
     "text": [
      "WARNING: both Optim and Base export \"clear!\"; uses of it in module Main must be qualified\n"
     ]
    }
   ],
   "source": [
    "# Pkg.add(\"NLsolve\")"
   ]
  },
  {
   "cell_type": "code",
   "execution_count": 14,
   "metadata": {},
   "outputs": [
    {
     "name": "stderr",
     "output_type": "stream",
     "text": [
      "\u001b[1m\u001b[34mINFO: Recompiling stale cache file /home/chase/.julia/lib/v0.5/NLsolve.ji for module NLsolve.\n",
      "\u001b[0mWARNING: Error during initialization of module LinAlg:\n",
      "ErrorException(\"could not load library \"libopenblas64_\"\n",
      "libgfortran.so.3: cannot open shared object file: No such file or directory\")\n",
      "WARNING: Error during initialization of module CHOLMOD:\n",
      "ErrorException(\"could not load library \"libcholmod\"\n",
      "libgfortran.so.3: cannot open shared object file: No such file or directory\")\n",
      "WARNING: Error during initialization of module LinAlg:\n",
      "ErrorException(\"could not load library \"libopenblas64_\"\n",
      "libgfortran.so.3: cannot open shared object file: No such file or directory\")\n",
      "WARNING: Error during initialization of module CHOLMOD:\n",
      "ErrorException(\"could not load library \"libcholmod\"\n",
      "libgfortran.so.3: cannot open shared object file: No such file or directory\")\n"
     ]
    }
   ],
   "source": [
    "using NLsolve"
   ]
  },
  {
   "cell_type": "code",
   "execution_count": null,
   "metadata": {
    "collapsed": true
   },
   "outputs": [],
   "source": [
    "function f!(xy::Vector, fxy::Vector)\n",
    "    # Pull out arguments\n",
    "    x, y = xy\n",
    "\n",
    "    # Fill fxy\n",
    "    fxy[1] = x^2 - sin(y)\n",
    "    fxy[2] = y^2 - cos(x)\n",
    "end\n",
    "\n",
    "function g!(xy::Vector, jacxy::Matrix)\n",
    "    x, y = xy\n",
    "    # Fill with derivatives of first function\n",
    "    jacxy[1, 1] = 2*x\n",
    "    jacxy[1, 2] = -cos(y)\n",
    "\n",
    "    # Fill off-diagonal\n",
    "    jacxy[2, 1] = sin(x)\n",
    "    jacxy[2, 2] = 2*y\n",
    "end\n",
    "\n",
    "res = nlsolve(f!, g!, [0.0, 0.0], ftol=1e-10)"
   ]
  }
 ],
 "metadata": {
  "anaconda-cloud": {},
  "kernelspec": {
   "display_name": "Julia 0.5.1",
   "language": "julia",
   "name": "julia-0.5"
  },
  "language_info": {
   "file_extension": ".jl",
   "mimetype": "application/julia",
   "name": "julia",
   "version": "0.5.1"
  }
 },
 "nbformat": 4,
 "nbformat_minor": 2
}
