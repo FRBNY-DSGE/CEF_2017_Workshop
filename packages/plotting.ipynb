{
 "cells": [
  {
   "cell_type": "markdown",
   "metadata": {},
   "source": [
    "# Plotting in Julia\n",
    "\n",
    "** @ CEF 2017** \n",
    "\n",
    "**Authors**: Chase Coleman and Spencer Lyon\n",
    "\n",
    "**Date**: 27 June 2017"
   ]
  },
  {
   "cell_type": "markdown",
   "metadata": {
    "slideshow": {
     "slide_type": "slide"
    }
   },
   "source": [
    "- Sort of a mixed bag\n",
    "- Upside: many options, lots of flexibility"
   ]
  },
  {
   "cell_type": "markdown",
   "metadata": {
    "slideshow": {
     "slide_type": "fragment"
    }
   },
   "source": [
    "- Downside: many options, lots of flexibility"
   ]
  },
  {
   "cell_type": "markdown",
   "metadata": {
    "slideshow": {
     "slide_type": "fragment"
    }
   },
   "source": [
    "- Will introduce two options: \n",
    "    1. [PyPlot.jl](https://github.com/JuliaPy/PyPlot.jl): Julia interface to Python's [`matplotlib.pyplot`](http://matplotlib.org)\n",
    "    2. [PlotlyJS.jl](http://spencerlyon.com/PlotlyJS.jl/): Interface to [plotly.js](https://plot.ly/javascript/)\n",
    "- Alternatives\n",
    "    - [Gadfly.jl](http://gadflyjl.org): Grammar of Graphics style plotting (similar to `ggplot2` from R)\n",
    "    - [Plots.jl](https://juliaplots.github.io): API that leverages other packages to do plotting\n",
    "    - [GLPlot.jl](https://github.com/SimonDanisch/GLPlot.jl): high performance GPU powered plotting\n",
    "    - [GR.jl](https://github.com/jheinen/GR.jl): Julia interface to GR framework\n",
    "    - ... others"
   ]
  },
  {
   "cell_type": "markdown",
   "metadata": {
    "slideshow": {
     "slide_type": "slide"
    }
   },
   "source": [
    "## PyPlot.jl\n",
    "\n",
    "- Julia interface to `matplotlib.pyplot`\n",
    "- Very mature, robust, full-featured\n",
    "- Main downside: sometimes feels a bit \"clunky\" or \"unnatural\" to use Python APIs from Julia"
   ]
  },
  {
   "cell_type": "code",
   "execution_count": null,
   "metadata": {
    "collapsed": true,
    "slideshow": {
     "slide_type": "-"
    }
   },
   "outputs": [],
   "source": [
    "# Pkg.add(\"PyPlot\")"
   ]
  },
  {
   "cell_type": "markdown",
   "metadata": {
    "slideshow": {
     "slide_type": "subslide"
    }
   },
   "source": [
    "### Basic PyPlot"
   ]
  },
  {
   "cell_type": "code",
   "execution_count": null,
   "metadata": {
    "slideshow": {
     "slide_type": "-"
    }
   },
   "outputs": [],
   "source": [
    "using PyPlot\n",
    "\n",
    "x = linspace(0, 2π, 30)\n",
    "plot(x, sin.(x));  # semi-colon supresses matplotlib text"
   ]
  },
  {
   "cell_type": "code",
   "execution_count": null,
   "metadata": {
    "slideshow": {
     "slide_type": "fragment"
    }
   },
   "outputs": [],
   "source": [
    "### using object API\n",
    "# One row, two columns of subplots\n",
    "fig, ax = subplots(1, 2)\n",
    "\n",
    "# 1d array of matplotlib axes\n",
    "@show typeof(ax)\n",
    "\n",
    "# access methods of ax object using `[:name]` instead of `.name`\n",
    "\n",
    "# plot on both axes\n",
    "ax[1][:plot](x, sin.(x), label=\"sin\")\n",
    "ax[2][:plot](x, cos.(x), label=\"cos\")\n",
    "\n",
    "# set axes properties\n",
    "ax[1][:set_xlabel](\"this is x\")\n",
    "ax[2][:set_title](\"cos(x)\")\n",
    "\n",
    "# set figure property\n",
    "fig[:suptitle](\"Trig functions\");"
   ]
  },
  {
   "cell_type": "code",
   "execution_count": null,
   "metadata": {
    "slideshow": {
     "slide_type": "fragment"
    }
   },
   "outputs": [],
   "source": [
    "# fix spacing of axes labels\n",
    "fig[:tight_layout]()\n",
    "\n",
    "# display fig again by having it as last item in notebook cell\n",
    "# (notice improved spacing)\n",
    "fig "
   ]
  },
  {
   "cell_type": "markdown",
   "metadata": {
    "slideshow": {
     "slide_type": "subslide"
    }
   },
   "source": [
    "### More than you need\n",
    "\n",
    "- There are many matplotlib tutorials and examples online\n",
    "- Any that use `matplotlib.pyplot` work with PyPlot.jl -- you just need to change `.stuff` to `[:stuff]`\n",
    "- The ultimate reference for what is possible is the matplotlib documentation:\n",
    "    - [API documentation](http://matplotlib.org/2.0.2/api/pyplot_summary.html) (Documentation for each function)\n",
    "    - [Examples](http://matplotlib.org/2.0.2/examples/index.html)\n",
    "    - [Gallery](http://matplotlib.org/2.0.2/gallery.html)\n",
    "- Below are some examples (taken from [quantecon plotting lecture](https://lectures.quantecon.org/jl/julia_plots.html#pyplot))"
   ]
  },
  {
   "cell_type": "code",
   "execution_count": null,
   "metadata": {},
   "outputs": [],
   "source": [
    "using Distributions\n",
    "\n",
    "u = Uniform()\n",
    "\n",
    "fig, ax = subplots()\n",
    "x = linspace(-4, 4, 150)\n",
    "for i in 1:3\n",
    "    # == Compute normal pdf from randomly generated mean and std == #\n",
    "    m, s = rand(u) * 2 - 1, rand(u) + 1\n",
    "    d = Normal(m, s)\n",
    "    y = pdf(d, x)\n",
    "    # == Plot current pdf == #\n",
    "    ax[:plot](x, y, linewidth=2, alpha=0.6, label=\"draw $i\")\n",
    "end\n",
    "ax[:legend]();"
   ]
  },
  {
   "cell_type": "code",
   "execution_count": null,
   "metadata": {
    "slideshow": {
     "slide_type": "fragment"
    }
   },
   "outputs": [],
   "source": [
    "u = Uniform()\n",
    "num_rows, num_cols = 2, 3\n",
    "fig, axes = subplots(num_rows, num_cols, figsize=(16,6))\n",
    "subplot_num = 0\n",
    "\n",
    "for i in 1:num_rows\n",
    "    for j in 1:num_cols\n",
    "        ax = axes[i, j]\n",
    "        subplot_num += 1\n",
    "        # == Generate a normal sample with random mean and std == #\n",
    "        m, s = rand(u) * 2 - 1, rand(u) + 1\n",
    "        d = Normal(m, s)\n",
    "        x = rand(d, 100)\n",
    "        # == Histogram the sample == #\n",
    "        ax[:hist](x, alpha=0.6, bins=20)\n",
    "        ax[:set_title](\"histogram $subplot_num\")\n",
    "        ax[:set_xticks]([-4, 0, 4])\n",
    "        ax[:set_yticks]([])\n",
    "    end\n",
    "end"
   ]
  },
  {
   "cell_type": "code",
   "execution_count": null,
   "metadata": {
    "slideshow": {
     "slide_type": "fragment"
    }
   },
   "outputs": [],
   "source": [
    "using QuantEcon: meshgrid\n",
    "\n",
    "n = 50\n",
    "x = linspace(-3, 3, n)\n",
    "y = x\n",
    "\n",
    "z = Array{Float64}(n, n)\n",
    "f(x, y) = cos(x^2 + y^2) / (1 + x^2 + y^2)\n",
    "for i in 1:n\n",
    "    for j in 1:n\n",
    "        z[j, i] = f(x[i], y[j])\n",
    "    end\n",
    "end\n",
    "\n",
    "fig = figure(figsize=(8,6))\n",
    "ax = fig[:gca](projection=\"3d\")\n",
    "ax[:set_zlim](-0.5, 1.0)\n",
    "xgrid, ygrid = meshgrid(x, y)\n",
    "ax[:plot_surface](\n",
    "    xgrid, ygrid, z, rstride=2, cstride=2,\n",
    "    cmap=ColorMap(\"viridis\"), alpha=0.7, linewidth=0.25\n",
    ");"
   ]
  },
  {
   "cell_type": "code",
   "execution_count": null,
   "metadata": {
    "collapsed": true,
    "slideshow": {
     "slide_type": "fragment"
    }
   },
   "outputs": [],
   "source": [
    "# save the previous figure to pdf and eps\n",
    "fig[:savefig](\"3dplot.pdf\")\n",
    "fig[:savefig](\"3dplot.eps\")"
   ]
  },
  {
   "cell_type": "markdown",
   "metadata": {
    "slideshow": {
     "slide_type": "slide"
    }
   },
   "source": [
    "## PlotlyJS.jl\n",
    "\n",
    "- Julia interface to the  [plotly.js](https://plot.ly/javascript/) javascript library \n",
    "- Pros:\n",
    "    - Comprehensive plotting routines\n",
    "    - Interactive web graphics (easy to embed in website)\n",
    "    - Plots are just JSON, so easy to save from HPC/server then reopen/edit later\n",
    "    - Plot maps\n",
    "- Cons:\n",
    "    - Sometimes tricky to get everything talking nicely\n",
    "    - Saving 3d images to pdf is low quality"
   ]
  },
  {
   "cell_type": "code",
   "execution_count": null,
   "metadata": {
    "collapsed": true
   },
   "outputs": [],
   "source": [
    "# Pkg.add(\"PlotlyJS\"); using PlotlyJS; PlotlyJS.Blink.AtomShell.install()"
   ]
  },
  {
   "cell_type": "markdown",
   "metadata": {
    "slideshow": {
     "slide_type": "subslide"
    }
   },
   "source": [
    "### PlotlyJS.jl basics\n",
    "\n",
    "- Plots are made up of two things\n",
    "    1. A list of traces. Each trace specifies one \"thing\" to be drawn and how to draw it. Examples:\n",
    "        - `scatter`: (x, y) lines or markers in a certain color with line width\n",
    "        - `choropleth`: what color each region should be, text label\n",
    "        - `box`: x coordinates \n",
    "    2. A layout specification\n",
    "        - Titles\n",
    "        - Fonts/font sizes\n",
    "        - Annotations\n",
    "        - Multiple axes\n",
    "- Then combine in the `plot` function: `plot([trace1, trace2], layout)`\n",
    "- Call function `PlotlyJS.docs()` for a list of what is settable"
   ]
  },
  {
   "cell_type": "markdown",
   "metadata": {},
   "source": [
    "**NOTE: restart notebook kernel here!!!**\n",
    "\n",
    "Both PlotlyJS and PyPlot define functions with common names (e.g. `plot`, `scatter`, etc.) \n",
    "\n",
    "So that we can use PlotlyJS's without having to refer to them as `PlotlyJS.function_name` we will restart the notebook kernel (the Julia process backing the notebook)\n",
    "\n",
    "To do this we go to the `Kernel` menu above and press `Restart`"
   ]
  },
  {
   "cell_type": "code",
   "execution_count": null,
   "metadata": {
    "slideshow": {
     "slide_type": "subslide"
    }
   },
   "outputs": [],
   "source": [
    "using PlotlyJS\n",
    "PlotlyJS.docs()"
   ]
  },
  {
   "cell_type": "code",
   "execution_count": null,
   "metadata": {
    "slideshow": {
     "slide_type": "fragment"
    }
   },
   "outputs": [],
   "source": [
    "# same examples as above\n",
    "x = linspace(0, 2π, 30)\n",
    "plot(x, sin.(x), name=\"sin\")"
   ]
  },
  {
   "cell_type": "code",
   "execution_count": null,
   "metadata": {
    "slideshow": {
     "slide_type": "fragment"
    }
   },
   "outputs": [],
   "source": [
    "# could also construct a scatter and layout\n",
    "t1 = scatter(x=x, y=sin.(x), name=\"sin\")\n",
    "layout1 = Layout(font_size=18)\n",
    "p1 = plot(t1, layout1)"
   ]
  },
  {
   "cell_type": "code",
   "execution_count": null,
   "metadata": {
    "collapsed": true,
    "slideshow": {
     "slide_type": "fragment"
    }
   },
   "outputs": [],
   "source": [
    "# Can add layout proerties _after display_ using `relayout!`\n",
    "# watch the plot above change\n",
    "relayout!(p1, xaxis_title=\"this is x\")"
   ]
  },
  {
   "cell_type": "code",
   "execution_count": null,
   "metadata": {
    "slideshow": {
     "slide_type": "subslide"
    }
   },
   "outputs": [],
   "source": [
    "# to make subplots we pretend we are stacking in a matrix\n",
    "p2 = plot(x, cos.(x), name=\"cos\")\n",
    "\n",
    "p12 = [p1 p2]\n",
    "\n",
    "relayout!(p12, title=\"Trig functions\")\n",
    "p12"
   ]
  },
  {
   "cell_type": "markdown",
   "metadata": {
    "slideshow": {
     "slide_type": "subslide"
    }
   },
   "source": [
    "### More than you need\n",
    "\n",
    "- Anything plotly.js can do, PlotlyJS.jl can do\n",
    "- The ultimate reference on what is possible is the [plotly.js documentation](https://plot.ly/javascript/)\n",
    "    - [Complete listing](https://plot.ly/javascript/reference)\n",
    "    - [Examples](https://plot.ly/javascript/#fundamentals)\n",
    "- Below are some examples taken from [PlotlyJS.jl documentation](http://spencerlyon.com/PlotlyJS.jl/)"
   ]
  },
  {
   "cell_type": "code",
   "execution_count": null,
   "metadata": {
    "slideshow": {
     "slide_type": "fragment"
    }
   },
   "outputs": [],
   "source": [
    "function box9()\n",
    "    xData = [\"Carmelo<br>Anthony\", \"Dwyane<br>Wade\", \"Deron<br>Williams\",\n",
    "             \"Brook<br>Lopez\", \"Damian<br>Lillard\", \"David<br>West\",\n",
    "             \"Blake<br>Griffin\", \"David<br>Lee\", \"Demar<br>Derozan\"]\n",
    "\n",
    "    _getrandom(num, mul) = mul .* rand(num)\n",
    "\n",
    "    yData = Array[\n",
    "            _getrandom(30, 10),\n",
    "            _getrandom(30, 20),\n",
    "            _getrandom(30, 25),\n",
    "            _getrandom(30, 40),\n",
    "            _getrandom(30, 45),\n",
    "            _getrandom(30, 30),\n",
    "            _getrandom(30, 20),\n",
    "            _getrandom(30, 15),\n",
    "            _getrandom(30, 43)\n",
    "        ]\n",
    "    colors = [\"rgba(93, 164, 214, 0.5)\", \"rgba(255, 144, 14, 0.5)\",\n",
    "              \"rgba(44, 160, 101, 0.5)\", \"rgba(255, 65, 54, 0.5)\",\n",
    "              \"rgba(207, 114, 255, 0.5)\", \"rgba(127, 96, 0, 0.5)\",\n",
    "              \"rgba(255, 140, 184, 0.5)\", \"rgba(79, 90, 117, 0.5)\",\n",
    "              \"rgba(222, 223, 0, 0.5)\"]\n",
    "\n",
    "    data = GenericTrace[]\n",
    "    for i in 1:length(xData)\n",
    "        trace = box(;y=yData[i],\n",
    "                     name=xData[i],\n",
    "                     boxpoints=\"all\",\n",
    "                     jitter=0.5,\n",
    "                     whiskerwidth=0.2,\n",
    "                     fillcolor=\"cls\",\n",
    "                     marker_size=2,\n",
    "                     line_width=1)\n",
    "        push!(data, trace)\n",
    "    end\n",
    "\n",
    "    t = \"Points Scored by the Top 9 Scoring NBA Players in 2012 (fake data)\"\n",
    "    layout = Layout(;title=t,\n",
    "                     yaxis=attr(autorange=true, showgrid=true, zeroline=true,\n",
    "                                dtick=5, gridcolor=\"rgb(255, 255, 255)\",\n",
    "                                gridwidth=1,\n",
    "                                zerolinecolor=\"rgb(255, 255, 255)\",\n",
    "                                zerolinewidth=2),\n",
    "                     margin=attr(l=40, r=30, b=80, t=100),\n",
    "                     paper_bgcolor=\"rgb(243, 243, 243)\",\n",
    "                     plot_bgcolor=\"rgb(243, 243, 243)\",\n",
    "                     showlegend=false)\n",
    "    plot(data, layout)\n",
    "end\n",
    "box9()"
   ]
  },
  {
   "cell_type": "code",
   "execution_count": null,
   "metadata": {
    "slideshow": {
     "slide_type": "fragment"
    }
   },
   "outputs": [],
   "source": [
    "# Pkg.add(\"Interact\")\n",
    "using Interact"
   ]
  },
  {
   "cell_type": "code",
   "execution_count": null,
   "metadata": {},
   "outputs": [],
   "source": [
    "t = linspace(-π, π, 300)\n",
    "p = plot(t, [cos.(t) sin.(t)], line_width=3, Layout(yaxis_range=(-5, 5)))\n",
    "display(p)\n",
    "@manipulate for A in 0.1:0.1:5.0, f in 1.0:1.0:10.0, φ in 0:0.1:10, color1 in [:red, :pink, :orange]\n",
    "    new_y1 = A .* cos.(2π .* f .* t .+ φ)\n",
    "    new_y2 = A .* sin.(2π .* f .* t .+ φ)\n",
    "    restyle!(p, y=(new_y1, new_y2))\n",
    "    # only change color of second line (the sin one)\n",
    "    restyle!(p, marker_color=color1, 2)\n",
    "end\n",
    "    "
   ]
  },
  {
   "cell_type": "code",
   "execution_count": null,
   "metadata": {
    "slideshow": {
     "slide_type": "fragment"
    }
   },
   "outputs": [],
   "source": [
    "function batman()\n",
    "    # reference: https://github.com/alanedelman/18.337_2015/blob/master/Lecture01_0909/The%20Bat%20Curve.ipynb\n",
    "    σ(x) = √(1-x.^2)\n",
    "    el(x) = 3*σ(x/7)\n",
    "    s(x) = 4.2 - 0.5*x - 2.0*σ(0.5*x-0.5)\n",
    "    b(x) = σ(abs(2-x)-1) - x.^2/11 + 0.5x - 3\n",
    "    c(x) = [1.7, 1.7, 2.6, 0.9]\n",
    "\n",
    "    p(i, f; kwargs...) = scatter(;x=[-i; 0.0; i], y=[f(i); NaN; f(i)],\n",
    "                                  marker_color=\"black\", showlegend=false,\n",
    "                                  kwargs...)\n",
    "    traces = vcat(p(3:0.1:7, el; name=\"wings 1\"),\n",
    "                  p(4:0.1:7, t->-el(t); name=\"wings 2\"),\n",
    "                  p(1:0.1:3, s; name=\"Shoulders\"),\n",
    "                  p(0:0.1:4, b; name=\"Bottom\"),\n",
    "                  p([0, 0.5, 0.8, 1], c; name=\"head\"))\n",
    "\n",
    "    plot(traces, Layout(title=\"Batman\"))\n",
    "end\n",
    "batman()"
   ]
  },
  {
   "cell_type": "code",
   "execution_count": null,
   "metadata": {
    "slideshow": {
     "slide_type": "fragment"
    }
   },
   "outputs": [],
   "source": [
    "use_style!(:tomorrow_night_eighties)\n",
    "plot([sin, cos, sinc], -4, 4)"
   ]
  },
  {
   "cell_type": "code",
   "execution_count": null,
   "metadata": {
    "slideshow": {
     "slide_type": "fragment"
    }
   },
   "outputs": [],
   "source": [
    "plot([sin, cos, sinc], -4, 4, style=style(:ggplot))"
   ]
  },
  {
   "cell_type": "code",
   "execution_count": null,
   "metadata": {
    "collapsed": true
   },
   "outputs": [],
   "source": []
  }
 ],
 "metadata": {
  "kernelspec": {
   "display_name": "Julia 0.5.2",
   "language": "julia",
   "name": "julia-0.5"
  },
  "language_info": {
   "file_extension": ".jl",
   "mimetype": "application/julia",
   "name": "julia",
   "version": "0.5.2"
  },
  "livereveal": {
   "scroll": true,
   "start_slideshow_at": "selected",
   "theme": "white",
   "transition": "fade"
  }
 },
 "nbformat": 4,
 "nbformat_minor": 2
}
