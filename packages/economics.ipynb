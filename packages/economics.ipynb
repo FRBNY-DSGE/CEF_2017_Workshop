{
 "cells": [
  {
   "cell_type": "markdown",
   "metadata": {
    "collapsed": true,
    "slideshow": {
     "slide_type": "slide"
    }
   },
   "source": [
    "# Economics-specific packages\n",
    "\n",
    "** @ CEF 2017** \n",
    "\n",
    "**Authors**: Chase Coleman and Spencer Lyon\n",
    "\n",
    "**Date**: 27 June 2017"
   ]
  },
  {
   "cell_type": "markdown",
   "metadata": {},
   "source": [
    "There are a handful of economics specific Julia packages.\n",
    "\n",
    "We'll talk about QuantEcon.jl here, let Pearl talk about DSGE.jl next, and save Dolo.jl for tomorrow's talk."
   ]
  },
  {
   "cell_type": "markdown",
   "metadata": {
    "slideshow": {
     "slide_type": "subslide"
    }
   },
   "source": [
    "## QuantEcon.jl\n",
    "\n",
    "What is QuantEcon?\n",
    "\n",
    "- Set of [lectures](https://lectures.quantecon.org/) by Tom Sargent and John Stachurski to teach computational economics and programming principles\n",
    "- A [community](http://discourse.quantecon.org) aimed at teaching best practices and encouraging collaboration\n",
    "- A set of software libraries in [Python](https://quantecon.org/quantecon-py) and [Julia](https://quantecon.org/quantecon-jl) that implement common numerical routines used in economic research\n",
    "- [QuantEcon.jl](https://github.com/QuantEcon/QuantEcon.jl) is the Julia version of the software library"
   ]
  },
  {
   "cell_type": "code",
   "execution_count": 1,
   "metadata": {
    "collapsed": true
   },
   "outputs": [],
   "source": [
    "# Pkg.add(\"QuantEcon\")"
   ]
  },
  {
   "cell_type": "markdown",
   "metadata": {
    "slideshow": {
     "slide_type": "subslide"
    }
   },
   "source": [
    "### QuantEcon.jl Basics"
   ]
  },
  {
   "cell_type": "code",
   "execution_count": 2,
   "metadata": {
    "collapsed": true
   },
   "outputs": [],
   "source": [
    "using QuantEcon"
   ]
  },
  {
   "cell_type": "markdown",
   "metadata": {
    "slideshow": {
     "slide_type": "subslide"
    }
   },
   "source": [
    "#### Markov Chains\n",
    "\n",
    "QuantEcon.jl has rich support for working with discrete state MarkovChains"
   ]
  },
  {
   "cell_type": "code",
   "execution_count": 3,
   "metadata": {},
   "outputs": [
    {
     "data": {
      "text/plain": [
       "Discrete Markov Chain\n",
       "stochastic matrix of type Array{Float64,2}:\n",
       "[0.9 0.1; 0.2 0.8]"
      ]
     },
     "execution_count": 3,
     "metadata": {},
     "output_type": "execute_result"
    }
   ],
   "source": [
    "mc = MarkovChain([0.9 0.1; 0.2 0.8])"
   ]
  },
  {
   "cell_type": "code",
   "execution_count": 4,
   "metadata": {},
   "outputs": [
    {
     "data": {
      "text/plain": [
       "1-element Array{Array{Float64,1},1}:\n",
       " [0.666667, 0.333333]"
      ]
     },
     "execution_count": 4,
     "metadata": {},
     "output_type": "execute_result"
    }
   ],
   "source": [
    "stationary_distributions(mc)"
   ]
  },
  {
   "cell_type": "code",
   "execution_count": 5,
   "metadata": {
    "slideshow": {
     "slide_type": "fragment"
    }
   },
   "outputs": [
    {
     "name": "stdout",
     "output_type": "stream",
     "text": [
      "search: \u001b[1ms\u001b[22m\u001b[1mi\u001b[22m\u001b[1mm\u001b[22m\u001b[1mu\u001b[22m\u001b[1ml\u001b[22m\u001b[1ma\u001b[22m\u001b[1mt\u001b[22m\u001b[1me\u001b[22m \u001b[1ms\u001b[22m\u001b[1mi\u001b[22m\u001b[1mm\u001b[22m\u001b[1mu\u001b[22m\u001b[1ml\u001b[22m\u001b[1ma\u001b[22m\u001b[1mt\u001b[22m\u001b[1me\u001b[22m! \u001b[1ms\u001b[22m\u001b[1mi\u001b[22m\u001b[1mm\u001b[22m\u001b[1mu\u001b[22m\u001b[1ml\u001b[22m\u001b[1ma\u001b[22m\u001b[1mt\u001b[22m\u001b[1me\u001b[22m_indices \u001b[1ms\u001b[22m\u001b[1mi\u001b[22m\u001b[1mm\u001b[22m\u001b[1mu\u001b[22m\u001b[1ml\u001b[22m\u001b[1ma\u001b[22m\u001b[1mt\u001b[22m\u001b[1me\u001b[22m_indices! \u001b[1ms\u001b[22m\u001b[1mi\u001b[22m\u001b[1mm\u001b[22m\u001b[1mu\u001b[22m\u001b[1ml\u001b[22m\u001b[1ma\u001b[22m\u001b[1mt\u001b[22mion\n",
      "\n"
     ]
    },
    {
     "data": {
      "text/markdown": [
       "Simulate one sample path of the Markov chain `mc`. The resulting vector has the state values of `mc` as elements.\n",
       "\n",
       "### Arguments\n",
       "\n",
       "  * `mc::MarkovChain` : MarkovChain instance.\n",
       "  * `ts_length::Int` : Length of simulation\n",
       "  * `;init::Int=rand(1:n_states(mc))` : Initial state\n",
       "\n",
       "### Returns\n",
       "\n",
       "  * `X::Vector` : Vector containing the sample path, with length\n",
       "\n",
       "ts_length\n"
      ],
      "text/plain": [
       "Simulate one sample path of the Markov chain `mc`. The resulting vector has the state values of `mc` as elements.\n",
       "\n",
       "### Arguments\n",
       "\n",
       "  * `mc::MarkovChain` : MarkovChain instance.\n",
       "  * `ts_length::Int` : Length of simulation\n",
       "  * `;init::Int=rand(1:n_states(mc))` : Initial state\n",
       "\n",
       "### Returns\n",
       "\n",
       "  * `X::Vector` : Vector containing the sample path, with length\n",
       "\n",
       "ts_length\n"
      ]
     },
     "execution_count": 5,
     "metadata": {},
     "output_type": "execute_result"
    }
   ],
   "source": [
    "?simulate"
   ]
  },
  {
   "cell_type": "code",
   "execution_count": 6,
   "metadata": {},
   "outputs": [
    {
     "data": {
      "text/html": [
       "1.3312"
      ],
      "text/plain": [
       "1.3312"
      ]
     },
     "execution_count": 6,
     "metadata": {},
     "output_type": "execute_result"
    }
   ],
   "source": [
    "mean(simulate(mc, 10000))  # should be roughly 2/3*1 + 1/3*2 = 4/3"
   ]
  },
  {
   "cell_type": "code",
   "execution_count": 7,
   "metadata": {
    "slideshow": {
     "slide_type": "subslide"
    }
   },
   "outputs": [
    {
     "data": {
      "text/plain": [
       "Discrete Markov Chain\n",
       "stochastic matrix of type Array{Float64,2}:\n",
       "[0.9 0.1; 0.2 0.8]"
      ]
     },
     "execution_count": 7,
     "metadata": {},
     "output_type": "execute_result"
    }
   ],
   "source": [
    "# can also pass state_values as second argument\n",
    "mc2 = MarkovChain(\n",
    "    mc.p,  # re-use transition matrix\n",
    "    [0.0, 42.0]\n",
    ")"
   ]
  },
  {
   "cell_type": "code",
   "execution_count": 8,
   "metadata": {},
   "outputs": [
    {
     "data": {
      "text/html": [
       "13.91544"
      ],
      "text/plain": [
       "13.91544"
      ]
     },
     "execution_count": 8,
     "metadata": {},
     "output_type": "execute_result"
    }
   ],
   "source": [
    "mean(simulate(mc2, 100000)) # should be roughly 2/3*0 + 1/3*42 = 14"
   ]
  },
  {
   "cell_type": "code",
   "execution_count": 9,
   "metadata": {},
   "outputs": [
    {
     "data": {
      "text/plain": [
       "10-element Array{Int64,1}:\n",
       " 2\n",
       " 2\n",
       " 2\n",
       " 2\n",
       " 1\n",
       " 1\n",
       " 1\n",
       " 1\n",
       " 1\n",
       " 1"
      ]
     },
     "execution_count": 9,
     "metadata": {},
     "output_type": "execute_result"
    }
   ],
   "source": [
    "# can also simulate the indices\n",
    "simulate_indices(mc2, 10, init=2)"
   ]
  },
  {
   "cell_type": "code",
   "execution_count": 10,
   "metadata": {
    "slideshow": {
     "slide_type": "subslide"
    }
   },
   "outputs": [
    {
     "data": {
      "text/plain": [
       "500×10 Array{Float64,2}:\n",
       " 42.0  42.0  42.0  42.0  42.0  42.0  42.0  42.0  42.0  42.0\n",
       " 42.0  42.0  42.0  42.0  42.0   0.0   0.0  42.0  42.0  42.0\n",
       " 42.0  42.0  42.0  42.0   0.0   0.0   0.0   0.0  42.0  42.0\n",
       " 42.0  42.0  42.0  42.0   0.0   0.0   0.0   0.0   0.0  42.0\n",
       " 42.0   0.0  42.0  42.0   0.0   0.0   0.0   0.0   0.0  42.0\n",
       " 42.0   0.0  42.0  42.0   0.0   0.0   0.0   0.0   0.0  42.0\n",
       " 42.0   0.0  42.0  42.0   0.0   0.0   0.0   0.0   0.0  42.0\n",
       " 42.0   0.0  42.0  42.0   0.0   0.0   0.0   0.0   0.0   0.0\n",
       " 42.0  42.0  42.0  42.0   0.0   0.0   0.0   0.0   0.0   0.0\n",
       " 42.0  42.0  42.0   0.0   0.0   0.0   0.0   0.0   0.0   0.0\n",
       " 42.0  42.0  42.0   0.0   0.0   0.0   0.0   0.0   0.0   0.0\n",
       " 42.0  42.0  42.0  42.0   0.0   0.0   0.0   0.0   0.0   0.0\n",
       " 42.0  42.0  42.0  42.0   0.0  42.0   0.0   0.0   0.0   0.0\n",
       "  ⋮                             ⋮                          \n",
       "  0.0   0.0   0.0   0.0   0.0   0.0   0.0  42.0  42.0  42.0\n",
       "  0.0   0.0   0.0   0.0   0.0   0.0   0.0  42.0  42.0   0.0\n",
       "  0.0   0.0   0.0   0.0   0.0   0.0   0.0  42.0  42.0   0.0\n",
       "  0.0   0.0   0.0   0.0  42.0   0.0   0.0  42.0  42.0   0.0\n",
       " 42.0   0.0   0.0   0.0   0.0   0.0   0.0  42.0  42.0   0.0\n",
       " 42.0   0.0  42.0   0.0   0.0  42.0   0.0  42.0  42.0   0.0\n",
       " 42.0   0.0  42.0   0.0   0.0  42.0   0.0  42.0  42.0   0.0\n",
       " 42.0   0.0   0.0   0.0   0.0   0.0   0.0   0.0  42.0   0.0\n",
       " 42.0   0.0   0.0   0.0  42.0   0.0   0.0   0.0  42.0   0.0\n",
       " 42.0   0.0   0.0   0.0  42.0  42.0   0.0   0.0  42.0   0.0\n",
       " 42.0   0.0   0.0   0.0  42.0  42.0   0.0   0.0  42.0   0.0\n",
       " 42.0   0.0   0.0   0.0  42.0  42.0   0.0  42.0  42.0   0.0"
      ]
     },
     "execution_count": 10,
     "metadata": {},
     "output_type": "execute_result"
    }
   ],
   "source": [
    "# fill pre-allocated matrix with samples\n",
    "# each column is a time-series\n",
    "out = zeros(500, 10)\n",
    "simulate!(out, mc2, init=2)\n",
    "out"
   ]
  },
  {
   "cell_type": "code",
   "execution_count": 11,
   "metadata": {
    "slideshow": {
     "slide_type": "fragment"
    }
   },
   "outputs": [
    {
     "data": {
      "text/plain": [
       "500×10 Array{Int64,2}:\n",
       " 2  2  2  2  2  2  2  2  2  2\n",
       " 2  1  1  2  2  1  2  1  2  2\n",
       " 2  2  2  2  2  2  1  1  2  2\n",
       " 1  2  2  2  2  2  1  1  2  2\n",
       " 1  2  2  2  2  2  1  1  2  2\n",
       " 2  2  2  2  2  2  1  1  2  2\n",
       " 2  1  2  2  2  2  1  1  2  2\n",
       " 1  1  2  2  2  2  1  1  2  2\n",
       " 1  1  2  1  2  1  1  1  1  2\n",
       " 1  1  2  1  1  1  1  2  1  1\n",
       " 1  1  2  2  1  1  1  2  2  1\n",
       " 1  1  2  1  1  1  1  2  2  1\n",
       " 1  1  1  1  1  1  1  1  2  1\n",
       " ⋮              ⋮            \n",
       " 1  1  2  1  1  2  1  2  1  2\n",
       " 1  1  2  1  2  2  1  2  2  2\n",
       " 1  1  2  1  2  1  2  2  2  2\n",
       " 2  1  2  1  1  1  2  2  2  1\n",
       " 2  2  1  2  1  1  2  1  2  1\n",
       " 2  2  1  2  1  1  1  1  2  1\n",
       " 1  2  1  2  1  1  1  1  2  1\n",
       " 2  2  1  2  1  1  1  1  2  1\n",
       " 2  1  1  2  1  2  2  1  2  1\n",
       " 2  1  1  2  1  2  2  1  2  2\n",
       " 2  1  1  1  1  2  2  1  2  2\n",
       " 2  1  1  1  1  2  1  1  2  2"
      ]
     },
     "execution_count": 11,
     "metadata": {},
     "output_type": "execute_result"
    }
   ],
   "source": [
    "# same with indices\n",
    "out_inds = zeros(Int, 500, 10)\n",
    "simulate_indices!(out_inds, mc2, init=2)\n",
    "out_inds"
   ]
  },
  {
   "cell_type": "code",
   "execution_count": 12,
   "metadata": {
    "slideshow": {
     "slide_type": "fragment"
    }
   },
   "outputs": [
    {
     "data": {
      "text/html": [
       "10-element Array{Method,1}:<ul><li> period(mc::<b>QuantEcon.MarkovChain</b>) at <a href=\"https://github.com/QuantEcon/QuantEcon.jl/tree/5ea70a3762485cf54f4d9e65872a1300fa86eafb//src/markov/mc_tools.jl#L224\" target=\"_blank\">/home/chase/.julia/v0.6/QuantEcon/src/markov/mc_tools.jl:224</a><li> communication_classes(mc::<b>QuantEcon.MarkovChain</b>) at <a href=\"https://github.com/QuantEcon/QuantEcon.jl/tree/5ea70a3762485cf54f4d9e65872a1300fa86eafb//src/markov/mc_tools.jl#L181\" target=\"_blank\">/home/chase/.julia/v0.6/QuantEcon/src/markov/mc_tools.jl:181</a><li> is_aperiodic(mc::<b>QuantEcon.MarkovChain</b>) at <a href=\"https://github.com/QuantEcon/QuantEcon.jl/tree/5ea70a3762485cf54f4d9e65872a1300fa86eafb//src/markov/mc_tools.jl#L209\" target=\"_blank\">/home/chase/.julia/v0.6/QuantEcon/src/markov/mc_tools.jl:209</a><li> is_irreducible(mc::<b>QuantEcon.MarkovChain</b>) at <a href=\"https://github.com/QuantEcon/QuantEcon.jl/tree/5ea70a3762485cf54f4d9e65872a1300fa86eafb//src/markov/mc_tools.jl#L195\" target=\"_blank\">/home/chase/.julia/v0.6/QuantEcon/src/markov/mc_tools.jl:195</a><li> n_states(mc::<b>QuantEcon.MarkovChain</b>) at <a href=\"https://github.com/QuantEcon/QuantEcon.jl/tree/5ea70a3762485cf54f4d9e65872a1300fa86eafb//src/markov/mc_tools.jl#L65\" target=\"_blank\">/home/chase/.julia/v0.6/QuantEcon/src/markov/mc_tools.jl:65</a><li> recurrent_classes(mc::<b>QuantEcon.MarkovChain</b>) at <a href=\"https://github.com/QuantEcon/QuantEcon.jl/tree/5ea70a3762485cf54f4d9e65872a1300fa86eafb//src/markov/mc_tools.jl#L166\" target=\"_blank\">/home/chase/.julia/v0.6/QuantEcon/src/markov/mc_tools.jl:166</a><li> simulate(mc::<b>QuantEcon.MarkovChain</b>, ts_length::<b>Int64</b>) at <a href=\"https://github.com/QuantEcon/QuantEcon.jl/tree/5ea70a3762485cf54f4d9e65872a1300fa86eafb//src/markov/mc_tools.jl#L364\" target=\"_blank\">/home/chase/.julia/v0.6/QuantEcon/src/markov/mc_tools.jl:364</a><li> simulate!(X::<b>Union{AbstractArray{T,1} where T, AbstractArray{T,2} where T}</b>, mc::<b>QuantEcon.MarkovChain</b>) at <a href=\"https://github.com/QuantEcon/QuantEcon.jl/tree/5ea70a3762485cf54f4d9e65872a1300fa86eafb//src/markov/mc_tools.jl#L389\" target=\"_blank\">/home/chase/.julia/v0.6/QuantEcon/src/markov/mc_tools.jl:389</a><li> simulate_indices(mc::<b>QuantEcon.MarkovChain</b>, ts_length::<b>Int64</b>) at <a href=\"https://github.com/QuantEcon/QuantEcon.jl/tree/5ea70a3762485cf54f4d9e65872a1300fa86eafb//src/markov/mc_tools.jl#L419\" target=\"_blank\">/home/chase/.julia/v0.6/QuantEcon/src/markov/mc_tools.jl:419</a><li> simulate_indices!<i>{T<:Integer}</i>(X::<b>Union{AbstractArray{T,1}, AbstractArray{T,2}}</b>, mc::<b>QuantEcon.MarkovChain</b>) at <a href=\"https://github.com/QuantEcon/QuantEcon.jl/tree/5ea70a3762485cf54f4d9e65872a1300fa86eafb//src/markov/mc_tools.jl#L442\" target=\"_blank\">/home/chase/.julia/v0.6/QuantEcon/src/markov/mc_tools.jl:442</a></ul>"
      ],
      "text/plain": [
       "10-element Array{Method,1}:\n",
       " period(mc::QuantEcon.MarkovChain) in QuantEcon at /home/chase/.julia/v0.6/QuantEcon/src/markov/mc_tools.jl:224                                                                              \n",
       " communication_classes(mc::QuantEcon.MarkovChain) in QuantEcon at /home/chase/.julia/v0.6/QuantEcon/src/markov/mc_tools.jl:181                                                               \n",
       " is_aperiodic(mc::QuantEcon.MarkovChain) in QuantEcon at /home/chase/.julia/v0.6/QuantEcon/src/markov/mc_tools.jl:209                                                                        \n",
       " is_irreducible(mc::QuantEcon.MarkovChain) in QuantEcon at /home/chase/.julia/v0.6/QuantEcon/src/markov/mc_tools.jl:195                                                                      \n",
       " n_states(mc::QuantEcon.MarkovChain) in QuantEcon at /home/chase/.julia/v0.6/QuantEcon/src/markov/mc_tools.jl:65                                                                             \n",
       " recurrent_classes(mc::QuantEcon.MarkovChain) in QuantEcon at /home/chase/.julia/v0.6/QuantEcon/src/markov/mc_tools.jl:166                                                                   \n",
       " simulate(mc::QuantEcon.MarkovChain, ts_length::Int64) in QuantEcon at /home/chase/.julia/v0.6/QuantEcon/src/markov/mc_tools.jl:364                                                          \n",
       " simulate!(X::Union{AbstractArray{T,1} where T, AbstractArray{T,2} where T}, mc::QuantEcon.MarkovChain) in QuantEcon at /home/chase/.julia/v0.6/QuantEcon/src/markov/mc_tools.jl:389         \n",
       " simulate_indices(mc::QuantEcon.MarkovChain, ts_length::Int64) in QuantEcon at /home/chase/.julia/v0.6/QuantEcon/src/markov/mc_tools.jl:419                                                  \n",
       " simulate_indices!(X::Union{AbstractArray{T,1}, AbstractArray{T,2}}, mc::QuantEcon.MarkovChain) where T<:Integer in QuantEcon at /home/chase/.julia/v0.6/QuantEcon/src/markov/mc_tools.jl:442"
      ]
     },
     "execution_count": 12,
     "metadata": {},
     "output_type": "execute_result"
    }
   ],
   "source": [
    "# other things we can do with MarkovChains\n",
    "methodswith(MarkovChain)"
   ]
  },
  {
   "cell_type": "markdown",
   "metadata": {
    "slideshow": {
     "slide_type": "subslide"
    }
   },
   "source": [
    "#### Discretizing AR(1) process\n",
    "\n",
    "QuantEcon.jl provides two methods for discretizing an AR(1) process into an instance of MarkovChain:\n"
   ]
  },
  {
   "cell_type": "code",
   "execution_count": 13,
   "metadata": {
    "slideshow": {
     "slide_type": "fragment"
    }
   },
   "outputs": [
    {
     "name": "stdout",
     "output_type": "stream",
     "text": [
      "search: \u001b[1mt\u001b[22m\u001b[1ma\u001b[22m\u001b[1mu\u001b[22m\u001b[1mc\u001b[22m\u001b[1mh\u001b[22m\u001b[1me\u001b[22m\u001b[1mn\u001b[22m\n",
      "\n"
     ]
    },
    {
     "data": {
      "text/markdown": [
       "Tauchen's (1996) method for approximating AR(1) process with finite markov chain\n",
       "\n",
       "The process follows\n",
       "\n",
       "```\n",
       "y_t = μ + ρ y_{t-1} + ε_t,\n",
       "```\n",
       "\n",
       "where ε_t ~ N (0, σ^2)\n",
       "\n",
       "##### Arguments\n",
       "\n",
       "  * `N::Integer`: Number of points in markov process\n",
       "  * `ρ::Real` : Persistence parameter in AR(1) process\n",
       "  * `σ::Real` : Standard deviation of random component of AR(1) process\n",
       "  * `μ::Real(0.0)` : Mean of AR(1) process\n",
       "  * `n_std::Integer(3)` : The number of standard deviations to each side the process\n",
       "\n",
       "should span\n",
       "\n",
       "##### Returns\n",
       "\n",
       "  * `mc::MarkovChain{Float64}` : Markov chain holding the state values and\n",
       "\n",
       "transition matrix\n"
      ],
      "text/plain": [
       "Tauchen's (1996) method for approximating AR(1) process with finite markov chain\n",
       "\n",
       "The process follows\n",
       "\n",
       "```\n",
       "y_t = μ + ρ y_{t-1} + ε_t,\n",
       "```\n",
       "\n",
       "where ε_t ~ N (0, σ^2)\n",
       "\n",
       "##### Arguments\n",
       "\n",
       "  * `N::Integer`: Number of points in markov process\n",
       "  * `ρ::Real` : Persistence parameter in AR(1) process\n",
       "  * `σ::Real` : Standard deviation of random component of AR(1) process\n",
       "  * `μ::Real(0.0)` : Mean of AR(1) process\n",
       "  * `n_std::Integer(3)` : The number of standard deviations to each side the process\n",
       "\n",
       "should span\n",
       "\n",
       "##### Returns\n",
       "\n",
       "  * `mc::MarkovChain{Float64}` : Markov chain holding the state values and\n",
       "\n",
       "transition matrix\n"
      ]
     },
     "execution_count": 13,
     "metadata": {},
     "output_type": "execute_result"
    }
   ],
   "source": [
    "?tauchen"
   ]
  },
  {
   "cell_type": "code",
   "execution_count": 14,
   "metadata": {},
   "outputs": [
    {
     "name": "stdout",
     "output_type": "stream",
     "text": [
      "search: \u001b[1mr\u001b[22m\u001b[1mo\u001b[22m\u001b[1mu\u001b[22m\u001b[1mw\u001b[22m\u001b[1me\u001b[22m\u001b[1mn\u001b[22m\u001b[1mh\u001b[22m\u001b[1mo\u001b[22m\u001b[1mr\u001b[22m\u001b[1ms\u001b[22m\u001b[1mt\u001b[22m\n",
      "\n"
     ]
    },
    {
     "data": {
      "text/markdown": [
       "Rouwenhorst's method to approximate AR(1) processes.\n",
       "\n",
       "The process follows\n",
       "\n",
       "```\n",
       "y_t = μ + ρ y_{t-1} + ε_t,\n",
       "```\n",
       "\n",
       "where ε_t ~ N (0, σ^2)\n",
       "\n",
       "##### Arguments\n",
       "\n",
       "  * `N::Integer` : Number of points in markov process\n",
       "  * `ρ::Real` : Persistence parameter in AR(1) process\n",
       "  * `σ::Real` : Standard deviation of random component of AR(1) process\n",
       "  * `μ::Real(0.0)` :  Mean of AR(1) process\n",
       "\n",
       "##### Returns\n",
       "\n",
       "  * `mc::MarkovChain{Float64}` : Markov chain holding the state values and\n",
       "\n",
       "transition matrix\n"
      ],
      "text/plain": [
       "Rouwenhorst's method to approximate AR(1) processes.\n",
       "\n",
       "The process follows\n",
       "\n",
       "```\n",
       "y_t = μ + ρ y_{t-1} + ε_t,\n",
       "```\n",
       "\n",
       "where ε_t ~ N (0, σ^2)\n",
       "\n",
       "##### Arguments\n",
       "\n",
       "  * `N::Integer` : Number of points in markov process\n",
       "  * `ρ::Real` : Persistence parameter in AR(1) process\n",
       "  * `σ::Real` : Standard deviation of random component of AR(1) process\n",
       "  * `μ::Real(0.0)` :  Mean of AR(1) process\n",
       "\n",
       "##### Returns\n",
       "\n",
       "  * `mc::MarkovChain{Float64}` : Markov chain holding the state values and\n",
       "\n",
       "transition matrix\n"
      ]
     },
     "execution_count": 14,
     "metadata": {},
     "output_type": "execute_result"
    }
   ],
   "source": [
    "?rouwenhorst"
   ]
  },
  {
   "cell_type": "code",
   "execution_count": 15,
   "metadata": {
    "slideshow": {
     "slide_type": "fragment"
    }
   },
   "outputs": [
    {
     "name": "stdout",
     "output_type": "stream",
     "text": [
      "stationary_distributions(mc3) = Array{Float64,1}[[0.00195312, 0.0175781, 0.0703125, 0.164063, 0.246094, 0.246094, 0.164062, 0.0703125, 0.0175781, 0.00195312]]\n",
      "mc3.state_values = -3.6076892283052313:2.1350420507344947:15.60768922830522\n"
     ]
    },
    {
     "data": {
      "text/plain": [
       "20-element Array{Float64,1}:\n",
       " 2.79744\n",
       " 4.93248\n",
       " 7.06752\n",
       " 7.06752\n",
       " 7.06752\n",
       " 7.06752\n",
       " 7.06752\n",
       " 7.06752\n",
       " 4.93248\n",
       " 4.93248\n",
       " 4.93248\n",
       " 4.93248\n",
       " 4.93248\n",
       " 4.93248\n",
       " 4.93248\n",
       " 4.93248\n",
       " 4.93248\n",
       " 4.93248\n",
       " 4.93248\n",
       " 4.93248"
      ]
     },
     "execution_count": 15,
     "metadata": {},
     "output_type": "execute_result"
    }
   ],
   "source": [
    "mc3 = rouwenhorst(10, 0.95, 1.0, 0.3)\n",
    "@show stationary_distributions(mc3)\n",
    "@show mc3.state_values\n",
    "simulate(mc3, 20)"
   ]
  },
  {
   "cell_type": "markdown",
   "metadata": {
    "slideshow": {
     "slide_type": "subslide"
    }
   },
   "source": [
    "#### Quadrature routines\n",
    "\n",
    "QuantEcon.jl has the family of Quadrature routines written by Miranda and Fackler in CompEcon as well as others used by Maliar, Maliar, and Judd"
   ]
  },
  {
   "cell_type": "code",
   "execution_count": 16,
   "metadata": {
    "slideshow": {
     "slide_type": "fragment"
    }
   },
   "outputs": [
    {
     "data": {
      "text/plain": [
       "12-element Array{Symbol,1}:\n",
       " :qnwbeta     \n",
       " :qnwcheb     \n",
       " :qnwequi     \n",
       " :qnwgamma    \n",
       " :qnwlege     \n",
       " :qnwlogn     \n",
       " :qnwmonomial1\n",
       " :qnwmonomial2\n",
       " :qnwnorm     \n",
       " :qnwsimp     \n",
       " :qnwtrap     \n",
       " :qnwunif     "
      ]
     },
     "execution_count": 16,
     "metadata": {},
     "output_type": "execute_result"
    }
   ],
   "source": [
    "filter(x -> startswith(string(x), \"qnw\"), names(QuantEcon))"
   ]
  },
  {
   "cell_type": "code",
   "execution_count": 17,
   "metadata": {},
   "outputs": [
    {
     "name": "stdout",
     "output_type": "stream",
     "text": [
      "search: \u001b[1mq\u001b[22m\u001b[1mn\u001b[22m\u001b[1mw\u001b[22m\u001b[1mn\u001b[22m\u001b[1mo\u001b[22m\u001b[1mr\u001b[22m\u001b[1mm\u001b[22m \u001b[1mq\u001b[22m\u001b[1mn\u001b[22m\u001b[1mw\u001b[22mmo\u001b[1mn\u001b[22m\u001b[1mo\u001b[22mmial2 \u001b[1mq\u001b[22m\u001b[1mn\u001b[22m\u001b[1mw\u001b[22mmo\u001b[1mn\u001b[22m\u001b[1mo\u001b[22mmial1\n",
      "\n"
     ]
    },
    {
     "data": {
      "text/markdown": [
       "Computes nodes and weights for multivariate normal distribution\n",
       "\n",
       "##### Arguments\n",
       "\n",
       "  * `n::Union{Int, Vector{Int}}` : Number of desired nodes along each dimension\n",
       "  * `mu::Union{Real, Vector{Real}}` : Mean along each dimension\n",
       "  * `sig2::Union{Real, Vector{Real}, Matrix{Real}}(eye(length(n)))` : Covariance\n",
       "\n",
       "structure\n",
       "\n",
       "##### Returns\n",
       "\n",
       "  * `nodes::Array{Float64}` : An array of quadrature nodes\n",
       "  * `weights::Array{Float64}` : An array of corresponding quadrature weights\n",
       "\n",
       "##### Notes\n",
       "\n",
       "This function has many methods. I try to describe them here.\n",
       "\n",
       "`n` or `mu` can be a vector or a scalar. If just one is a scalar the other is repeated to match the length of the other. If both are scalars, then the number of repeats is inferred from `sig2`.\n",
       "\n",
       "`sig2` can be a matrix, vector or scalar. If it is a matrix, it is treated as the covariance matrix. If it is a vector, it is considered the diagonal of a diagonal covariance matrix. If it is a scalar it is repeated along the diagonal as many times as necessary, where the number of repeats is determined by the length of either n and/or mu (which ever is a vector).\n",
       "\n",
       "If all 3 are scalars, then 1d nodes are computed. `mu` and `sig2` are treated as the mean and variance of a 1d normal distribution\n",
       "\n",
       "##### References\n",
       "\n",
       "Miranda, Mario J, and Paul L Fackler. Applied Computational Economics and Finance, MIT Press, 2002.\n"
      ],
      "text/plain": [
       "Computes nodes and weights for multivariate normal distribution\n",
       "\n",
       "##### Arguments\n",
       "\n",
       "  * `n::Union{Int, Vector{Int}}` : Number of desired nodes along each dimension\n",
       "  * `mu::Union{Real, Vector{Real}}` : Mean along each dimension\n",
       "  * `sig2::Union{Real, Vector{Real}, Matrix{Real}}(eye(length(n)))` : Covariance\n",
       "\n",
       "structure\n",
       "\n",
       "##### Returns\n",
       "\n",
       "  * `nodes::Array{Float64}` : An array of quadrature nodes\n",
       "  * `weights::Array{Float64}` : An array of corresponding quadrature weights\n",
       "\n",
       "##### Notes\n",
       "\n",
       "This function has many methods. I try to describe them here.\n",
       "\n",
       "`n` or `mu` can be a vector or a scalar. If just one is a scalar the other is repeated to match the length of the other. If both are scalars, then the number of repeats is inferred from `sig2`.\n",
       "\n",
       "`sig2` can be a matrix, vector or scalar. If it is a matrix, it is treated as the covariance matrix. If it is a vector, it is considered the diagonal of a diagonal covariance matrix. If it is a scalar it is repeated along the diagonal as many times as necessary, where the number of repeats is determined by the length of either n and/or mu (which ever is a vector).\n",
       "\n",
       "If all 3 are scalars, then 1d nodes are computed. `mu` and `sig2` are treated as the mean and variance of a 1d normal distribution\n",
       "\n",
       "##### References\n",
       "\n",
       "Miranda, Mario J, and Paul L Fackler. Applied Computational Economics and Finance, MIT Press, 2002.\n"
      ]
     },
     "execution_count": 17,
     "metadata": {},
     "output_type": "execute_result"
    }
   ],
   "source": [
    "?qnwnorm"
   ]
  },
  {
   "cell_type": "code",
   "execution_count": 18,
   "metadata": {},
   "outputs": [
    {
     "name": "stdout",
     "output_type": "stream",
     "text": [
      "search: \u001b[1mq\u001b[22m\u001b[1mn\u001b[22m\u001b[1mw\u001b[22m\u001b[1mg\u001b[22m\u001b[1ma\u001b[22m\u001b[1mm\u001b[22m\u001b[1mm\u001b[22m\u001b[1ma\u001b[22m\n",
      "\n"
     ]
    },
    {
     "data": {
      "text/markdown": [
       "Computes nodes and weights for beta distribution\n",
       "\n",
       "##### Arguments\n",
       "\n",
       "  * `n::Union{Int, Vector{Int}}` : Number of desired nodes along each dimension\n",
       "  * `a::Union{Real, Vector{Real}}` : First parameter of the gamma distribution,\n",
       "\n",
       "along each dimension\n",
       "\n",
       "  * `b::Union{Real, Vector{Real}}` : Second parameter of the gamma distribution,\n",
       "\n",
       "along each dimension\n",
       "\n",
       "##### Returns\n",
       "\n",
       "  * `nodes::Array{Float64}` : An array of quadrature nodes\n",
       "  * `weights::Array{Float64}` : An array of corresponding quadrature weights\n",
       "\n",
       "##### Notes\n",
       "\n",
       "If any of the parameters to this function are scalars while others are `Vector`s of length `n`, the the scalar parameter is repeated `n` times.\n",
       "\n",
       "##### References\n",
       "\n",
       "Miranda, Mario J, and Paul L Fackler. Applied Computational Economics and Finance, MIT Press, 2002.\n"
      ],
      "text/plain": [
       "Computes nodes and weights for beta distribution\n",
       "\n",
       "##### Arguments\n",
       "\n",
       "  * `n::Union{Int, Vector{Int}}` : Number of desired nodes along each dimension\n",
       "  * `a::Union{Real, Vector{Real}}` : First parameter of the gamma distribution,\n",
       "\n",
       "along each dimension\n",
       "\n",
       "  * `b::Union{Real, Vector{Real}}` : Second parameter of the gamma distribution,\n",
       "\n",
       "along each dimension\n",
       "\n",
       "##### Returns\n",
       "\n",
       "  * `nodes::Array{Float64}` : An array of quadrature nodes\n",
       "  * `weights::Array{Float64}` : An array of corresponding quadrature weights\n",
       "\n",
       "##### Notes\n",
       "\n",
       "If any of the parameters to this function are scalars while others are `Vector`s of length `n`, the the scalar parameter is repeated `n` times.\n",
       "\n",
       "##### References\n",
       "\n",
       "Miranda, Mario J, and Paul L Fackler. Applied Computational Economics and Finance, MIT Press, 2002.\n"
      ]
     },
     "execution_count": 18,
     "metadata": {},
     "output_type": "execute_result"
    }
   ],
   "source": [
    "?qnwgamma"
   ]
  },
  {
   "cell_type": "markdown",
   "metadata": {
    "slideshow": {
     "slide_type": "subslide"
    }
   },
   "source": [
    "#### Root finding and optimization\n",
    "\n",
    "QuantEcon.jl provides a handful of routines for solving or optimizing univariate functions.\n",
    "\n",
    "The solvers are: `brent` `brenth`, `bisect` and `ridder` "
   ]
  },
  {
   "cell_type": "code",
   "execution_count": 19,
   "metadata": {
    "slideshow": {
     "slide_type": "fragment"
    }
   },
   "outputs": [
    {
     "name": "stdout",
     "output_type": "stream",
     "text": [
      "(solver, solver(f2, 0.5, 2.0)) = (QuantEcon.brent, 1.0000000000001794)\n",
      "(solver, solver(f2, 0.5, 2.0)) = (QuantEcon.brenth, 0.9999999999999903)\n",
      "(solver, solver(f2, 0.5, 2.0)) = (QuantEcon.bisect, 1.0000000000002274)\n",
      "(solver, solver(f2, 0.5, 2.0)) = (QuantEcon.ridder, 1.0000000000005003)\n"
     ]
    }
   ],
   "source": [
    "f2(x) = x^2 - 1\n",
    "for solver in [brent, brenth, bisect, ridder]\n",
    "    @show solver, solver(f2, 0.5, 2.0)\n",
    "end"
   ]
  },
  {
   "cell_type": "markdown",
   "metadata": {},
   "source": [
    "The optimization routine is `golden_method`"
   ]
  },
  {
   "cell_type": "code",
   "execution_count": 20,
   "metadata": {},
   "outputs": [
    {
     "data": {
      "text/plain": [
       "(7.071019315919172e-9, 1.0)"
      ]
     },
     "execution_count": 20,
     "metadata": {},
     "output_type": "execute_result"
    }
   ],
   "source": [
    "# golden_method finds a max, let's find the min of x^2 - 1 between -1 and 1 (which is 0.0)\n",
    "xstar, f2star = golden_method(x -> -f2(x), -1, 1)"
   ]
  },
  {
   "cell_type": "markdown",
   "metadata": {
    "slideshow": {
     "slide_type": "slide"
    }
   },
   "source": [
    "## DSGE.jl\n",
    "\n",
    "This package was written by the FRBNY team and implements the model they use for policy analysis. At this stage DSGE.jl can solve and do forecasting exercises for a few of the FRBNYs models.\n",
    "\n",
    "The library was written in a modular way so as to allow other users to specify their own models in the same format as those included with DSGE.jl and use the solution and forecasting routines implemented by the FRBNY.\n",
    "\n",
    "[Package](https://github.com/FRBNY-DSGE/DSGE.jl) and [Documentation](http://frbny-dsge.github.io/DSGE.jl/latest/)"
   ]
  },
  {
   "cell_type": "markdown",
   "metadata": {
    "slideshow": {
     "slide_type": "slide"
    }
   },
   "source": [
    "## Dolo.jl\n",
    "\n",
    "Dolo is a tool to describe and solve economic models.\n",
    "\n",
    "It provides a simple classification scheme to describe\n",
    "many types of models, allows to write the models as simple\n",
    "text files and compiles these files into efficient Julia\n",
    "objects/functions/methods representing them.\n",
    "\n",
    "It also provides many reference solution algorithms\n",
    "to find the solution of these models under rational expectations.\n",
    "Dolo understand several types of nonlinear models with occasionnally\n",
    "binding constraints (with or without exogenous discrete shocks).\n",
    "\n",
    "Tomorrow evening we will present Dolo more formally in Parallel Sessions C\n",
    "\n",
    "[Package](https://github.com/EconForge/Dolo.jl) and documentation forthcoming (soon)"
   ]
  },
  {
   "cell_type": "code",
   "execution_count": null,
   "metadata": {
    "collapsed": true
   },
   "outputs": [],
   "source": []
  }
 ],
 "metadata": {
  "anaconda-cloud": {},
  "kernelspec": {
   "display_name": "Julia 0.6.0",
   "language": "julia",
   "name": "julia-0.6"
  },
  "language_info": {
   "file_extension": ".jl",
   "mimetype": "application/julia",
   "name": "julia",
   "version": "0.6.0"
  },
  "livereveal": {
   "scroll": true,
   "start_slideshow_at": "selected",
   "theme": "white",
   "transition": "fade"
  }
 },
 "nbformat": 4,
 "nbformat_minor": 2
}
