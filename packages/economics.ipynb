{
 "cells": [
  {
   "cell_type": "markdown",
   "metadata": {
    "collapsed": true,
    "slideshow": {
     "slide_type": "slide"
    }
   },
   "source": [
    "# Economics-specific packages\n",
    "\n",
    "** @ CEF 2017** \n",
    "\n",
    "**Authors**: Chase Coleman and Spencer Lyon\n",
    "\n",
    "**Date**: 27 June 2017"
   ]
  },
  {
   "cell_type": "markdown",
   "metadata": {},
   "source": [
    "There are a handful of economics specific Julia packages.\n",
    "\n",
    "We'll talk about QuantEcon.jl here, let Pearl talk about DSGE.jl next, and save Dolo.jl for tomorrow's talk."
   ]
  },
  {
   "cell_type": "markdown",
   "metadata": {
    "slideshow": {
     "slide_type": "subslide"
    }
   },
   "source": [
    "## QuantEcon.jl\n",
    "\n",
    "What is QuantEcon?\n",
    "\n",
    "- Set of [lectures](https://lectures.quantecon.org/) by Tom Sargent and John Stachurski to teach computational economics and programming principles\n",
    "- A [community](http://discourse.quantecon.org) aimed at teaching best practices and encouraging collaboration\n",
    "- A set of software libraries in [Python](https://quantecon.org/quantecon-py) and [Julia](https://quantecon.org/quantecon-jl) that implement common numerical routines used in economic research\n",
    "- [QuantEcon.jl](https://github.com/QuantEcon/QuantEcon.jl) is the Julia version of the software library"
   ]
  },
  {
   "cell_type": "code",
   "execution_count": null,
   "metadata": {
    "collapsed": true
   },
   "outputs": [],
   "source": [
    "# Pkg.add(\"QuantEcon\")"
   ]
  },
  {
   "cell_type": "markdown",
   "metadata": {
    "slideshow": {
     "slide_type": "subslide"
    }
   },
   "source": [
    "### QuantEcon.jl Basics"
   ]
  },
  {
   "cell_type": "code",
   "execution_count": null,
   "metadata": {},
   "outputs": [],
   "source": [
    "using QuantEcon"
   ]
  },
  {
   "cell_type": "markdown",
   "metadata": {
    "slideshow": {
     "slide_type": "subslide"
    }
   },
   "source": [
    "#### Markov Chains\n",
    "\n",
    "QuantEcon.jl has rich support for working with discrete state MarkovChains"
   ]
  },
  {
   "cell_type": "code",
   "execution_count": null,
   "metadata": {},
   "outputs": [],
   "source": [
    "mc = MarkovChain([0.9 0.1; 0.2 0.8])"
   ]
  },
  {
   "cell_type": "code",
   "execution_count": null,
   "metadata": {},
   "outputs": [],
   "source": [
    "stationary_distributions(mc)"
   ]
  },
  {
   "cell_type": "code",
   "execution_count": null,
   "metadata": {
    "slideshow": {
     "slide_type": "fragment"
    }
   },
   "outputs": [],
   "source": [
    "?simulate"
   ]
  },
  {
   "cell_type": "code",
   "execution_count": null,
   "metadata": {},
   "outputs": [],
   "source": [
    "mean(simulate(mc, 10000))  # should be roughly 2/3*1 + 1/3*2 = 4/3"
   ]
  },
  {
   "cell_type": "code",
   "execution_count": null,
   "metadata": {
    "slideshow": {
     "slide_type": "subslide"
    }
   },
   "outputs": [],
   "source": [
    "# can also pass state_values as second argument\n",
    "mc2 = MarkovChain(\n",
    "    mc.p,  # re-use transition matrix\n",
    "    [0.0, 42.0]\n",
    ")"
   ]
  },
  {
   "cell_type": "code",
   "execution_count": null,
   "metadata": {},
   "outputs": [],
   "source": [
    "mean(simulate(mc2, 100000)) # should be roughly 2/3*0 + 1/3*42 = 14"
   ]
  },
  {
   "cell_type": "code",
   "execution_count": null,
   "metadata": {},
   "outputs": [],
   "source": [
    "# can also simulate the indices\n",
    "simulate_indices(mc2, 10, init=2)"
   ]
  },
  {
   "cell_type": "code",
   "execution_count": null,
   "metadata": {
    "slideshow": {
     "slide_type": "subslide"
    }
   },
   "outputs": [],
   "source": [
    "# fill pre-allocated matrix with samples\n",
    "# each column is a time-series\n",
    "out = zeros(500, 10)\n",
    "simulate!(out, mc2, init=2)\n",
    "out"
   ]
  },
  {
   "cell_type": "code",
   "execution_count": null,
   "metadata": {
    "slideshow": {
     "slide_type": "fragment"
    }
   },
   "outputs": [],
   "source": [
    "# same with indices\n",
    "out_inds = zeros(Int, 500, 10)\n",
    "simulate_indices!(out_inds, mc2, init=2)\n",
    "out_inds"
   ]
  },
  {
   "cell_type": "code",
   "execution_count": null,
   "metadata": {
    "slideshow": {
     "slide_type": "fragment"
    }
   },
   "outputs": [],
   "source": [
    "# other things we can do with MarkovChains\n",
    "methodswith(MarkovChain)"
   ]
  },
  {
   "cell_type": "markdown",
   "metadata": {
    "slideshow": {
     "slide_type": "subslide"
    }
   },
   "source": [
    "#### Discretizing AR(1) process\n",
    "\n",
    "QuantEcon.jl provides two methods for discretizing an AR(1) process into an instance of MarkovChain:\n"
   ]
  },
  {
   "cell_type": "code",
   "execution_count": null,
   "metadata": {
    "slideshow": {
     "slide_type": "fragment"
    }
   },
   "outputs": [],
   "source": [
    "?tauchen"
   ]
  },
  {
   "cell_type": "code",
   "execution_count": null,
   "metadata": {},
   "outputs": [],
   "source": [
    "?rouwenhorst"
   ]
  },
  {
   "cell_type": "code",
   "execution_count": null,
   "metadata": {
    "slideshow": {
     "slide_type": "fragment"
    }
   },
   "outputs": [],
   "source": [
    "mc3 = rouwenhorst(10, 0.95, 1.0, 0.3)\n",
    "@show stationary_distributions(mc3)\n",
    "@show mc3.state_values\n",
    "simulate(mc3, 20)"
   ]
  },
  {
   "cell_type": "markdown",
   "metadata": {
    "slideshow": {
     "slide_type": "subslide"
    }
   },
   "source": [
    "#### Quadrature routines\n",
    "\n",
    "QuantEcon.jl has the family of Quadrature routines written by Miranda and Fackler in CompEcon as well as others used by Maliar, Maliar, and Judd"
   ]
  },
  {
   "cell_type": "code",
   "execution_count": null,
   "metadata": {
    "slideshow": {
     "slide_type": "fragment"
    }
   },
   "outputs": [],
   "source": [
    "filter(x -> startswith(string(x), \"qnw\"), names(QuantEcon))"
   ]
  },
  {
   "cell_type": "code",
   "execution_count": null,
   "metadata": {},
   "outputs": [],
   "source": [
    "?qnwnorm"
   ]
  },
  {
   "cell_type": "code",
   "execution_count": null,
   "metadata": {},
   "outputs": [],
   "source": [
    "?qnwgamma"
   ]
  },
  {
   "cell_type": "markdown",
   "metadata": {
    "slideshow": {
     "slide_type": "subslide"
    }
   },
   "source": [
    "#### Root finding and optimization\n",
    "\n",
    "QuantEcon.jl provides a handful of routines for solving or optimizing univariate functions.\n",
    "\n",
    "The solvers are: `brent` `brenth`, `bisect` and `ridder` "
   ]
  },
  {
   "cell_type": "code",
   "execution_count": null,
   "metadata": {
    "slideshow": {
     "slide_type": "fragment"
    }
   },
   "outputs": [],
   "source": [
    "f2(x) = x^2 - 1\n",
    "for solver in [brent, brenth, bisect, ridder]\n",
    "    @show solver, solver(f2, 0.5, 2.0)\n",
    "end"
   ]
  },
  {
   "cell_type": "markdown",
   "metadata": {},
   "source": [
    "The optimization routine is `golden_method`"
   ]
  },
  {
   "cell_type": "code",
   "execution_count": null,
   "metadata": {},
   "outputs": [],
   "source": [
    "# golden_method finds a max, let's find the min of x^2 - 1 between -1 and 1 (which is 0.0)\n",
    "xstar, f2star = golden_method(x -> -f2(x), -1, 1)"
   ]
  },
  {
   "cell_type": "markdown",
   "metadata": {
    "slideshow": {
     "slide_type": "slide"
    }
   },
   "source": [
    "## DSGE.jl\n",
    "\n",
    "This package was written by the FRBNY team and implements the model they use for policy analysis. At this stage DSGE.jl can solve and do forecasting exercises for a few of the FRBNYs models.\n",
    "\n",
    "The library was written in a modular way so as to allow other users to specify their own models in the same format as those included with DSGE.jl and use the solution and forecasting routines implemented by the FRBNY."
   ]
  },
  {
   "cell_type": "markdown",
   "metadata": {
    "slideshow": {
     "slide_type": "slide"
    }
   },
   "source": [
    "## Dolo.jl\n",
    "\n",
    "Dolo is a tool to describe and solve economic models.\n",
    "\n",
    "It provides a simple classification scheme to describe\n",
    "many types of models, allows to write the models as simple\n",
    "text files and compiles these files into efficient Julia\n",
    "objects/functions/methods representing them.\n",
    "\n",
    "It also provides many reference solution algorithms\n",
    "to find the solution of these models under rational expectations.\n",
    "Dolo understand several types of nonlinear models with occasionnally\n",
    "binding constraints (with or without exogenous discrete shocks).\n",
    "\n",
    "Tomorrow evening we will present Dolo more formally in Parallel Sessions C"
   ]
  },
  {
   "cell_type": "code",
   "execution_count": null,
   "metadata": {
    "collapsed": true
   },
   "outputs": [],
   "source": []
  }
 ],
 "metadata": {
  "kernelspec": {
   "display_name": "Julia 0.5.2",
   "language": "julia",
   "name": "julia-0.5"
  },
  "language_info": {
   "file_extension": ".jl",
   "mimetype": "application/julia",
   "name": "julia",
   "version": "0.5.2"
  },
  "livereveal": {
   "scroll": true,
   "start_slideshow_at": "selected",
   "theme": "white",
   "transition": "fade"
  }
 },
 "nbformat": 4,
 "nbformat_minor": 2
}
